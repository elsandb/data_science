{
 "cells": [
  {
   "cell_type": "markdown",
   "metadata": {
    "colab_type": "text",
    "dc": {
     "key": "1d0b086e6c"
    },
    "id": "s9JLDE8NIquP",
    "run_control": {
     "frozen": true
    },
    "tags": [
     "context"
    ]
   },
   "source": [
    "# The LEGO dataset - aggregation and merging of data with pandas\n",
    "\n",
    "On day 73 of \"[100 Days of Code: The Complete Python Pro Bootcamp for 2023](https://www.udemy.com/course/100-days-of-code/)\" we looked at a dataset about LEGO and the history of the company's product offering. The csv files used here, were provided in the course lesson. The data was obtained from [Rebrickable's database](https://rebrickable.com/downloads/) in late 2020 (i.e., 2019 is the last year with complete data).\n",
    "\n",
    "<br>\n",
    "From the assignment description:\n",
    "\n",
    "<p class=\"tab\"><em> \n",
    "    Today we'll dive deep into a dataset all about LEGO. From the dataset we can ask whole bunch of interesting questions about the history of the LEGO company, their product offering, and which LEGO set ultimately rules them all:</p></em>\n",
    "\n",
    "<ul>\n",
    "    <em>\n",
    "        <li>What is the most enormous LEGO set ever created and how many parts did it have?</li>\n",
    "        <li>How did the LEGO company start out? In which year were the first LEGO sets released and how many different sets did the company offer when it first launched?</li>\n",
    "        <li>Which LEGO theme has the most sets? Is it one of LEGO's own themes like Ninjago or a theme they licensed liked Harry Potter or Marvel Superheroes?</li>\n",
    "        <li>When did the LEGO company really expand its product offering? Can we spot a change in the company strategy based on how many themes and sets did it released year-on-year?</li>\n",
    "        <li>Did LEGO sets grow in size and complexity over time? Do older LEGO \n",
    "sets tend to have more or fewer parts than newer sets?</li>\n",
    "    </em>\n",
    "</ul>"
   ]
  },
  {
   "cell_type": "markdown",
   "metadata": {},
   "source": [
    "<img src=\"https://i.imgur.com/49FNOHj.jpg\" width=900 alt=\"Photo of lego pieces.\">\n",
    "\n",
    "[Image source](https://i.imgur.com/49FNOHj.jpg)"
   ]
  },
  {
   "cell_type": "markdown",
   "metadata": {
    "colab_type": "text",
    "id": "V0u2lGJuIquQ"
   },
   "source": [
    "# Import Statements"
   ]
  },
  {
   "cell_type": "code",
   "execution_count": 1,
   "metadata": {
    "colab": {},
    "colab_type": "code",
    "id": "z5Wk7rs-IquQ"
   },
   "outputs": [],
   "source": [
    "import os\n",
    "import json\n",
    "from matplotlib import pyplot as plt\n",
    "import numpy as np\n",
    "import pandas as pd"
   ]
  },
  {
   "cell_type": "markdown",
   "metadata": {},
   "source": [
    "<br>\n",
    "\n"
   ]
  },
  {
   "cell_type": "code",
   "execution_count": 2,
   "metadata": {},
   "outputs": [
    {
     "name": "stdout",
     "output_type": "stream",
     "text": [
      "{\n",
      "    \"oversikt\": {\n",
      "        \"filer\": {\n",
      "            \"data\": [\n",
      "                \"colors.csv\",\n",
      "                \"sets.csv\",\n",
      "                \"themes.csv\"\n",
      "            ]\n",
      "        }\n",
      "    },\n",
      "    \"dfs\": {},\n",
      "    \"ord og forkortelser\": {\n",
      "        \"df\": \" pandas DataFrame\",\n",
      "        \"dfs\": \"dataframes, flertall av pandas DataFrame\"\n",
      "    }\n",
      "}\n"
     ]
    }
   ],
   "source": [
    "# **Report and JSON pretty printer**\n",
    "\n",
    "import json\n",
    "import os\n",
    "\n",
    "def pp(json_object):\n",
    "    \"\"\"Pretty print a json_object (like a dict, a list of dicts or dict of dicts).\"\"\"\n",
    "    # json.dumps() takes a json_object and returns a string.\n",
    "    # To make this function print Norwegian letters (æ, ø and å): add \n",
    "    # \"ensure_ascii=False\", \".encode('UTF-8')\" and \".decode()\".\n",
    "    json_string = json.dumps(json_object, indent=4, ensure_ascii=False).encode('UTF-8')\n",
    "    print(json_string.decode())\n",
    "\n",
    "# Report dictionary (norwegian \"rapport\"): a tool for keeping track of dataframes, terms/abbrevations used and results.\n",
    "datafiler = [file for file in os.listdir('data') if not file.startswith('.')]\n",
    "\n",
    "rapport = {\n",
    "    'oversikt': {\n",
    "        'filer': {\n",
    "            'data': datafiler,\n",
    "        }\n",
    "    },\n",
    "    'dfs': {\n",
    "    },\n",
    "    'ord og forkortelser': {\n",
    "        'df': ' pandas DataFrame',\n",
    "        'dfs': 'dataframes, flertall av pandas DataFrame',\n",
    "    }\n",
    "}\n",
    "\n",
    "pp(rapport)"
   ]
  },
  {
   "cell_type": "markdown",
   "metadata": {
    "colab_type": "text",
    "id": "R5NQpJ_KIquT"
   },
   "source": [
    "# Data Exploration"
   ]
  },
  {
   "cell_type": "code",
   "execution_count": 3,
   "metadata": {
    "colab": {},
    "colab_type": "code",
    "id": "yd4G9pK7IquU"
   },
   "outputs": [
    {
     "data": {
      "text/html": [
       "<div>\n",
       "<style scoped>\n",
       "    .dataframe tbody tr th:only-of-type {\n",
       "        vertical-align: middle;\n",
       "    }\n",
       "\n",
       "    .dataframe tbody tr th {\n",
       "        vertical-align: top;\n",
       "    }\n",
       "\n",
       "    .dataframe thead th {\n",
       "        text-align: right;\n",
       "    }\n",
       "</style>\n",
       "<table border=\"1\" class=\"dataframe\">\n",
       "  <thead>\n",
       "    <tr style=\"text-align: right;\">\n",
       "      <th></th>\n",
       "      <th>id</th>\n",
       "      <th>name</th>\n",
       "      <th>rgb</th>\n",
       "      <th>is_trans</th>\n",
       "    </tr>\n",
       "  </thead>\n",
       "  <tbody>\n",
       "    <tr>\n",
       "      <th>0</th>\n",
       "      <td>-1</td>\n",
       "      <td>Unknown</td>\n",
       "      <td>0033B2</td>\n",
       "      <td>f</td>\n",
       "    </tr>\n",
       "    <tr>\n",
       "      <th>1</th>\n",
       "      <td>0</td>\n",
       "      <td>Black</td>\n",
       "      <td>05131D</td>\n",
       "      <td>f</td>\n",
       "    </tr>\n",
       "    <tr>\n",
       "      <th>2</th>\n",
       "      <td>1</td>\n",
       "      <td>Blue</td>\n",
       "      <td>0055BF</td>\n",
       "      <td>f</td>\n",
       "    </tr>\n",
       "    <tr>\n",
       "      <th>3</th>\n",
       "      <td>2</td>\n",
       "      <td>Green</td>\n",
       "      <td>237841</td>\n",
       "      <td>f</td>\n",
       "    </tr>\n",
       "    <tr>\n",
       "      <th>4</th>\n",
       "      <td>3</td>\n",
       "      <td>Dark Turquoise</td>\n",
       "      <td>008F9B</td>\n",
       "      <td>f</td>\n",
       "    </tr>\n",
       "    <tr>\n",
       "      <th>...</th>\n",
       "      <td>...</td>\n",
       "      <td>...</td>\n",
       "      <td>...</td>\n",
       "      <td>...</td>\n",
       "    </tr>\n",
       "    <tr>\n",
       "      <th>130</th>\n",
       "      <td>1004</td>\n",
       "      <td>Trans Flame Yellowish Orange</td>\n",
       "      <td>FCB76D</td>\n",
       "      <td>t</td>\n",
       "    </tr>\n",
       "    <tr>\n",
       "      <th>131</th>\n",
       "      <td>1005</td>\n",
       "      <td>Trans Fire Yellow</td>\n",
       "      <td>FBE890</td>\n",
       "      <td>t</td>\n",
       "    </tr>\n",
       "    <tr>\n",
       "      <th>132</th>\n",
       "      <td>1006</td>\n",
       "      <td>Trans Light Royal Blue</td>\n",
       "      <td>B4D4F7</td>\n",
       "      <td>t</td>\n",
       "    </tr>\n",
       "    <tr>\n",
       "      <th>133</th>\n",
       "      <td>1007</td>\n",
       "      <td>Reddish Lilac</td>\n",
       "      <td>8E5597</td>\n",
       "      <td>f</td>\n",
       "    </tr>\n",
       "    <tr>\n",
       "      <th>134</th>\n",
       "      <td>9999</td>\n",
       "      <td>[No Color]</td>\n",
       "      <td>05131D</td>\n",
       "      <td>f</td>\n",
       "    </tr>\n",
       "  </tbody>\n",
       "</table>\n",
       "<p>135 rows × 4 columns</p>\n",
       "</div>"
      ],
      "text/plain": [
       "       id                          name     rgb is_trans\n",
       "0      -1                       Unknown  0033B2        f\n",
       "1       0                         Black  05131D        f\n",
       "2       1                          Blue  0055BF        f\n",
       "3       2                         Green  237841        f\n",
       "4       3                Dark Turquoise  008F9B        f\n",
       "..    ...                           ...     ...      ...\n",
       "130  1004  Trans Flame Yellowish Orange  FCB76D        t\n",
       "131  1005             Trans Fire Yellow  FBE890        t\n",
       "132  1006        Trans Light Royal Blue  B4D4F7        t\n",
       "133  1007                 Reddish Lilac  8E5597        f\n",
       "134  9999                    [No Color]  05131D        f\n",
       "\n",
       "[135 rows x 4 columns]"
      ]
     },
     "execution_count": 3,
     "metadata": {},
     "output_type": "execute_result"
    }
   ],
   "source": [
    "colors_df = pd.read_csv('data/colors.csv')\n",
    "colors_df"
   ]
  },
  {
   "cell_type": "code",
   "execution_count": 4,
   "metadata": {},
   "outputs": [
    {
     "name": "stdout",
     "output_type": "stream",
     "text": [
      "{\n",
      "    \"0 colors_df\": [\n",
      "        \"Kolonner: ['id', 'name', 'rgb', 'is_trans']\",\n",
      "        \"Fra data/colors.csv.\",\n",
      "        \"135 rader, 4 kolonner.\",\n",
      "        \"Ingen endringer.\"\n",
      "    ]\n",
      "}\n"
     ]
    }
   ],
   "source": [
    "rapport['dfs']['0 colors_df'] = [\n",
    "    f'Kolonner: {colors_df.columns.to_list()}',\n",
    "    'Fra data/colors.csv.',\n",
    "    f'{colors_df.shape[0]} rader, {colors_df.shape[1]} kolonner.',\n",
    "    'Ingen endringer.']\n",
    "pp(rapport['dfs'])"
   ]
  },
  {
   "cell_type": "markdown",
   "metadata": {
    "colab_type": "text",
    "dc": {
     "key": "044b2cef41"
    },
    "id": "ffaG-UFYIquT",
    "run_control": {
     "frozen": true
    },
    "tags": [
     "context"
    ]
   },
   "source": [
    "---\n",
    "\n",
    "**Challenge**: How many different colours does the LEGO company produce? Read the colors.csv file in the data folder and find the total number of unique colours. Try using the [.nunique() method](https://pandas.pydata.org/pandas-docs/stable/reference/api/pandas.DataFrame.nunique.html?highlight=nunique#pandas.DataFrame.nunique) to accomplish this."
   ]
  },
  {
   "cell_type": "markdown",
   "metadata": {},
   "source": [
    "**Beskrivelse av colors_df\"**\n",
    "- 4 kolonner: `id`, `name`, `rgb`, `is_trance`.\n",
    "- count: Det er 135 rader i hver kolonne.\n",
    "- unique: Det er 135 unike `name`-verdier, og 124 unike `rgb`-verdier.\n",
    "  Spørsmålet om hvor mange ulike _farger_ som finnes, kan derfor tolkes på minst to ulike måter:\n",
    "  \n",
    "    1. **Smal definisjon**: En kan si at RGB-verien er _selve fargen_, og at det derfor er 124 ulike farger. I tillegg finnes det andre \n",
    "       egenskaper/faktorer (f.eks. gjennomsiktighet) som gjør at legobiter med samme farge (RGB-verdi) har ulikt utseende.\n",
    "       \n",
    "    2. **Bred definisjon:** Eller man kan definere _farge_ som de egenskapene ved en legobit som ikke er relatert til form, altså RGB-verdi, \n",
    "       gjennomsiktighet, matthet, med flere. Om _tekstur_ i så fall skal klassifiseres som _form_ eller _farge_, er et spørsmål jeg \n",
    "       ikke vil diskutere her.\n",
    "       \n",
    "  - I bricklink sin [Color Guide](https://www.bricklink.com/catalogColors.asp) skilles det mellom blant annet \n",
    "    \"Solid Colors\", \"Transparent Colors\" og \"Metallic Colors\", og jeg vil derfor bruke den brede definisjonen her.\n",
    "    Det vil si at jeg anser hvert unike navn i color_df som en unik farge.\n",
    "\n",
    "- I kolonnen `is_trans` angis det om fargen er transparent ('t' for true) eller ikke ('f' for false)."
   ]
  },
  {
   "cell_type": "code",
   "execution_count": 5,
   "metadata": {},
   "outputs": [
    {
     "name": "stdout",
     "output_type": "stream",
     "text": [
      "                 id     name     rgb is_trans\n",
      "count    135.000000      135     135      135\n",
      "unique          NaN      135     124        2\n",
      "top             NaN  Unknown  FFFFFF        f\n",
      "freq            NaN        1       3      107\n",
      "mean     253.037037      NaN     NaN      NaN\n",
      "std      878.441466      NaN     NaN      NaN\n",
      "min       -1.000000      NaN     NaN      NaN\n",
      "25%       34.500000      NaN     NaN      NaN\n",
      "50%       85.000000      NaN     NaN      NaN\n",
      "75%      231.000000      NaN     NaN      NaN\n",
      "max     9999.000000      NaN     NaN      NaN\n",
      "\n"
     ]
    }
   ],
   "source": [
    "print(colors_df.describe(include='all'), end='\\n\\n')"
   ]
  },
  {
   "cell_type": "code",
   "execution_count": 6,
   "metadata": {},
   "outputs": [
    {
     "name": "stdout",
     "output_type": "stream",
     "text": [
      "Numer of unique names:  135\n",
      "\n",
      "id          135\n",
      "name        135\n",
      "rgb         124\n",
      "is_trans      2\n",
      "dtype: int64\n"
     ]
    },
    {
     "data": {
      "text/plain": [
       "135"
      ]
     },
     "execution_count": 6,
     "metadata": {},
     "output_type": "execute_result"
    }
   ],
   "source": [
    "print('Numer of unique names: ', len(colors_df.name.unique()), end='\\n\\n') # unique_names\n",
    "print(colors_df.nunique(axis='index', dropna=False)) # With this method, it is possible to ignore NaN values.\n",
    "n_unique_colors = colors_df['name'].nunique()\n",
    "n_unique_colors"
   ]
  },
  {
   "cell_type": "markdown",
   "metadata": {
    "colab": {},
    "colab_type": "code",
    "dc": {
     "key": "044b2cef41"
    },
    "id": "QmbAXax7IquW",
    "tags": [
     "sample_code"
    ]
   },
   "source": [
    "<p style=\"color: magenta;\">LEGO produserer legobrikker med 135 ulike farger."
   ]
  },
  {
   "cell_type": "code",
   "execution_count": 7,
   "metadata": {},
   "outputs": [],
   "source": [
    "rapport['Resultater'] = {'Antall lego-farger': \"LEGO produserer lego med 135 ulike farger (var: n_unique_colors). \\\n",
    "En LEGO-farge er ikke bare karakterisert ved sin RGB-verdi; LEGO-farger med lik RGB-verdi, har ulike navn dersom \\\n",
    "de er forskjellige med hensyn på andre faktorer som gjennomsiktighet, matthet/glans, glitter-innhold, med fler.\"}"
   ]
  },
  {
   "cell_type": "markdown",
   "metadata": {
    "colab_type": "text",
    "dc": {
     "key": "a5723ae5c2"
    },
    "id": "PItRbqgcIqua",
    "run_control": {
     "frozen": true
    },
    "tags": [
     "context"
    ]
   },
   "source": [
    "<br><br>\n",
    "\n",
    "---\n",
    "\n",
    "**Challenge**: Find the number of transparent colours where <code>is_trans == 't'</code> versus the number of opaque colours where <code>is_trans == 'f'</code>. See if you can accomplish this in two different ways.\n",
    "\n",
    "<p style=\"color: magenta;\"> Av de 135 LEGO-fargene er 28 transparente. De resterende 107 er ugjennomsiktige (engelsk: opaque)."
   ]
  },
  {
   "cell_type": "code",
   "execution_count": 8,
   "metadata": {
    "colab": {},
    "colab_type": "code",
    "id": "1UZrfq82Iqub"
   },
   "outputs": [
    {
     "name": "stdout",
     "output_type": "stream",
     "text": [
      "28 28 28\n",
      "\n",
      "107\n"
     ]
    }
   ],
   "source": [
    "# Get number of 't' in is_trans:\n",
    "n_trans_1 = len(colors_df[colors_df.is_trans == 't'])     # len()\n",
    "n_trans_2 = colors_df[colors_df.is_trans == 't'].shape[0]   # .shape[0] = number of rows\n",
    "n_trans_3 = (colors_df['is_trans'] == 't').sum()    # sum()\n",
    "print(n_trans_1, n_trans_2, n_trans_3, end='\\n\\n')\n",
    "\n",
    "# Count number of 'f' in is_trans:\n",
    "n_not_trans = len(colors_df[colors_df.is_trans == 'f'])\n",
    "print(n_not_trans)"
   ]
  },
  {
   "cell_type": "code",
   "execution_count": 9,
   "metadata": {},
   "outputs": [
    {
     "data": {
      "text/html": [
       "<div>\n",
       "<style scoped>\n",
       "    .dataframe tbody tr th:only-of-type {\n",
       "        vertical-align: middle;\n",
       "    }\n",
       "\n",
       "    .dataframe tbody tr th {\n",
       "        vertical-align: top;\n",
       "    }\n",
       "\n",
       "    .dataframe thead th {\n",
       "        text-align: right;\n",
       "    }\n",
       "</style>\n",
       "<table border=\"1\" class=\"dataframe\">\n",
       "  <thead>\n",
       "    <tr style=\"text-align: right;\">\n",
       "      <th></th>\n",
       "      <th>id</th>\n",
       "      <th>name</th>\n",
       "      <th>rgb</th>\n",
       "    </tr>\n",
       "    <tr>\n",
       "      <th>is_trans</th>\n",
       "      <th></th>\n",
       "      <th></th>\n",
       "      <th></th>\n",
       "    </tr>\n",
       "  </thead>\n",
       "  <tbody>\n",
       "    <tr>\n",
       "      <th>f</th>\n",
       "      <td>107</td>\n",
       "      <td>107</td>\n",
       "      <td>107</td>\n",
       "    </tr>\n",
       "    <tr>\n",
       "      <th>t</th>\n",
       "      <td>28</td>\n",
       "      <td>28</td>\n",
       "      <td>28</td>\n",
       "    </tr>\n",
       "  </tbody>\n",
       "</table>\n",
       "</div>"
      ],
      "text/plain": [
       "           id  name  rgb\n",
       "is_trans                \n",
       "f         107   107  107\n",
       "t          28    28   28"
      ]
     },
     "execution_count": 9,
     "metadata": {},
     "output_type": "execute_result"
    }
   ],
   "source": [
    "# Get number og 't' and 'f' in is_trans with groupby().count()\n",
    "trans_counts = colors_df.groupby(by='is_trans').count()\n",
    "trans_counts"
   ]
  },
  {
   "cell_type": "code",
   "execution_count": 10,
   "metadata": {},
   "outputs": [
    {
     "data": {
      "text/plain": [
       "f    107\n",
       "t     28\n",
       "Name: is_trans, dtype: int64"
      ]
     },
     "execution_count": 10,
     "metadata": {},
     "output_type": "execute_result"
    }
   ],
   "source": [
    "# Get number of each value in is_trans:\n",
    "trans_counts_s = colors_df['is_trans'].value_counts(dropna=False) # --> Series\n",
    "trans_counts_s"
   ]
  },
  {
   "cell_type": "code",
   "execution_count": 11,
   "metadata": {},
   "outputs": [
    {
     "data": {
      "image/png": "[encoded data removed]",
      "text/plain": [
       "<Figure size 400x230 with 1 Axes>"
      ]
     },
     "metadata": {},
     "output_type": "display_data"
    }
   ],
   "source": [
    "x = trans_counts_s.index.to_list()\n",
    "y = trans_counts_s.to_list()\n",
    "\n",
    "fig, ax = plt.subplots(figsize=(4, 2.3))\n",
    "ax.bar(x, y)\n",
    "\n",
    "plt.show()"
   ]
  },
  {
   "cell_type": "code",
   "execution_count": 12,
   "metadata": {},
   "outputs": [],
   "source": [
    "rapport['Series'] = {\n",
    "    'trans_counts_s': \"Antall transparente og ikke-transparente LEGO-farger \\\n",
    "    (angitt med t=true, f=false i kolonnen is_trans i colors_df). \\\n",
    "    Antall 't' = 28 = antall LEGO-farger som er gjennomsiktig. \\\n",
    "    Antall 'f' = 107 = antall ikke-gjennomsiktige LEGO-farger.\"}\n",
    "\n",
    "rapport['Resultater']['Antall transparente farger'] = \"Av 135 LEGO-fargene er \\\n",
    "28 transparente. De resterende 107 er ugjennomsiktige (engelsk: opaque).\""
   ]
  },
  {
   "cell_type": "markdown",
   "metadata": {
    "colab_type": "text",
    "id": "y0kxCh63uwOv"
   },
   "source": [
    "---\n",
    "<h3 style=\"color: green;\">Understanding LEGO Themes vs. LEGO Sets</h3>\n",
    "\n",
    "<font size=\"3\">LEGO's products are organised by **theme**. Star Wars, Batman, Harry Potter are just a few examples.</font>\n",
    "\n",
    "<img src=\"https://i.imgur.com/aKcwkSx.png\" width=900>\n",
    "\n",
    "<font size=\"2\">[Image source](https://i.imgur.com/aKcwkSx.png)</font>\n",
    "\n",
    "\n",
    "<font size=\"3\">A lego **set** is a particular box of LEGO or product. Therefore, a single theme typically has many different sets.</font>\n",
    "\n",
    "<img src=\"https://i.imgur.com/whB1olq.png\" width=900>\n",
    "\n",
    "<font size=\"2\">[Image source](https://i.imgur.com/whB1olq.png)</font>"
   ]
  },
  {
   "cell_type": "code",
   "execution_count": 13,
   "metadata": {},
   "outputs": [],
   "source": [
    "rapport['ord og forkortelser']['theme'] = \"LEGO sine produkter organiseres etter tema, f.eks. Batman og Harry Potter. \\\n",
    "Innenfor hver tema, finnes det ofte mange ulike sett.\"\n",
    "rapport['ord og forkortelser']['set'] = \"Et legosett er en spesifikk boks med LEGO.\""
   ]
  },
  {
   "cell_type": "markdown",
   "metadata": {
    "colab_type": "text",
    "id": "jJTAROe5unkx"
   },
   "source": [
    "---\n",
    "<code>sets.csv</code> inneholder en liste over LEGO-sett.\n",
    "- `set_num` sett-nummeret - en unik ID for hvert sett.\n",
    "- `name` settets navn. \n",
    "- `year` hvilket år settet ble utgitt. \n",
    "- `theme_id`: hvilket tema settet hører til, angitt ved theme_id som refererer til key-id i themes.csv.\n",
    "- `num_parts`: antall deler i settet.\n",
    "\n",
    "**Challenge**: Read the sets.csv data and take a look at the first and last couple of rows. "
   ]
  },
  {
   "cell_type": "code",
   "execution_count": 14,
   "metadata": {
    "colab": {},
    "colab_type": "code",
    "id": "vGMOv-NRIquh"
   },
   "outputs": [
    {
     "data": {
      "text/html": [
       "<div>\n",
       "<style scoped>\n",
       "    .dataframe tbody tr th:only-of-type {\n",
       "        vertical-align: middle;\n",
       "    }\n",
       "\n",
       "    .dataframe tbody tr th {\n",
       "        vertical-align: top;\n",
       "    }\n",
       "\n",
       "    .dataframe thead th {\n",
       "        text-align: right;\n",
       "    }\n",
       "</style>\n",
       "<table border=\"1\" class=\"dataframe\">\n",
       "  <thead>\n",
       "    <tr style=\"text-align: right;\">\n",
       "      <th></th>\n",
       "      <th>set_num</th>\n",
       "      <th>name</th>\n",
       "      <th>year</th>\n",
       "      <th>theme_id</th>\n",
       "      <th>num_parts</th>\n",
       "    </tr>\n",
       "  </thead>\n",
       "  <tbody>\n",
       "    <tr>\n",
       "      <th>0</th>\n",
       "      <td>001-1</td>\n",
       "      <td>Gears</td>\n",
       "      <td>1965</td>\n",
       "      <td>1</td>\n",
       "      <td>43</td>\n",
       "    </tr>\n",
       "    <tr>\n",
       "      <th>1</th>\n",
       "      <td>0011-2</td>\n",
       "      <td>Town Mini-Figures</td>\n",
       "      <td>1978</td>\n",
       "      <td>84</td>\n",
       "      <td>12</td>\n",
       "    </tr>\n",
       "    <tr>\n",
       "      <th>2</th>\n",
       "      <td>0011-3</td>\n",
       "      <td>Castle 2 for 1 Bonus Offer</td>\n",
       "      <td>1987</td>\n",
       "      <td>199</td>\n",
       "      <td>0</td>\n",
       "    </tr>\n",
       "    <tr>\n",
       "      <th>3</th>\n",
       "      <td>0012-1</td>\n",
       "      <td>Space Mini-Figures</td>\n",
       "      <td>1979</td>\n",
       "      <td>143</td>\n",
       "      <td>12</td>\n",
       "    </tr>\n",
       "    <tr>\n",
       "      <th>4</th>\n",
       "      <td>0013-1</td>\n",
       "      <td>Space Mini-Figures</td>\n",
       "      <td>1979</td>\n",
       "      <td>143</td>\n",
       "      <td>12</td>\n",
       "    </tr>\n",
       "    <tr>\n",
       "      <th>...</th>\n",
       "      <td>...</td>\n",
       "      <td>...</td>\n",
       "      <td>...</td>\n",
       "      <td>...</td>\n",
       "      <td>...</td>\n",
       "    </tr>\n",
       "    <tr>\n",
       "      <th>15705</th>\n",
       "      <td>wwgp1-1</td>\n",
       "      <td>Wild West Limited Edition Gift Pack</td>\n",
       "      <td>1996</td>\n",
       "      <td>476</td>\n",
       "      <td>0</td>\n",
       "    </tr>\n",
       "    <tr>\n",
       "      <th>15706</th>\n",
       "      <td>XMASTREE-1</td>\n",
       "      <td>Christmas Tree</td>\n",
       "      <td>2019</td>\n",
       "      <td>410</td>\n",
       "      <td>26</td>\n",
       "    </tr>\n",
       "    <tr>\n",
       "      <th>15707</th>\n",
       "      <td>XWING-1</td>\n",
       "      <td>Mini X-Wing Fighter</td>\n",
       "      <td>2019</td>\n",
       "      <td>158</td>\n",
       "      <td>60</td>\n",
       "    </tr>\n",
       "    <tr>\n",
       "      <th>15708</th>\n",
       "      <td>XWING-2</td>\n",
       "      <td>X-Wing Trench Run</td>\n",
       "      <td>2019</td>\n",
       "      <td>158</td>\n",
       "      <td>52</td>\n",
       "    </tr>\n",
       "    <tr>\n",
       "      <th>15709</th>\n",
       "      <td>YODACHRON-1</td>\n",
       "      <td>Yoda Chronicles Promotional Set</td>\n",
       "      <td>2013</td>\n",
       "      <td>158</td>\n",
       "      <td>413</td>\n",
       "    </tr>\n",
       "  </tbody>\n",
       "</table>\n",
       "<p>15710 rows × 5 columns</p>\n",
       "</div>"
      ],
      "text/plain": [
       "           set_num                                 name  year  theme_id  \\\n",
       "0            001-1                                Gears  1965         1   \n",
       "1           0011-2                    Town Mini-Figures  1978        84   \n",
       "2           0011-3           Castle 2 for 1 Bonus Offer  1987       199   \n",
       "3           0012-1                   Space Mini-Figures  1979       143   \n",
       "4           0013-1                   Space Mini-Figures  1979       143   \n",
       "...            ...                                  ...   ...       ...   \n",
       "15705      wwgp1-1  Wild West Limited Edition Gift Pack  1996       476   \n",
       "15706   XMASTREE-1                       Christmas Tree  2019       410   \n",
       "15707      XWING-1                  Mini X-Wing Fighter  2019       158   \n",
       "15708      XWING-2                    X-Wing Trench Run  2019       158   \n",
       "15709  YODACHRON-1      Yoda Chronicles Promotional Set  2013       158   \n",
       "\n",
       "       num_parts  \n",
       "0             43  \n",
       "1             12  \n",
       "2              0  \n",
       "3             12  \n",
       "4             12  \n",
       "...          ...  \n",
       "15705          0  \n",
       "15706         26  \n",
       "15707         60  \n",
       "15708         52  \n",
       "15709        413  \n",
       "\n",
       "[15710 rows x 5 columns]"
      ]
     },
     "execution_count": 14,
     "metadata": {},
     "output_type": "execute_result"
    }
   ],
   "source": [
    "sets_df = pd.read_csv('data/sets.csv')\n",
    "sets_df"
   ]
  },
  {
   "cell_type": "code",
   "execution_count": 15,
   "metadata": {
    "tags": []
   },
   "outputs": [],
   "source": [
    "rapport['dfs']['1 sets_df'] = [\n",
    "    f\"Kolonner: {sets_df.columns.to_list()}\",\n",
    "    \"Fra 'data/sets.csv'.\",\n",
    "    \"15710 rader, 5 kolonner.\",\n",
    "    \"Ingen endringer\"\n",
    "]"
   ]
  },
  {
   "cell_type": "code",
   "execution_count": 16,
   "metadata": {
    "colab": {},
    "colab_type": "code",
    "id": "T3lLFvyZIqui"
   },
   "outputs": [
    {
     "data": {
      "text/plain": [
       "set_num      object\n",
       "name         object\n",
       "year          int64\n",
       "theme_id      int64\n",
       "num_parts     int64\n",
       "dtype: object"
      ]
     },
     "execution_count": 16,
     "metadata": {},
     "output_type": "execute_result"
    }
   ],
   "source": [
    "sets_df.dtypes"
   ]
  },
  {
   "cell_type": "markdown",
   "metadata": {
    "colab_type": "text",
    "id": "ez-UXSMUIqum"
   },
   "source": [
    "\n",
    "<br>\n",
    "\n",
    "**Challenge**: In which year were the first LEGO sets released and what were these sets called?\n",
    "\n",
    "<p style=\"color: magenta;\">De første legosettene ble utgitt i 1949. De ble kalt:\n",
    "'Extra-Large Gift Set (ABB)', 'Large Gift Set (ABB)', 'Medium Gift Set (ABB)',<br>'Small Brick Set (ABB)', 'Small Doors and Windows Set (ABB)'</p>"
   ]
  },
  {
   "cell_type": "code",
   "execution_count": 17,
   "metadata": {
    "colab": {},
    "colab_type": "code",
    "id": "s2aL6qrGIqum"
   },
   "outputs": [
    {
     "name": "stdout",
     "output_type": "stream",
     "text": [
      "year of first set:  1949\n"
     ]
    },
    {
     "data": {
      "text/plain": [
       "['Extra-Large Gift Set (ABB)',\n",
       " 'Large Gift Set (ABB)',\n",
       " 'Medium Gift Set (ABB)',\n",
       " 'Small Brick Set (ABB)',\n",
       " 'Small Doors and Windows Set (ABB)']"
      ]
     },
     "execution_count": 17,
     "metadata": {},
     "output_type": "execute_result"
    }
   ],
   "source": [
    "year_of_first_set = sets_df.year.min() # 1949\n",
    "print('year of first set: ', year_of_first_set)\n",
    "\n",
    "set_names_1949 = sets_df[sets_df.year == 1949].name\n",
    "[name for name in set_names_1949]"
   ]
  },
  {
   "cell_type": "code",
   "execution_count": 18,
   "metadata": {},
   "outputs": [
    {
     "data": {
      "text/html": [
       "<div>\n",
       "<style scoped>\n",
       "    .dataframe tbody tr th:only-of-type {\n",
       "        vertical-align: middle;\n",
       "    }\n",
       "\n",
       "    .dataframe tbody tr th {\n",
       "        vertical-align: top;\n",
       "    }\n",
       "\n",
       "    .dataframe thead th {\n",
       "        text-align: right;\n",
       "    }\n",
       "</style>\n",
       "<table border=\"1\" class=\"dataframe\">\n",
       "  <thead>\n",
       "    <tr style=\"text-align: right;\">\n",
       "      <th></th>\n",
       "      <th>set_num</th>\n",
       "      <th>name</th>\n",
       "      <th>year</th>\n",
       "      <th>theme_id</th>\n",
       "      <th>num_parts</th>\n",
       "    </tr>\n",
       "  </thead>\n",
       "  <tbody>\n",
       "    <tr>\n",
       "      <th>9521</th>\n",
       "      <td>700.1-1</td>\n",
       "      <td>Extra-Large Gift Set (ABB)</td>\n",
       "      <td>1949</td>\n",
       "      <td>365</td>\n",
       "      <td>142</td>\n",
       "    </tr>\n",
       "    <tr>\n",
       "      <th>9534</th>\n",
       "      <td>700.2-1</td>\n",
       "      <td>Large Gift Set (ABB)</td>\n",
       "      <td>1949</td>\n",
       "      <td>365</td>\n",
       "      <td>178</td>\n",
       "    </tr>\n",
       "    <tr>\n",
       "      <th>9539</th>\n",
       "      <td>700.3-1</td>\n",
       "      <td>Medium Gift Set (ABB)</td>\n",
       "      <td>1949</td>\n",
       "      <td>365</td>\n",
       "      <td>142</td>\n",
       "    </tr>\n",
       "    <tr>\n",
       "      <th>9544</th>\n",
       "      <td>700.A-1</td>\n",
       "      <td>Small Brick Set (ABB)</td>\n",
       "      <td>1949</td>\n",
       "      <td>371</td>\n",
       "      <td>24</td>\n",
       "    </tr>\n",
       "    <tr>\n",
       "      <th>9545</th>\n",
       "      <td>700.B-1</td>\n",
       "      <td>Small Doors and Windows Set (ABB)</td>\n",
       "      <td>1949</td>\n",
       "      <td>371</td>\n",
       "      <td>12</td>\n",
       "    </tr>\n",
       "    <tr>\n",
       "      <th>9526</th>\n",
       "      <td>700.1.2-1</td>\n",
       "      <td>Single 2 x 2 Brick (ABB)</td>\n",
       "      <td>1950</td>\n",
       "      <td>371</td>\n",
       "      <td>1</td>\n",
       "    </tr>\n",
       "  </tbody>\n",
       "</table>\n",
       "</div>"
      ],
      "text/plain": [
       "        set_num                               name  year  theme_id  num_parts\n",
       "9521    700.1-1         Extra-Large Gift Set (ABB)  1949       365        142\n",
       "9534    700.2-1               Large Gift Set (ABB)  1949       365        178\n",
       "9539    700.3-1              Medium Gift Set (ABB)  1949       365        142\n",
       "9544    700.A-1              Small Brick Set (ABB)  1949       371         24\n",
       "9545    700.B-1  Small Doors and Windows Set (ABB)  1949       371         12\n",
       "9526  700.1.2-1           Single 2 x 2 Brick (ABB)  1950       371          1"
      ]
     },
     "execution_count": 18,
     "metadata": {},
     "output_type": "execute_result"
    }
   ],
   "source": [
    "sets_year = sets_df.sort_values(by='year')\n",
    "sets_year.head(6)"
   ]
  },
  {
   "cell_type": "markdown",
   "metadata": {
    "colab_type": "text",
    "id": "JJoK3M8TBAVU"
   },
   "source": [
    "<br><br>**Challenge**: How many different sets did LEGO sell in their first year? How many types of LEGO products were on offer in the year the company started?\n",
    "\n",
    "<p style=\"color: magenta;\">\n",
    "LEGO hadde bare 5 ulike sett på markedet det første året, og de var fordelt på 2 uilke temaer (theme_id 365 og 371).\n",
    "</p>"
   ]
  },
  {
   "cell_type": "code",
   "execution_count": 19,
   "metadata": {
    "colab": {},
    "colab_type": "code",
    "id": "h-Tf1w7IBBg9"
   },
   "outputs": [
    {
     "data": {
      "text/html": [
       "<div>\n",
       "<style scoped>\n",
       "    .dataframe tbody tr th:only-of-type {\n",
       "        vertical-align: middle;\n",
       "    }\n",
       "\n",
       "    .dataframe tbody tr th {\n",
       "        vertical-align: top;\n",
       "    }\n",
       "\n",
       "    .dataframe thead th {\n",
       "        text-align: right;\n",
       "    }\n",
       "</style>\n",
       "<table border=\"1\" class=\"dataframe\">\n",
       "  <thead>\n",
       "    <tr style=\"text-align: right;\">\n",
       "      <th></th>\n",
       "      <th>set_num</th>\n",
       "      <th>name</th>\n",
       "      <th>year</th>\n",
       "      <th>theme_id</th>\n",
       "      <th>num_parts</th>\n",
       "    </tr>\n",
       "  </thead>\n",
       "  <tbody>\n",
       "    <tr>\n",
       "      <th>9521</th>\n",
       "      <td>700.1-1</td>\n",
       "      <td>Extra-Large Gift Set (ABB)</td>\n",
       "      <td>1949</td>\n",
       "      <td>365</td>\n",
       "      <td>142</td>\n",
       "    </tr>\n",
       "    <tr>\n",
       "      <th>9534</th>\n",
       "      <td>700.2-1</td>\n",
       "      <td>Large Gift Set (ABB)</td>\n",
       "      <td>1949</td>\n",
       "      <td>365</td>\n",
       "      <td>178</td>\n",
       "    </tr>\n",
       "    <tr>\n",
       "      <th>9539</th>\n",
       "      <td>700.3-1</td>\n",
       "      <td>Medium Gift Set (ABB)</td>\n",
       "      <td>1949</td>\n",
       "      <td>365</td>\n",
       "      <td>142</td>\n",
       "    </tr>\n",
       "    <tr>\n",
       "      <th>9544</th>\n",
       "      <td>700.A-1</td>\n",
       "      <td>Small Brick Set (ABB)</td>\n",
       "      <td>1949</td>\n",
       "      <td>371</td>\n",
       "      <td>24</td>\n",
       "    </tr>\n",
       "    <tr>\n",
       "      <th>9545</th>\n",
       "      <td>700.B-1</td>\n",
       "      <td>Small Doors and Windows Set (ABB)</td>\n",
       "      <td>1949</td>\n",
       "      <td>371</td>\n",
       "      <td>12</td>\n",
       "    </tr>\n",
       "  </tbody>\n",
       "</table>\n",
       "</div>"
      ],
      "text/plain": [
       "      set_num                               name  year  theme_id  num_parts\n",
       "9521  700.1-1         Extra-Large Gift Set (ABB)  1949       365        142\n",
       "9534  700.2-1               Large Gift Set (ABB)  1949       365        178\n",
       "9539  700.3-1              Medium Gift Set (ABB)  1949       365        142\n",
       "9544  700.A-1              Small Brick Set (ABB)  1949       371         24\n",
       "9545  700.B-1  Small Doors and Windows Set (ABB)  1949       371         12"
      ]
     },
     "execution_count": 19,
     "metadata": {},
     "output_type": "execute_result"
    }
   ],
   "source": [
    "# Sets released in 1949\n",
    "sets_1949_df = sets_df[sets_df.year == 1949]\n",
    "sets_1949_df"
   ]
  },
  {
   "cell_type": "code",
   "execution_count": 20,
   "metadata": {},
   "outputs": [
    {
     "name": "stdout",
     "output_type": "stream",
     "text": [
      "num_sets_1949_df:  5\n",
      "\n",
      "number of different themes among the 1949-sets:  2\n",
      "\n"
     ]
    }
   ],
   "source": [
    "# Number of sets released in 1949\n",
    "print('num_sets_1949_df: ', len(sets_1949_df), end='\\n\\n')\n",
    "\n",
    "print('number of different themes among the 1949-sets: ', sets_1949_df.theme_id.nunique(), end='\\n\\n')"
   ]
  },
  {
   "cell_type": "code",
   "execution_count": 21,
   "metadata": {},
   "outputs": [],
   "source": [
    "rapport['dfs']['2 sets_1949_df'] = [\"Fra sets_df. Kun rader der 'year'==1949.\", \"Kode: sets_df[sets_df.year == 1949]\", \"5 rader, 5 kolonner.\"]\n",
    "\n",
    "rapport['Resultater']['De første LEGO-settene'] = [\n",
    "                      \"Det første legosettet ble utgitt i 1949. Det var 5 ulike sett, fordelt på to temaer (theme_id 365 og 371).\",\n",
    "                      f\"Navn på settene: {set_names_1949.to_list()}\",]"
   ]
  },
  {
   "cell_type": "markdown",
   "metadata": {
    "colab_type": "text",
    "id": "RJMMYQYqIquo"
   },
   "source": [
    "<br><br>\n",
    "\n",
    "**Challenge**: Find the top 5 LEGO sets with the most number of parts.\n",
    "\n",
    "<p style=\"color: magenta;\">De 5 legosettene med flest deler er 'The Ultimate Battle for Chima', 'UCS Millennium Falcon', 'Hogwarts Castle', 'Taj Mahal' fra 1017 og 'Taj Mahal' fra 2008.</p>"
   ]
  },
  {
   "cell_type": "code",
   "execution_count": 22,
   "metadata": {
    "colab": {},
    "colab_type": "code",
    "id": "toJvjRuQIqup"
   },
   "outputs": [
    {
     "name": "stdout",
     "output_type": "stream",
     "text": [
      "        set_num                           name  year  theme_id  num_parts\n",
      "15004  BIGBOX-1  The Ultimate Battle for Chima  2015       571       9987\n",
      "11183   75192-1          UCS Millennium Falcon  2017       171       7541\n",
      "10551   71043-1                Hogwarts Castle  2018       246       6020\n",
      "295     10256-1                      Taj Mahal  2017       673       5923\n",
      "221     10189-1                      Taj Mahal  2008       673       5922\n",
      "11471   75978-1                   Diagon Alley  2020       246       5547\n",
      "\n",
      "['The Ultimate Battle for Chima', 'UCS Millennium Falcon', 'Hogwarts Castle', 'Taj Mahal', 'Taj Mahal']\n"
     ]
    }
   ],
   "source": [
    "top_parts = sets_df.sort_values(by='num_parts', ascending=False).head(6) # Most parts - top 6 sets (to see if number 5 and 6 has same num_parts).\n",
    "print(top_parts, end=\"\\n\\n\")\n",
    "\n",
    "print(top_parts.name[:5].tolist()) # Names of top 5."
   ]
  },
  {
   "cell_type": "code",
   "execution_count": 23,
   "metadata": {},
   "outputs": [],
   "source": [
    "rapport['Resultater']['Sett med flest deler'] = f\"De fem settene med flest deler: {top_parts.name[:5].tolist()}. \\\n",
    "De to settene med navn 'Taj Mahal' er fra 2017 og 2008, der førstnevnte har en bit mer enn sistnevnte.\""
   ]
  },
  {
   "cell_type": "markdown",
   "metadata": {
    "colab_type": "text",
    "id": "uSyhOzAHIqur"
   },
   "source": [
    "<br><br>\n",
    "## Number of sets published over time\n",
    "\n",
    "**Challenge**: Use <code>.groupby()</code> and <code>.count()</code> to show the number of LEGO sets released year-on-year. How do the number of sets released in 1955 compare to the number of sets released in 2019? \n",
    "\n",
    "<p style=\"color: magenta;\">Antall sett utgitt er mange ganger høyere i 2019 (med 840 sett) enn i 1955 da det bare ble utgitt 28 sett.</p>\n",
    "\n",
    "**Challenge**: Show the number of LEGO releases on a line chart using Matplotlib. <br>\n",
    "Note that the .csv file is from late 2020, so to plot the full calendar years, you will have to exclude some data from your chart."
   ]
  },
  {
   "cell_type": "code",
   "execution_count": 24,
   "metadata": {
    "colab": {},
    "colab_type": "code",
    "id": "qjdrktZAIqus",
    "scrolled": true
   },
   "outputs": [
    {
     "data": {
      "text/plain": [
       "year\n",
       "1949     5\n",
       "1950     6\n",
       "1953     4\n",
       "1954    14\n",
       "1955    28\n",
       "Name: set_num, dtype: int64"
      ]
     },
     "execution_count": 24,
     "metadata": {},
     "output_type": "execute_result"
    }
   ],
   "source": [
    "sets_per_year = sets_df.groupby(by='year').count()['set_num']\n",
    "# An equivalent: sets_per_year = sets_df.groupby(by='year').size()\n",
    "sets_per_year.head(5)"
   ]
  },
  {
   "cell_type": "code",
   "execution_count": 25,
   "metadata": {
    "colab": {},
    "colab_type": "code",
    "id": "Nckj4lSGIquw"
   },
   "outputs": [
    {
     "data": {
      "image/png": "[encoded data removed]",
      "text/plain": [
       "<Figure size 500x230 with 1 Axes>"
      ]
     },
     "metadata": {},
     "output_type": "display_data"
    }
   ],
   "source": [
    "# Date\n",
    "years = sets_per_year.index[:-2]\n",
    "sets = sets_per_year.values[:-2]\n",
    "\n",
    "# Figure\n",
    "fig, ax = plt.subplots(figsize=(5, 2.3))\n",
    "fig.suptitle('Antall LEGO-sett utgitt per år (1949-2019)')\n",
    "ax.plot(years, sets)\n",
    "ax.set_xlabel('År')\n",
    "ax.set_ylabel('Antall sett')\n",
    "plt.show()"
   ]
  },
  {
   "cell_type": "markdown",
   "metadata": {
    "colab_type": "text",
    "id": "xrDeNYYXIqu1"
   },
   "source": [
    "<br>\n",
    "\n",
    "## Aggregate Data with the Python .agg() Function\n",
    "\n",
    "### Number of Themes per Calendar Year\n",
    "\n",
    "Let's work out the number of different themes shipped by year. This means we have to count the number of unique theme_ids per calendar year."
   ]
  },
  {
   "cell_type": "code",
   "execution_count": 26,
   "metadata": {
    "colab": {},
    "colab_type": "code",
    "dc": {
     "key": "266a3f390c"
    },
    "id": "qx8pTau4Iqu2",
    "tags": [
     "sample_code"
    ]
   },
   "outputs": [
    {
     "data": {
      "text/html": [
       "<div>\n",
       "<style scoped>\n",
       "    .dataframe tbody tr th:only-of-type {\n",
       "        vertical-align: middle;\n",
       "    }\n",
       "\n",
       "    .dataframe tbody tr th {\n",
       "        vertical-align: top;\n",
       "    }\n",
       "\n",
       "    .dataframe thead th {\n",
       "        text-align: right;\n",
       "    }\n",
       "</style>\n",
       "<table border=\"1\" class=\"dataframe\">\n",
       "  <thead>\n",
       "    <tr style=\"text-align: right;\">\n",
       "      <th></th>\n",
       "      <th>themes</th>\n",
       "    </tr>\n",
       "    <tr>\n",
       "      <th>year</th>\n",
       "      <th></th>\n",
       "    </tr>\n",
       "  </thead>\n",
       "  <tbody>\n",
       "    <tr>\n",
       "      <th>1949</th>\n",
       "      <td>2</td>\n",
       "    </tr>\n",
       "    <tr>\n",
       "      <th>1950</th>\n",
       "      <td>1</td>\n",
       "    </tr>\n",
       "    <tr>\n",
       "      <th>1953</th>\n",
       "      <td>2</td>\n",
       "    </tr>\n",
       "    <tr>\n",
       "      <th>1954</th>\n",
       "      <td>2</td>\n",
       "    </tr>\n",
       "    <tr>\n",
       "      <th>1955</th>\n",
       "      <td>4</td>\n",
       "    </tr>\n",
       "    <tr>\n",
       "      <th>...</th>\n",
       "      <td>...</td>\n",
       "    </tr>\n",
       "    <tr>\n",
       "      <th>2017</th>\n",
       "      <td>89</td>\n",
       "    </tr>\n",
       "    <tr>\n",
       "      <th>2018</th>\n",
       "      <td>93</td>\n",
       "    </tr>\n",
       "    <tr>\n",
       "      <th>2019</th>\n",
       "      <td>78</td>\n",
       "    </tr>\n",
       "    <tr>\n",
       "      <th>2020</th>\n",
       "      <td>82</td>\n",
       "    </tr>\n",
       "    <tr>\n",
       "      <th>2021</th>\n",
       "      <td>1</td>\n",
       "    </tr>\n",
       "  </tbody>\n",
       "</table>\n",
       "<p>71 rows × 1 columns</p>\n",
       "</div>"
      ],
      "text/plain": [
       "      themes\n",
       "year        \n",
       "1949       2\n",
       "1950       1\n",
       "1953       2\n",
       "1954       2\n",
       "1955       4\n",
       "...      ...\n",
       "2017      89\n",
       "2018      93\n",
       "2019      78\n",
       "2020      82\n",
       "2021       1\n",
       "\n",
       "[71 rows x 1 columns]"
      ]
     },
     "execution_count": 26,
     "metadata": {},
     "output_type": "execute_result"
    }
   ],
   "source": [
    "# Number of unique theme_ids per calendar year\n",
    "#themes_by_year = sets_df.groupby(by='year').agg({'theme_id': 'nunique'})\n",
    "themes_per_year = sets_df.groupby(by='year').agg({'theme_id': pd.Series.nunique})\n",
    "themes_per_year.rename(columns={'theme_id': 'themes'}, inplace=True) # Rename column\n",
    "\n",
    "# This produces the same results as above. Number of unique theme_ids per calendar year, with .NamedAgg()\n",
    "themes_per_year = sets_df.groupby(by='year').agg(themes=pd.NamedAgg(column='theme_id', aggfunc='nunique'))\n",
    "\n",
    "themes_per_year"
   ]
  },
  {
   "cell_type": "markdown",
   "metadata": {
    "colab_type": "text",
    "id": "immCqqw1Iqu5"
   },
   "source": [
    "<br>\n",
    "\n",
    "**Challenge**: Plot the number of themes released by year on a line chart. Only include the full calendar years (i.e., exclude 2020 and 2021). "
   ]
  },
  {
   "cell_type": "code",
   "execution_count": 27,
   "metadata": {
    "colab": {},
    "colab_type": "code",
    "id": "r2pamQEkIqu5"
   },
   "outputs": [
    {
     "data": {
      "text/plain": [
       "<matplotlib.legend.Legend at 0x25e7b08e3d0>"
      ]
     },
     "execution_count": 27,
     "metadata": {},
     "output_type": "execute_result"
    },
    {
     "data": {
      "image/png": "[encoded data removed]",
      "text/plain": [
       "<Figure size 500x270 with 1 Axes>"
      ]
     },
     "metadata": {},
     "output_type": "display_data"
    }
   ],
   "source": [
    "years = themes_per_year.index[:-2]\n",
    "num_themes = themes_per_year.themes[:-2]\n",
    "num_sets = sets_per_year.values[:-2]\n",
    "\n",
    "fig, ax = plt.subplots(figsize=(5, 2.7), layout='constrained')\n",
    "fig.suptitle('Number of themes and sets by year (1949-2019)', fontsize=14)\n",
    "ax1 = ax.plot(years, num_themes, label='themes')\n",
    "ax2 = ax.plot(years, num_sets, label='sets')\n",
    "\n",
    "ax.set_xlabel('year')\n",
    "ax.set_ylabel('number')\n",
    "ax.legend()"
   ]
  },
  {
   "cell_type": "markdown",
   "metadata": {
    "colab_type": "text",
    "id": "uBbt9-lJIqu7"
   },
   "source": [
    "<br>\n",
    "\n",
    "### Line Charts with Two Axes with differend y-scales.\n",
    "In the linechart with the number of themes and sets by year - number of themes ranges from 0 to 90, and number of sets ranges from 0 to 900.\n",
    "Plot the two lines on the same chart, with differend y-scale."
   ]
  },
  {
   "cell_type": "code",
   "execution_count": 28,
   "metadata": {
    "colab": {},
    "colab_type": "code",
    "id": "j7lQ_amFIqu7"
   },
   "outputs": [
    {
     "data": {
      "image/png": "[encoded data removed]",
      "text/plain": [
       "<Figure size 600x300 with 2 Axes>"
      ]
     },
     "metadata": {},
     "output_type": "display_data"
    }
   ],
   "source": [
    "# Data\n",
    "years = themes_per_year.index[:-2]\n",
    "num_themes = themes_per_year.themes[:-2]\n",
    "num_sets = sets_per_year.values[:-2]\n",
    "\n",
    "# Figure\n",
    "# ax1, num_themes\n",
    "fig, ax1 = plt.subplots(figsize=(6, 3))\n",
    "fig.suptitle('Number of Themes and Sets per Year (1949-2019)')\n",
    "\n",
    "color = 'tab:red'\n",
    "ax1.set_xlabel('year')\n",
    "ax1.set_ylabel('Number of themes', color=color)\n",
    "ax1.plot(years, num_themes, label='themes', color=color)\n",
    "ax1.tick_params(axis='y', labelcolor=color)\n",
    "\n",
    "# ax2, num_sets\n",
    "ax2 = ax1.twinx() # Instantiate a second axes that share x-axis with ax1.\n",
    "\n",
    "color = 'tab:blue'\n",
    "ax2.set_ylabel('Number of sets', color=color)\n",
    "ax2.plot(years, num_sets, label='sets', color=color)\n",
    "ax2.tick_params(axis='y', labelcolor=color)\n",
    "\n",
    "fig.tight_layout()\n",
    "plt.show()"
   ]
  },
  {
   "cell_type": "markdown",
   "metadata": {
    "colab_type": "text",
    "id": "7BHYaUf-Iqu9"
   },
   "source": [
    "<br><br>\n",
    "\n",
    "**Challenge**: Use the <code>.groupby()</code> and <code>.agg()</code> function together to figure out the average number of parts per set. How many parts did the average LEGO set released in 1954 compared to say, 2017?"
   ]
  },
  {
   "cell_type": "code",
   "execution_count": 29,
   "metadata": {
    "colab": {},
    "colab_type": "code",
    "id": "W7BcH9vuIqu9"
   },
   "outputs": [
    {
     "data": {
      "text/html": [
       "<div>\n",
       "<style scoped>\n",
       "    .dataframe tbody tr th:only-of-type {\n",
       "        vertical-align: middle;\n",
       "    }\n",
       "\n",
       "    .dataframe tbody tr th {\n",
       "        vertical-align: top;\n",
       "    }\n",
       "\n",
       "    .dataframe thead th {\n",
       "        text-align: right;\n",
       "    }\n",
       "</style>\n",
       "<table border=\"1\" class=\"dataframe\">\n",
       "  <thead>\n",
       "    <tr style=\"text-align: right;\">\n",
       "      <th></th>\n",
       "      <th>avg_parts</th>\n",
       "    </tr>\n",
       "    <tr>\n",
       "      <th>year</th>\n",
       "      <th></th>\n",
       "    </tr>\n",
       "  </thead>\n",
       "  <tbody>\n",
       "    <tr>\n",
       "      <th>1949</th>\n",
       "      <td>100</td>\n",
       "    </tr>\n",
       "    <tr>\n",
       "      <th>1950</th>\n",
       "      <td>1</td>\n",
       "    </tr>\n",
       "    <tr>\n",
       "      <th>1953</th>\n",
       "      <td>14</td>\n",
       "    </tr>\n",
       "    <tr>\n",
       "      <th>1954</th>\n",
       "      <td>12</td>\n",
       "    </tr>\n",
       "    <tr>\n",
       "      <th>1955</th>\n",
       "      <td>37</td>\n",
       "    </tr>\n",
       "    <tr>\n",
       "      <th>...</th>\n",
       "      <td>...</td>\n",
       "    </tr>\n",
       "    <tr>\n",
       "      <th>2017</th>\n",
       "      <td>222</td>\n",
       "    </tr>\n",
       "    <tr>\n",
       "      <th>2018</th>\n",
       "      <td>214</td>\n",
       "    </tr>\n",
       "    <tr>\n",
       "      <th>2019</th>\n",
       "      <td>208</td>\n",
       "    </tr>\n",
       "    <tr>\n",
       "      <th>2020</th>\n",
       "      <td>260</td>\n",
       "    </tr>\n",
       "    <tr>\n",
       "      <th>2021</th>\n",
       "      <td>0</td>\n",
       "    </tr>\n",
       "  </tbody>\n",
       "</table>\n",
       "<p>71 rows × 1 columns</p>\n",
       "</div>"
      ],
      "text/plain": [
       "      avg_parts\n",
       "year           \n",
       "1949        100\n",
       "1950          1\n",
       "1953         14\n",
       "1954         12\n",
       "1955         37\n",
       "...         ...\n",
       "2017        222\n",
       "2018        214\n",
       "2019        208\n",
       "2020        260\n",
       "2021          0\n",
       "\n",
       "[71 rows x 1 columns]"
      ]
     },
     "execution_count": 29,
     "metadata": {},
     "output_type": "execute_result"
    }
   ],
   "source": [
    "pd.set_option('display.precision', 0)\n",
    "\n",
    "# Average number of parts per sett, per year.\n",
    "annual_avg_parts_per_set = sets_df.groupby(by='year').agg(avg_parts=pd.NamedAgg(column='num_parts', aggfunc=pd.Series.mean))\n",
    "annual_avg_parts_per_set"
   ]
  },
  {
   "cell_type": "code",
   "execution_count": 30,
   "metadata": {},
   "outputs": [],
   "source": [
    "rapport['dfs']['3 annual_avg_parts_per_set'] = [\n",
    "    \"Fra: sets_df.\",\n",
    "    \"Kode: sets_df.groupby(by='year').agg(avg_parts=pd.NamedAgg(column='num_parts', aggfunc=pd.Series.mean))\",\n",
    "    \"Kolonner: ['avg_parts']\",\n",
    "    \"index='year' med år fra 1949-2021, men tallene for 2020-2021 er ufullstendige.\"]"
   ]
  },
  {
   "cell_type": "markdown",
   "metadata": {
    "colab_type": "text",
    "id": "bAeTe2XqIqvB"
   },
   "source": [
    "### Scatter Plots in Matplotlib"
   ]
  },
  {
   "cell_type": "markdown",
   "metadata": {
    "colab_type": "text",
    "id": "SAViZ_TYIqvB"
   },
   "source": [
    "**Challenge**: Has the size and complexity of LEGO sets increased over time based on the number of parts? Plot the average number of parts over time using a Matplotlib scatter plot. See if you can use the [scatter plot documentation](https://matplotlib.org/3.1.0/api/_as_gen/matplotlib.pyplot.scatter.html) before I show you the solution. Do you spot a trend in the chart? "
   ]
  },
  {
   "cell_type": "code",
   "execution_count": 31,
   "metadata": {
    "colab": {},
    "colab_type": "code",
    "id": "EQNZ0D7JIqvB"
   },
   "outputs": [
    {
     "data": {
      "image/png": "[encoded data removed]",
      "text/plain": [
       "<Figure size 800x400 with 1 Axes>"
      ]
     },
     "metadata": {},
     "output_type": "display_data"
    }
   ],
   "source": [
    "# Data\n",
    "years = annual_avg_parts_per_set.index[:-2]\n",
    "avg_num_parts = annual_avg_parts_per_set[:-2]\n",
    "fig_text = \"The figure illustrates the relationship between the release year of Lego sets and the average number of parts per set. \\n\\\n",
    "Each data point representes the annual average (rounded to the nearest whole number) calculated \\n\\\n",
    "from the Lego sets released in a particular year.\\n\\n The figure shows an upward trend in size/complexity \\\n",
    "based on the average number of parts.\"\n",
    "\n",
    "\n",
    "# Figure\n",
    "fig, ax = plt.subplots(figsize=(8, 4))\n",
    "\n",
    "fig.suptitle('Annual Average Number of Parts per Set (1949-2019)')\n",
    "ax.set_ylabel('Average Number of Parts per Set')\n",
    "ax.set_xlabel('Year')\n",
    "ax.plot(avg_num_parts, color='C3', marker='o', markersize=5, linewidth=0)\n",
    "\n",
    "props=dict(boxstyle='round', facecolor='wheat', alpha=0.5)\n",
    "ax.text(-0.04, -0.2, fig_text, transform=ax.transAxes, fontsize=9, verticalalignment='top', bbox=props)\n",
    "\n",
    "plt.show()"
   ]
  },
  {
   "cell_type": "markdown",
   "metadata": {
    "colab_type": "text",
    "id": "xK226Ip-IqvE"
   },
   "source": [
    "<br>\n",
    "\n",
    "### Number of Sets per LEGO Theme"
   ]
  },
  {
   "cell_type": "markdown",
   "metadata": {
    "colab_type": "text",
    "id": "VKHa1FePIqvE"
   },
   "source": [
    "LEGO has licensed many hit franchises from Harry Potter to Marvel Super Heros to many others. But which theme has the largest number of individual sets? "
   ]
  },
  {
   "cell_type": "markdown",
   "metadata": {
    "colab_type": "text",
    "id": "J-i6JULGIqvG"
   },
   "source": [
    "**Challenge** Use what you know about HTML markup and tags to display the database schema: https://i.imgur.com/Sg4lcjx.png\n",
    "\n",
    "<img src=\"https://i.imgur.com/Sg4lcjx.png\" width=900>"
   ]
  },
  {
   "cell_type": "code",
   "execution_count": 32,
   "metadata": {
    "colab": {},
    "colab_type": "code",
    "id": "hOBcNrC9IqvE"
   },
   "outputs": [
    {
     "name": "stdout",
     "output_type": "stream",
     "text": [
      "num_sets    753\n",
      "dtype: int64\n",
      "num_sets    158\n",
      "dtype: int64\n"
     ]
    },
    {
     "data": {
      "text/html": [
       "<div>\n",
       "<style scoped>\n",
       "    .dataframe tbody tr th:only-of-type {\n",
       "        vertical-align: middle;\n",
       "    }\n",
       "\n",
       "    .dataframe tbody tr th {\n",
       "        vertical-align: top;\n",
       "    }\n",
       "\n",
       "    .dataframe thead th {\n",
       "        text-align: right;\n",
       "    }\n",
       "</style>\n",
       "<table border=\"1\" class=\"dataframe\">\n",
       "  <thead>\n",
       "    <tr style=\"text-align: right;\">\n",
       "      <th></th>\n",
       "      <th>num_sets</th>\n",
       "    </tr>\n",
       "    <tr>\n",
       "      <th>theme_id</th>\n",
       "      <th></th>\n",
       "    </tr>\n",
       "  </thead>\n",
       "  <tbody>\n",
       "    <tr>\n",
       "      <th>158</th>\n",
       "      <td>753</td>\n",
       "    </tr>\n",
       "    <tr>\n",
       "      <th>501</th>\n",
       "      <td>656</td>\n",
       "    </tr>\n",
       "    <tr>\n",
       "      <th>494</th>\n",
       "      <td>398</td>\n",
       "    </tr>\n",
       "    <tr>\n",
       "      <th>435</th>\n",
       "      <td>356</td>\n",
       "    </tr>\n",
       "    <tr>\n",
       "      <th>503</th>\n",
       "      <td>329</td>\n",
       "    </tr>\n",
       "    <tr>\n",
       "      <th>...</th>\n",
       "      <td>...</td>\n",
       "    </tr>\n",
       "    <tr>\n",
       "      <th>307</th>\n",
       "      <td>1</td>\n",
       "    </tr>\n",
       "    <tr>\n",
       "      <th>215</th>\n",
       "      <td>1</td>\n",
       "    </tr>\n",
       "    <tr>\n",
       "      <th>361</th>\n",
       "      <td>1</td>\n",
       "    </tr>\n",
       "    <tr>\n",
       "      <th>210</th>\n",
       "      <td>1</td>\n",
       "    </tr>\n",
       "    <tr>\n",
       "      <th>414</th>\n",
       "      <td>1</td>\n",
       "    </tr>\n",
       "  </tbody>\n",
       "</table>\n",
       "<p>571 rows × 1 columns</p>\n",
       "</div>"
      ],
      "text/plain": [
       "          num_sets\n",
       "theme_id          \n",
       "158            753\n",
       "501            656\n",
       "494            398\n",
       "435            356\n",
       "503            329\n",
       "...            ...\n",
       "307              1\n",
       "215              1\n",
       "361              1\n",
       "210              1\n",
       "414              1\n",
       "\n",
       "[571 rows x 1 columns]"
      ]
     },
     "execution_count": 32,
     "metadata": {},
     "output_type": "execute_result"
    }
   ],
   "source": [
    "# Two ways to get the number of sets per theme.\n",
    "num_sets_per_theme = sets_df.groupby(by='theme_id').agg(num_sets=pd.NamedAgg(column='theme_id', aggfunc='count'))\n",
    "print(num_sets_per_theme.max())\n",
    "print(num_sets_per_theme.idxmax())\n",
    "\n",
    "num_sets_per_theme2 = sets_df['theme_id'].value_counts().rename_axis('theme_id').to_frame('num_sets')\n",
    "num_sets_per_theme2 # This df is sorted by num_sets (descending)."
   ]
  },
  {
   "cell_type": "code",
   "execution_count": 33,
   "metadata": {},
   "outputs": [
    {
     "data": {
      "text/html": [
       "<div>\n",
       "<style scoped>\n",
       "    .dataframe tbody tr th:only-of-type {\n",
       "        vertical-align: middle;\n",
       "    }\n",
       "\n",
       "    .dataframe tbody tr th {\n",
       "        vertical-align: top;\n",
       "    }\n",
       "\n",
       "    .dataframe thead th {\n",
       "        text-align: right;\n",
       "    }\n",
       "</style>\n",
       "<table border=\"1\" class=\"dataframe\">\n",
       "  <thead>\n",
       "    <tr style=\"text-align: right;\">\n",
       "      <th></th>\n",
       "      <th>id</th>\n",
       "      <th>name</th>\n",
       "      <th>parent_id</th>\n",
       "    </tr>\n",
       "  </thead>\n",
       "  <tbody>\n",
       "    <tr>\n",
       "      <th>150</th>\n",
       "      <td>158</td>\n",
       "      <td>Star Wars</td>\n",
       "      <td>NaN</td>\n",
       "    </tr>\n",
       "  </tbody>\n",
       "</table>\n",
       "</div>"
      ],
      "text/plain": [
       "      id       name  parent_id\n",
       "150  158  Star Wars        NaN"
      ]
     },
     "execution_count": 33,
     "metadata": {},
     "output_type": "execute_result"
    }
   ],
   "source": [
    "# The theme with theme_id '158' has the largest number of sets. Which theme is it?\n",
    "themes_df = pd.read_csv('data/themes.csv')\n",
    "themes_df[themes_df.id == 158] # --> Star Wars"
   ]
  },
  {
   "cell_type": "code",
   "execution_count": 34,
   "metadata": {},
   "outputs": [],
   "source": [
    "rapport['dfs']['1.3 num_sets_per_theme'] = [\n",
    "    \"Fra: sets_df\", \n",
    "    \"Kode: sets_df.groupby(by='theme_id').agg(num_sets=pd.NamedAgg(column='theme_id', aggfunc='count'))\",\n",
    "    \"Index: theme_id --> Unik ID for hver tema. Refererer til id i themes.csv)\",\n",
    "    \"Kolonner: [num_sets] --> Antall sett som finnes med temaet som er spesifisert i theme_id.\"\n",
    "]\n",
    "rapport['dfs']['2 themes_df'] = [\n",
    "    f\"Kolonner {themes_df.columns.to_list()}\",\n",
    "    \"Fra: data/themes.csv\",\n",
    "    \"id: primary key. En unik id for hvert tema.\"\n",
    "]\n",
    "\n",
    "rapport['dfs']['1 sets_df'].append(\"theme_id: foreign key - matcher id i themes.csv. \\\n",
    "Mange sett kan ha samme tema, og har derfor samme theme_id.\")"
   ]
  },
  {
   "cell_type": "markdown",
   "metadata": {
    "colab_type": "text",
    "id": "27oDwiPHIqvH"
   },
   "source": []
  },
  {
   "cell_type": "markdown",
   "metadata": {
    "colab_type": "text",
    "id": "J_0iuerKIqvG"
   },
   "source": [
    "### Database Schemas, Foreign Keys and Merging DataFrames\n",
    "\n",
    "The themes.csv file has the actual theme names. The sets .csv has <code>theme_id</code>s which link to the <code>id</code> column in the themes.csv. \n",
    "\n",
    "**Challenge**: Explore the themes.csv. How is it structured? Search for the name 'Star Wars'. How many <code>id</code>s correspond to this name in the themes.csv? Now use these <code>id</code>s and find the corresponding sets in the sets.csv (Hint: you'll need to look for matches in the <code>theme_id</code> column)\n",
    "\n",
    "<font style=\"color: magenta;\">The tabel in themes.csv contains 596 rows and 3 columns (`id`, `name`, `parent_id`). The `id` is a unique identifier for eache theme. Here I call the 132 themes which has a `parent_id == NaN` \"top level themes\". The remaining 464 themes, are \"sub-themes\" of their \"parent_theme\" given by their `parent_id`.\n",
    "\n",
    "<font style=\"color: magenta;\">An example:\n",
    "\n",
    "<ul> \n",
    "    <font style=\"color: magenta;\">\n",
    "        <li>In themes.csv: 4 themes has the `name` \"Star Wars\".</li>\n",
    "        <ul>\n",
    "            <li>The theme with <code>id == 158</code> has no <code>parent_id</code> and is a \"top level theme\".</li>\n",
    "            <ul>\n",
    "                <li>In sets.csv there are 753 lego sets with the top level theme \"Star Wars\" (<code>theme_id==158</code>).</li>\n",
    "            </ul>\n",
    "            <li>To be continued....</li>\n",
    "        </ul>\n",
    "    </font>\n",
    "</ul>\n",
    "    "
   ]
  },
  {
   "cell_type": "code",
   "execution_count": 35,
   "metadata": {},
   "outputs": [
    {
     "data": {
      "text/plain": [
       "(596, 3)"
      ]
     },
     "execution_count": 35,
     "metadata": {},
     "output_type": "execute_result"
    }
   ],
   "source": [
    "df = themes_df # 596 rows, 3 columns.\n",
    "df.shape"
   ]
  },
  {
   "cell_type": "code",
   "execution_count": 36,
   "metadata": {},
   "outputs": [
    {
     "data": {
      "text/html": [
       "<div>\n",
       "<style scoped>\n",
       "    .dataframe tbody tr th:only-of-type {\n",
       "        vertical-align: middle;\n",
       "    }\n",
       "\n",
       "    .dataframe tbody tr th {\n",
       "        vertical-align: top;\n",
       "    }\n",
       "\n",
       "    .dataframe thead th {\n",
       "        text-align: right;\n",
       "    }\n",
       "</style>\n",
       "<table border=\"1\" class=\"dataframe\">\n",
       "  <thead>\n",
       "    <tr style=\"text-align: right;\">\n",
       "      <th></th>\n",
       "      <th>id</th>\n",
       "      <th>name</th>\n",
       "      <th>parent_id</th>\n",
       "    </tr>\n",
       "  </thead>\n",
       "  <tbody>\n",
       "    <tr>\n",
       "      <th>0</th>\n",
       "      <td>1</td>\n",
       "      <td>Technic</td>\n",
       "      <td>NaN</td>\n",
       "    </tr>\n",
       "    <tr>\n",
       "      <th>21</th>\n",
       "      <td>22</td>\n",
       "      <td>Creator</td>\n",
       "      <td>NaN</td>\n",
       "    </tr>\n",
       "    <tr>\n",
       "      <th>46</th>\n",
       "      <td>50</td>\n",
       "      <td>Town</td>\n",
       "      <td>NaN</td>\n",
       "    </tr>\n",
       "    <tr>\n",
       "      <th>106</th>\n",
       "      <td>112</td>\n",
       "      <td>Racers</td>\n",
       "      <td>NaN</td>\n",
       "    </tr>\n",
       "    <tr>\n",
       "      <th>119</th>\n",
       "      <td>126</td>\n",
       "      <td>Space</td>\n",
       "      <td>NaN</td>\n",
       "    </tr>\n",
       "    <tr>\n",
       "      <th>...</th>\n",
       "      <td>...</td>\n",
       "      <td>...</td>\n",
       "      <td>...</td>\n",
       "    </tr>\n",
       "    <tr>\n",
       "      <th>579</th>\n",
       "      <td>693</td>\n",
       "      <td>Monkie Kid</td>\n",
       "      <td>NaN</td>\n",
       "    </tr>\n",
       "    <tr>\n",
       "      <th>580</th>\n",
       "      <td>694</td>\n",
       "      <td>Brick Sketches</td>\n",
       "      <td>NaN</td>\n",
       "    </tr>\n",
       "    <tr>\n",
       "      <th>581</th>\n",
       "      <td>695</td>\n",
       "      <td>Super Heroes DC</td>\n",
       "      <td>NaN</td>\n",
       "    </tr>\n",
       "    <tr>\n",
       "      <th>582</th>\n",
       "      <td>696</td>\n",
       "      <td>Super Heroes Marvel</td>\n",
       "      <td>NaN</td>\n",
       "    </tr>\n",
       "    <tr>\n",
       "      <th>595</th>\n",
       "      <td>709</td>\n",
       "      <td>LEGO Art</td>\n",
       "      <td>NaN</td>\n",
       "    </tr>\n",
       "  </tbody>\n",
       "</table>\n",
       "<p>132 rows × 3 columns</p>\n",
       "</div>"
      ],
      "text/plain": [
       "      id                 name  parent_id\n",
       "0      1              Technic        NaN\n",
       "21    22              Creator        NaN\n",
       "46    50                 Town        NaN\n",
       "106  112               Racers        NaN\n",
       "119  126                Space        NaN\n",
       "..   ...                  ...        ...\n",
       "579  693           Monkie Kid        NaN\n",
       "580  694       Brick Sketches        NaN\n",
       "581  695      Super Heroes DC        NaN\n",
       "582  696  Super Heroes Marvel        NaN\n",
       "595  709             LEGO Art        NaN\n",
       "\n",
       "[132 rows x 3 columns]"
      ]
     },
     "execution_count": 36,
     "metadata": {},
     "output_type": "execute_result"
    }
   ],
   "source": [
    "df[df.parent_id.isna()] # 132 \"top level themes\" "
   ]
  },
  {
   "cell_type": "code",
   "execution_count": 37,
   "metadata": {
    "colab": {},
    "colab_type": "code",
    "id": "xAO2XlQGIqvJ"
   },
   "outputs": [
    {
     "data": {
      "text/html": [
       "<div>\n",
       "<style scoped>\n",
       "    .dataframe tbody tr th:only-of-type {\n",
       "        vertical-align: middle;\n",
       "    }\n",
       "\n",
       "    .dataframe tbody tr th {\n",
       "        vertical-align: top;\n",
       "    }\n",
       "\n",
       "    .dataframe thead th {\n",
       "        text-align: right;\n",
       "    }\n",
       "</style>\n",
       "<table border=\"1\" class=\"dataframe\">\n",
       "  <thead>\n",
       "    <tr style=\"text-align: right;\">\n",
       "      <th></th>\n",
       "      <th>id</th>\n",
       "      <th>name</th>\n",
       "      <th>parent_id</th>\n",
       "    </tr>\n",
       "  </thead>\n",
       "  <tbody>\n",
       "    <tr>\n",
       "      <th>17</th>\n",
       "      <td>18</td>\n",
       "      <td>Star Wars</td>\n",
       "      <td>1</td>\n",
       "    </tr>\n",
       "    <tr>\n",
       "      <th>150</th>\n",
       "      <td>158</td>\n",
       "      <td>Star Wars</td>\n",
       "      <td>NaN</td>\n",
       "    </tr>\n",
       "    <tr>\n",
       "      <th>174</th>\n",
       "      <td>209</td>\n",
       "      <td>Star Wars</td>\n",
       "      <td>207</td>\n",
       "    </tr>\n",
       "    <tr>\n",
       "      <th>211</th>\n",
       "      <td>261</td>\n",
       "      <td>Star Wars</td>\n",
       "      <td>258</td>\n",
       "    </tr>\n",
       "  </tbody>\n",
       "</table>\n",
       "</div>"
      ],
      "text/plain": [
       "      id       name  parent_id\n",
       "17    18  Star Wars          1\n",
       "150  158  Star Wars        NaN\n",
       "174  209  Star Wars        207\n",
       "211  261  Star Wars        258"
      ]
     },
     "execution_count": 37,
     "metadata": {},
     "output_type": "execute_result"
    }
   ],
   "source": [
    "star_wars_themes = themes_df[themes_df.name == 'Star Wars']\n",
    "star_wars_themes"
   ]
  },
  {
   "cell_type": "code",
   "execution_count": 38,
   "metadata": {
    "colab": {},
    "colab_type": "code",
    "id": "qBhckawNIqvN",
    "scrolled": true
   },
   "outputs": [
    {
     "name": "stdout",
     "output_type": "stream",
     "text": [
      "   id     name  parent_id\n",
      "0   1  Technic        NaN\n",
      "\n",
      "tech_starwars_sets.set_num.nunique() = 11\n",
      "       set_num                                name  year  theme_id  num_parts\n",
      "8786   65081-1  R2-D2 / C-3PO Droid Collectors Set  2002        18          1\n",
      "12051   8000-1                           Pit Droid  2000        18        223\n",
      "12058   8001-1                        Battle Droid  2000        18        336\n",
      "12066   8002-1                     Destroyer Droid  2000        18        567\n",
      "12071   8007-1                               C-3PO  2001        18        339\n",
      "12072   8008-1                        Stormtrooper  2001        18        360\n",
      "12073   8009-1                               R2-D2  2002        18        239\n",
      "12074   8010-1                         Darth Vader  2002        18        388\n",
      "12081   8011-1                          Jango Fett  2002        18        425\n",
      "12083   8012-1                  Super Battle Droid  2002        18        378\n",
      "15273  K8008-1      Darth Vader / Stormtrooper Kit  2002        18          0\n"
     ]
    }
   ],
   "source": [
    "# # # Theme 18\n",
    "\n",
    "theme_1 = themes_df[themes_df.id == 1] # --> Theme 18 \"Star Wars\" has the parent_id 1=\"Technic\".\n",
    "print(theme_1, end='\\n\\n')\n",
    "\n",
    "tech_starwars_sets = sets_df[sets_df.theme_id == 18]\n",
    "print(f\"{tech_starwars_sets.set_num.nunique() = }\")\n",
    "print(tech_starwars_sets)\n",
    "\n",
    "# Theme nr. 18: går fra 2000 til 2021, og ser ut til å omfatte flere ulike Star Wars-karakterer."
   ]
  },
  {
   "cell_type": "code",
   "execution_count": 39,
   "metadata": {
    "colab": {},
    "colab_type": "code",
    "id": "xYEDlY-_IqvL"
   },
   "outputs": [
    {
     "name": "stdout",
     "output_type": "stream",
     "text": [
      "      id    name  parent_id\n",
      "172  207  Advent        206\n",
      "      id      name  parent_id\n",
      "171  206  Seasonal        NaN\n",
      "\n"
     ]
    },
    {
     "data": {
      "text/html": [
       "<div>\n",
       "<style scoped>\n",
       "    .dataframe tbody tr th:only-of-type {\n",
       "        vertical-align: middle;\n",
       "    }\n",
       "\n",
       "    .dataframe tbody tr th {\n",
       "        vertical-align: top;\n",
       "    }\n",
       "\n",
       "    .dataframe thead th {\n",
       "        text-align: right;\n",
       "    }\n",
       "</style>\n",
       "<table border=\"1\" class=\"dataframe\">\n",
       "  <thead>\n",
       "    <tr style=\"text-align: right;\">\n",
       "      <th></th>\n",
       "      <th>set_num</th>\n",
       "      <th>name</th>\n",
       "      <th>year</th>\n",
       "      <th>theme_id</th>\n",
       "      <th>num_parts</th>\n",
       "    </tr>\n",
       "  </thead>\n",
       "  <tbody>\n",
       "    <tr>\n",
       "      <th>11013</th>\n",
       "      <td>75023-1</td>\n",
       "      <td>Star Wars Advent Calendar 2013</td>\n",
       "      <td>2013</td>\n",
       "      <td>209</td>\n",
       "      <td>254</td>\n",
       "    </tr>\n",
       "    <tr>\n",
       "      <th>11046</th>\n",
       "      <td>75056-1</td>\n",
       "      <td>Star Wars Advent Calendar 2014</td>\n",
       "      <td>2014</td>\n",
       "      <td>209</td>\n",
       "      <td>273</td>\n",
       "    </tr>\n",
       "    <tr>\n",
       "      <th>11080</th>\n",
       "      <td>75097-1</td>\n",
       "      <td>Star Wars Advent Calendar 2015</td>\n",
       "      <td>2015</td>\n",
       "      <td>209</td>\n",
       "      <td>291</td>\n",
       "    </tr>\n",
       "    <tr>\n",
       "      <th>11131</th>\n",
       "      <td>75146-1</td>\n",
       "      <td>Star Wars Advent Calendar 2016</td>\n",
       "      <td>2016</td>\n",
       "      <td>209</td>\n",
       "      <td>282</td>\n",
       "    </tr>\n",
       "    <tr>\n",
       "      <th>11173</th>\n",
       "      <td>75184-1</td>\n",
       "      <td>Star Wars Advent Calendar 2017</td>\n",
       "      <td>2017</td>\n",
       "      <td>209</td>\n",
       "      <td>309</td>\n",
       "    </tr>\n",
       "    <tr>\n",
       "      <th>11206</th>\n",
       "      <td>75213-1</td>\n",
       "      <td>Star Wars Advent Calendar 2018</td>\n",
       "      <td>2018</td>\n",
       "      <td>209</td>\n",
       "      <td>307</td>\n",
       "    </tr>\n",
       "    <tr>\n",
       "      <th>11245</th>\n",
       "      <td>75245-1</td>\n",
       "      <td>Star Wars Advent Calendar 2019</td>\n",
       "      <td>2019</td>\n",
       "      <td>209</td>\n",
       "      <td>280</td>\n",
       "    </tr>\n",
       "    <tr>\n",
       "      <th>11281</th>\n",
       "      <td>75279-1</td>\n",
       "      <td>Star Wars Advent Calendar 2020</td>\n",
       "      <td>2020</td>\n",
       "      <td>209</td>\n",
       "      <td>312</td>\n",
       "    </tr>\n",
       "    <tr>\n",
       "      <th>12019</th>\n",
       "      <td>7958-1</td>\n",
       "      <td>Star Wars Advent Calendar 2011</td>\n",
       "      <td>2011</td>\n",
       "      <td>209</td>\n",
       "      <td>267</td>\n",
       "    </tr>\n",
       "    <tr>\n",
       "      <th>14352</th>\n",
       "      <td>9509-1</td>\n",
       "      <td>Star Wars Advent Calendar 2012</td>\n",
       "      <td>2012</td>\n",
       "      <td>209</td>\n",
       "      <td>235</td>\n",
       "    </tr>\n",
       "  </tbody>\n",
       "</table>\n",
       "</div>"
      ],
      "text/plain": [
       "       set_num                            name  year  theme_id  num_parts\n",
       "11013  75023-1  Star Wars Advent Calendar 2013  2013       209        254\n",
       "11046  75056-1  Star Wars Advent Calendar 2014  2014       209        273\n",
       "11080  75097-1  Star Wars Advent Calendar 2015  2015       209        291\n",
       "11131  75146-1  Star Wars Advent Calendar 2016  2016       209        282\n",
       "11173  75184-1  Star Wars Advent Calendar 2017  2017       209        309\n",
       "11206  75213-1  Star Wars Advent Calendar 2018  2018       209        307\n",
       "11245  75245-1  Star Wars Advent Calendar 2019  2019       209        280\n",
       "11281  75279-1  Star Wars Advent Calendar 2020  2020       209        312\n",
       "12019   7958-1  Star Wars Advent Calendar 2011  2011       209        267\n",
       "14352   9509-1  Star Wars Advent Calendar 2012  2012       209        235"
      ]
     },
     "execution_count": 39,
     "metadata": {},
     "output_type": "execute_result"
    }
   ],
   "source": [
    "# # # Theme 209 Star Wars\n",
    "\n",
    "# Parent theme of 209 = 207\n",
    "theme_207 = themes_df[themes_df.id == 207]  # --> Theme 209 \"Star Wars\" has the parent_id 207=\"Advent\", with parent_id 206=\"Seasonal\".\n",
    "print(theme_207)\n",
    "\n",
    "# Parent theme of 207 = 206\n",
    "theme_206 = themes_df[themes_df.id == 206]\n",
    "print(theme_206, end=\"\\n\\n\")\n",
    "\n",
    "\n",
    "# Sets with theme 209\n",
    "sets_df[sets_df.theme_id == 209] # --> 10 Advent Calendars from 2011 to 2020."
   ]
  },
  {
   "cell_type": "code",
   "execution_count": 40,
   "metadata": {},
   "outputs": [
    {
     "name": "stdout",
     "output_type": "stream",
     "text": [
      "      id        name  parent_id\n",
      "208  258  Mindstorms        NaN\n",
      "\n"
     ]
    },
    {
     "data": {
      "text/html": [
       "<div>\n",
       "<style scoped>\n",
       "    .dataframe tbody tr th:only-of-type {\n",
       "        vertical-align: middle;\n",
       "    }\n",
       "\n",
       "    .dataframe tbody tr th {\n",
       "        vertical-align: top;\n",
       "    }\n",
       "\n",
       "    .dataframe thead th {\n",
       "        text-align: right;\n",
       "    }\n",
       "</style>\n",
       "<table border=\"1\" class=\"dataframe\">\n",
       "  <thead>\n",
       "    <tr style=\"text-align: right;\">\n",
       "      <th></th>\n",
       "      <th>set_num</th>\n",
       "      <th>name</th>\n",
       "      <th>year</th>\n",
       "      <th>theme_id</th>\n",
       "      <th>num_parts</th>\n",
       "    </tr>\n",
       "  </thead>\n",
       "  <tbody>\n",
       "    <tr>\n",
       "      <th>14630</th>\n",
       "      <td>9748-1</td>\n",
       "      <td>Droid Developer Kit</td>\n",
       "      <td>1999</td>\n",
       "      <td>261</td>\n",
       "      <td>658</td>\n",
       "    </tr>\n",
       "    <tr>\n",
       "      <th>14636</th>\n",
       "      <td>9754-1</td>\n",
       "      <td>Dark Side Developers Kit</td>\n",
       "      <td>2000</td>\n",
       "      <td>261</td>\n",
       "      <td>578</td>\n",
       "    </tr>\n",
       "  </tbody>\n",
       "</table>\n",
       "</div>"
      ],
      "text/plain": [
       "      set_num                      name  year  theme_id  num_parts\n",
       "14630  9748-1       Droid Developer Kit  1999       261        658\n",
       "14636  9754-1  Dark Side Developers Kit  2000       261        578"
      ]
     },
     "execution_count": 40,
     "metadata": {},
     "output_type": "execute_result"
    }
   ],
   "source": [
    "# # # Theme 261 Star Wars\n",
    "# Parent theme of 261 = 258\n",
    "theme_258 = themes_df[themes_df.id == 258] # --> Theme 261 \"Star Wars\" has the parent_id 258=\"Mindstorms\".\n",
    "print(theme_258, end='\\n\\n')\n",
    "\n",
    "# Sets with theme 261\n",
    "sets_df[sets_df.theme_id == 261] # --> 2 Developer Kit sets. "
   ]
  },
  {
   "cell_type": "code",
   "execution_count": 41,
   "metadata": {
    "colab": {},
    "colab_type": "code",
    "id": "aqt07DSTIqvP",
    "scrolled": true
   },
   "outputs": [
    {
     "data": {
      "text/html": [
       "<div>\n",
       "<style scoped>\n",
       "    .dataframe tbody tr th:only-of-type {\n",
       "        vertical-align: middle;\n",
       "    }\n",
       "\n",
       "    .dataframe tbody tr th {\n",
       "        vertical-align: top;\n",
       "    }\n",
       "\n",
       "    .dataframe thead th {\n",
       "        text-align: right;\n",
       "    }\n",
       "</style>\n",
       "<table border=\"1\" class=\"dataframe\">\n",
       "  <thead>\n",
       "    <tr style=\"text-align: right;\">\n",
       "      <th></th>\n",
       "      <th>set_num</th>\n",
       "      <th>name</th>\n",
       "      <th>year</th>\n",
       "      <th>theme_id</th>\n",
       "      <th>num_parts</th>\n",
       "    </tr>\n",
       "  </thead>\n",
       "  <tbody>\n",
       "    <tr>\n",
       "      <th>850</th>\n",
       "      <td>11912-1</td>\n",
       "      <td>Star Wars: Build Your Own Adventure</td>\n",
       "      <td>2016</td>\n",
       "      <td>158</td>\n",
       "      <td>73</td>\n",
       "    </tr>\n",
       "    <tr>\n",
       "      <th>855</th>\n",
       "      <td>11920-1</td>\n",
       "      <td>Parts for Star Wars Build Your Own Adventure: ...</td>\n",
       "      <td>2019</td>\n",
       "      <td>158</td>\n",
       "      <td>70</td>\n",
       "    </tr>\n",
       "    <tr>\n",
       "      <th>1717</th>\n",
       "      <td>20006-1</td>\n",
       "      <td>Clone Turbo Tank - Mini</td>\n",
       "      <td>2008</td>\n",
       "      <td>158</td>\n",
       "      <td>64</td>\n",
       "    </tr>\n",
       "    <tr>\n",
       "      <th>1728</th>\n",
       "      <td>20007-1</td>\n",
       "      <td>Republic Attack Cruiser - Mini</td>\n",
       "      <td>2009</td>\n",
       "      <td>158</td>\n",
       "      <td>84</td>\n",
       "    </tr>\n",
       "    <tr>\n",
       "      <th>1738</th>\n",
       "      <td>20009-1</td>\n",
       "      <td>AT-TE Walker - Mini</td>\n",
       "      <td>2009</td>\n",
       "      <td>158</td>\n",
       "      <td>94</td>\n",
       "    </tr>\n",
       "    <tr>\n",
       "      <th>...</th>\n",
       "      <td>...</td>\n",
       "      <td>...</td>\n",
       "      <td>...</td>\n",
       "      <td>...</td>\n",
       "      <td>...</td>\n",
       "    </tr>\n",
       "    <tr>\n",
       "      <th>15686</th>\n",
       "      <td>VP-4</td>\n",
       "      <td>Star Wars Co-Pack of 7101 7111 and 7171</td>\n",
       "      <td>2000</td>\n",
       "      <td>158</td>\n",
       "      <td>0</td>\n",
       "    </tr>\n",
       "    <tr>\n",
       "      <th>15689</th>\n",
       "      <td>VP-8</td>\n",
       "      <td>Star Wars Co-Pack of 7130 and 7150</td>\n",
       "      <td>2000</td>\n",
       "      <td>158</td>\n",
       "      <td>0</td>\n",
       "    </tr>\n",
       "    <tr>\n",
       "      <th>15707</th>\n",
       "      <td>XWING-1</td>\n",
       "      <td>Mini X-Wing Fighter</td>\n",
       "      <td>2019</td>\n",
       "      <td>158</td>\n",
       "      <td>60</td>\n",
       "    </tr>\n",
       "    <tr>\n",
       "      <th>15708</th>\n",
       "      <td>XWING-2</td>\n",
       "      <td>X-Wing Trench Run</td>\n",
       "      <td>2019</td>\n",
       "      <td>158</td>\n",
       "      <td>52</td>\n",
       "    </tr>\n",
       "    <tr>\n",
       "      <th>15709</th>\n",
       "      <td>YODACHRON-1</td>\n",
       "      <td>Yoda Chronicles Promotional Set</td>\n",
       "      <td>2013</td>\n",
       "      <td>158</td>\n",
       "      <td>413</td>\n",
       "    </tr>\n",
       "  </tbody>\n",
       "</table>\n",
       "<p>753 rows × 5 columns</p>\n",
       "</div>"
      ],
      "text/plain": [
       "           set_num                                               name  year  \\\n",
       "850        11912-1                Star Wars: Build Your Own Adventure  2016   \n",
       "855        11920-1  Parts for Star Wars Build Your Own Adventure: ...  2019   \n",
       "1717       20006-1                            Clone Turbo Tank - Mini  2008   \n",
       "1728       20007-1                     Republic Attack Cruiser - Mini  2009   \n",
       "1738       20009-1                                AT-TE Walker - Mini  2009   \n",
       "...            ...                                                ...   ...   \n",
       "15686         VP-4            Star Wars Co-Pack of 7101 7111 and 7171  2000   \n",
       "15689         VP-8                 Star Wars Co-Pack of 7130 and 7150  2000   \n",
       "15707      XWING-1                                Mini X-Wing Fighter  2019   \n",
       "15708      XWING-2                                  X-Wing Trench Run  2019   \n",
       "15709  YODACHRON-1                    Yoda Chronicles Promotional Set  2013   \n",
       "\n",
       "       theme_id  num_parts  \n",
       "850         158         73  \n",
       "855         158         70  \n",
       "1717        158         64  \n",
       "1728        158         84  \n",
       "1738        158         94  \n",
       "...         ...        ...  \n",
       "15686       158          0  \n",
       "15689       158          0  \n",
       "15707       158         60  \n",
       "15708       158         52  \n",
       "15709       158        413  \n",
       "\n",
       "[753 rows x 5 columns]"
      ]
     },
     "execution_count": 41,
     "metadata": {},
     "output_type": "execute_result"
    }
   ],
   "source": [
    "# # # Theme 158 Star Wars - has no parent theme\n",
    "# Sets with theme 158\n",
    "sets_df[sets_df.theme_id == 158] # 753 lego sets with the top level theme \"Star Wars\" (id=158)"
   ]
  },
  {
   "cell_type": "markdown",
   "metadata": {
    "colab_type": "text",
    "id": "SmTCXWKKIqvQ"
   },
   "source": [
    "### Merging DataFrames based on a Key\n",
    "\n",
    "\n",
    "Earlier I obtained a df with number of sets per theme from sets_df with the following code:\n",
    "\n",
    "```python\n",
    "# Two ways to get the number of sets per theme.\n",
    "num_sets_per_theme = sets_df.groupby(by='theme_id').agg(num_sets=pd.NamedAgg(column='theme_id', aggfunc='count'))\n",
    "\n",
    "num_sets_per_theme2 = sets_df['theme_id'].value_counts().rename_axis('theme_id').to_frame('num_sets')\n",
    "num_sets_per_theme2 # This df is sorted by num_sets (descending).\n",
    "```\n",
    "\n",
    "Here I will use the method `.value_counts()` instead, and then merge the resulting df with the themes_df."
   ]
  },
  {
   "cell_type": "code",
   "execution_count": 42,
   "metadata": {
    "colab": {},
    "colab_type": "code",
    "id": "i0LobgIvIqvT"
   },
   "outputs": [
    {
     "data": {
      "text/html": [
       "<div>\n",
       "<style scoped>\n",
       "    .dataframe tbody tr th:only-of-type {\n",
       "        vertical-align: middle;\n",
       "    }\n",
       "\n",
       "    .dataframe tbody tr th {\n",
       "        vertical-align: top;\n",
       "    }\n",
       "\n",
       "    .dataframe thead th {\n",
       "        text-align: right;\n",
       "    }\n",
       "</style>\n",
       "<table border=\"1\" class=\"dataframe\">\n",
       "  <thead>\n",
       "    <tr style=\"text-align: right;\">\n",
       "      <th></th>\n",
       "      <th>id</th>\n",
       "      <th>set_count</th>\n",
       "    </tr>\n",
       "  </thead>\n",
       "  <tbody>\n",
       "    <tr>\n",
       "      <th>0</th>\n",
       "      <td>158</td>\n",
       "      <td>753</td>\n",
       "    </tr>\n",
       "    <tr>\n",
       "      <th>1</th>\n",
       "      <td>501</td>\n",
       "      <td>656</td>\n",
       "    </tr>\n",
       "    <tr>\n",
       "      <th>2</th>\n",
       "      <td>494</td>\n",
       "      <td>398</td>\n",
       "    </tr>\n",
       "    <tr>\n",
       "      <th>3</th>\n",
       "      <td>435</td>\n",
       "      <td>356</td>\n",
       "    </tr>\n",
       "    <tr>\n",
       "      <th>4</th>\n",
       "      <td>503</td>\n",
       "      <td>329</td>\n",
       "    </tr>\n",
       "  </tbody>\n",
       "</table>\n",
       "</div>"
      ],
      "text/plain": [
       "    id  set_count\n",
       "0  158        753\n",
       "1  501        656\n",
       "2  494        398\n",
       "3  435        356\n",
       "4  503        329"
      ]
     },
     "execution_count": 42,
     "metadata": {},
     "output_type": "execute_result"
    }
   ],
   "source": [
    "# Make a Series with number of sets per theme. \n",
    "sets_per_theme_count = sets_df['theme_id'].value_counts()\n",
    "sets_per_theme_count # --> Series. (No headers).\n",
    "# The index is the theme_id-s, the right column is the calculated number of sets per theme_id.\n",
    "\n",
    "\n",
    "# Convert Series to df. Will later merge on the column 'id' in themes.csv \n",
    "# --> name the column with theme_ids 'id', so they have the same name.\n",
    "sets_per_theme_count = pd.DataFrame({'id': sets_per_theme_count.index, 'set_count': sets_per_theme_count.values})\n",
    "sets_per_theme_count.head()"
   ]
  },
  {
   "cell_type": "code",
   "execution_count": 43,
   "metadata": {},
   "outputs": [
    {
     "data": {
      "text/html": [
       "<div>\n",
       "<style scoped>\n",
       "    .dataframe tbody tr th:only-of-type {\n",
       "        vertical-align: middle;\n",
       "    }\n",
       "\n",
       "    .dataframe tbody tr th {\n",
       "        vertical-align: top;\n",
       "    }\n",
       "\n",
       "    .dataframe thead th {\n",
       "        text-align: right;\n",
       "    }\n",
       "</style>\n",
       "<table border=\"1\" class=\"dataframe\">\n",
       "  <thead>\n",
       "    <tr style=\"text-align: right;\">\n",
       "      <th></th>\n",
       "      <th>id</th>\n",
       "      <th>name</th>\n",
       "      <th>parent_id</th>\n",
       "    </tr>\n",
       "  </thead>\n",
       "  <tbody>\n",
       "    <tr>\n",
       "      <th>0</th>\n",
       "      <td>1</td>\n",
       "      <td>Technic</td>\n",
       "      <td>NaN</td>\n",
       "    </tr>\n",
       "    <tr>\n",
       "      <th>1</th>\n",
       "      <td>2</td>\n",
       "      <td>Arctic Technic</td>\n",
       "      <td>1</td>\n",
       "    </tr>\n",
       "    <tr>\n",
       "      <th>2</th>\n",
       "      <td>3</td>\n",
       "      <td>Competition</td>\n",
       "      <td>1</td>\n",
       "    </tr>\n",
       "    <tr>\n",
       "      <th>3</th>\n",
       "      <td>4</td>\n",
       "      <td>Expert Builder</td>\n",
       "      <td>1</td>\n",
       "    </tr>\n",
       "    <tr>\n",
       "      <th>4</th>\n",
       "      <td>5</td>\n",
       "      <td>Model</td>\n",
       "      <td>1</td>\n",
       "    </tr>\n",
       "  </tbody>\n",
       "</table>\n",
       "</div>"
      ],
      "text/plain": [
       "   id            name  parent_id\n",
       "0   1         Technic        NaN\n",
       "1   2  Arctic Technic          1\n",
       "2   3     Competition          1\n",
       "3   4  Expert Builder          1\n",
       "4   5           Model          1"
      ]
     },
     "execution_count": 43,
     "metadata": {},
     "output_type": "execute_result"
    }
   ],
   "source": [
    "themes_df[:5]"
   ]
  },
  {
   "cell_type": "code",
   "execution_count": 44,
   "metadata": {
    "colab": {},
    "colab_type": "code",
    "id": "I7UMP7VXIqvU"
   },
   "outputs": [],
   "source": [
    "merged_df = pd.merge(sets_per_theme_count, themes_df, on='id')\n",
    "# Equivalent: mer = sets_per_theme_count.merge(themes_df, on='id', how='left')"
   ]
  },
  {
   "cell_type": "code",
   "execution_count": 45,
   "metadata": {},
   "outputs": [
    {
     "data": {
      "text/html": [
       "<div>\n",
       "<style scoped>\n",
       "    .dataframe tbody tr th:only-of-type {\n",
       "        vertical-align: middle;\n",
       "    }\n",
       "\n",
       "    .dataframe tbody tr th {\n",
       "        vertical-align: top;\n",
       "    }\n",
       "\n",
       "    .dataframe thead th {\n",
       "        text-align: right;\n",
       "    }\n",
       "</style>\n",
       "<table border=\"1\" class=\"dataframe\">\n",
       "  <thead>\n",
       "    <tr style=\"text-align: right;\">\n",
       "      <th></th>\n",
       "      <th>id</th>\n",
       "      <th>set_count</th>\n",
       "      <th>name</th>\n",
       "      <th>parent_id</th>\n",
       "    </tr>\n",
       "  </thead>\n",
       "  <tbody>\n",
       "    <tr>\n",
       "      <th>0</th>\n",
       "      <td>158</td>\n",
       "      <td>753</td>\n",
       "      <td>Star Wars</td>\n",
       "      <td>NaN</td>\n",
       "    </tr>\n",
       "    <tr>\n",
       "      <th>1</th>\n",
       "      <td>501</td>\n",
       "      <td>656</td>\n",
       "      <td>Gear</td>\n",
       "      <td>NaN</td>\n",
       "    </tr>\n",
       "    <tr>\n",
       "      <th>2</th>\n",
       "      <td>494</td>\n",
       "      <td>398</td>\n",
       "      <td>Friends</td>\n",
       "      <td>NaN</td>\n",
       "    </tr>\n",
       "  </tbody>\n",
       "</table>\n",
       "</div>"
      ],
      "text/plain": [
       "    id  set_count       name  parent_id\n",
       "0  158        753  Star Wars        NaN\n",
       "1  501        656       Gear        NaN\n",
       "2  494        398    Friends        NaN"
      ]
     },
     "execution_count": 45,
     "metadata": {},
     "output_type": "execute_result"
    }
   ],
   "source": [
    "merged_df[:3]\n",
    "# Star Wars is the theme with the most Lego sets."
   ]
  },
  {
   "cell_type": "code",
   "execution_count": 46,
   "metadata": {},
   "outputs": [
    {
     "data": {
      "image/png": "[encoded data removed]",
      "text/plain": [
       "<Figure size 900x400 with 1 Axes>"
      ]
     },
     "metadata": {},
     "output_type": "display_data"
    }
   ],
   "source": [
    "# Data\n",
    "theme_names = merged_df.name[:10] # x\n",
    "num_sets_per_theme = merged_df.set_count[:10] # y\n",
    "\n",
    "# Bar chart\n",
    "fig, ax = plt.subplots(figsize=(9, 4))\n",
    "\n",
    "ax.bar(theme_names, num_sets_per_theme)\n",
    "ax.set_ylim(0, 800)\n",
    "ax.set_title('Number of Sets per Theme for the top 10 Lego Themes', fontsize=16)\n",
    "ax.set_xlabel('Theme Name', fontsize=14)\n",
    "ax.set_ylabel('Number of Sets', fontsize=14)\n",
    "\n",
    "# # One method for rotating and right-aligning the ticklabels:\n",
    "# ax.tick_params(axis='x', labelsize=11, labelcolor='C0', labelrotation=label_rot, direction='out')\n",
    "# plt.xticks(ha='right')\n",
    "\n",
    "# # The OOP-way of rotating and right-aligning the ticklabels:\n",
    "for label in ax.get_xticklabels():\n",
    "    label.set(rotation=40, \n",
    "              ha='right')\n",
    "    \n",
    "plt.show()"
   ]
  },
  {
   "cell_type": "code",
   "execution_count": 47,
   "metadata": {},
   "outputs": [
    {
     "data": {
      "text/html": [
       "<div>\n",
       "<style scoped>\n",
       "    .dataframe tbody tr th:only-of-type {\n",
       "        vertical-align: middle;\n",
       "    }\n",
       "\n",
       "    .dataframe tbody tr th {\n",
       "        vertical-align: top;\n",
       "    }\n",
       "\n",
       "    .dataframe thead th {\n",
       "        text-align: right;\n",
       "    }\n",
       "</style>\n",
       "<table border=\"1\" class=\"dataframe\">\n",
       "  <thead>\n",
       "    <tr style=\"text-align: right;\">\n",
       "      <th></th>\n",
       "      <th>set_count</th>\n",
       "    </tr>\n",
       "    <tr>\n",
       "      <th>name</th>\n",
       "      <th></th>\n",
       "    </tr>\n",
       "  </thead>\n",
       "  <tbody>\n",
       "    <tr>\n",
       "      <th>Star Wars</th>\n",
       "      <td>776</td>\n",
       "    </tr>\n",
       "    <tr>\n",
       "      <th>Gear</th>\n",
       "      <td>656</td>\n",
       "    </tr>\n",
       "    <tr>\n",
       "      <th>Basic Set</th>\n",
       "      <td>558</td>\n",
       "    </tr>\n",
       "    <tr>\n",
       "      <th>Supplemental</th>\n",
       "      <td>535</td>\n",
       "    </tr>\n",
       "    <tr>\n",
       "      <th>Technic</th>\n",
       "      <td>453</td>\n",
       "    </tr>\n",
       "    <tr>\n",
       "      <th>Friends</th>\n",
       "      <td>415</td>\n",
       "    </tr>\n",
       "    <tr>\n",
       "      <th>Ninjago</th>\n",
       "      <td>360</td>\n",
       "    </tr>\n",
       "    <tr>\n",
       "      <th>Town</th>\n",
       "      <td>360</td>\n",
       "    </tr>\n",
       "    <tr>\n",
       "      <th>Key Chain</th>\n",
       "      <td>329</td>\n",
       "    </tr>\n",
       "    <tr>\n",
       "      <th>Books</th>\n",
       "      <td>310</td>\n",
       "    </tr>\n",
       "  </tbody>\n",
       "</table>\n",
       "</div>"
      ],
      "text/plain": [
       "              set_count\n",
       "name                   \n",
       "Star Wars           776\n",
       "Gear                656\n",
       "Basic Set           558\n",
       "Supplemental        535\n",
       "Technic             453\n",
       "Friends             415\n",
       "Ninjago             360\n",
       "Town                360\n",
       "Key Chain           329\n",
       "Books               310"
      ]
     },
     "execution_count": 47,
     "metadata": {},
     "output_type": "execute_result"
    }
   ],
   "source": [
    "# We have sen that there are more than one theme called \"Star Wars\". \n",
    "# This is probably the case for other themes too. If we group the merged_df \n",
    "# by 'name' and aggregate by summing the set_count-s, the result will be a bit different.\n",
    "ag = merged_df.groupby('name').agg({'set_count': pd.Series.sum})\n",
    "ag.sort_values(by='set_count', ascending=False, inplace=True)\n",
    "ag[:10]"
   ]
  }
 ],
 "metadata": {
  "colab": {
   "name": "Lego Analysis for Course (start).ipynb",
   "provenance": []
  },
  "kernelspec": {
   "display_name": "Python 3 (ipykernel)",
   "language": "python",
   "name": "python3"
  },
  "language_info": {
   "codemirror_mode": {
    "name": "ipython",
    "version": 3
   },
   "file_extension": ".py",
   "mimetype": "text/x-python",
   "name": "python",
   "nbconvert_exporter": "python",
   "pygments_lexer": "ipython3",
   "version": "3.11.3"
  }
 },
 "nbformat": 4,
 "nbformat_minor": 4
}
