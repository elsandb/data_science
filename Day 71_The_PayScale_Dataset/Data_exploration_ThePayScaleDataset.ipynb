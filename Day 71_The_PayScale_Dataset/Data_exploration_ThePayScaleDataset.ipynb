{
 "cells": [
  {
   "cell_type": "markdown",
   "metadata": {},
   "source": [
    "# The PayScale Dataset 2021"
   ]
  },
  {
   "cell_type": "code",
   "execution_count": 1,
   "metadata": {},
   "outputs": [],
   "source": [
    "# Preliminary Data Exploration"
   ]
  },
  {
   "cell_type": "code",
   "execution_count": 2,
   "metadata": {},
   "outputs": [],
   "source": [
    "import pandas as pd\n",
    "import numpy as np\n",
    "from matplotlib import pyplot as plt\n",
    "raw_csv_path = './raw_csv/raw_college_salary_report_2021.csv'\n",
    "raw_df = pd.read_csv(raw_csv_path)"
   ]
  },
  {
   "cell_type": "code",
   "execution_count": 3,
   "metadata": {},
   "outputs": [
    {
     "data": {
      "text/html": [
       "<div>\n",
       "<style scoped>\n",
       "    .dataframe tbody tr th:only-of-type {\n",
       "        vertical-align: middle;\n",
       "    }\n",
       "\n",
       "    .dataframe tbody tr th {\n",
       "        vertical-align: top;\n",
       "    }\n",
       "\n",
       "    .dataframe thead th {\n",
       "        text-align: right;\n",
       "    }\n",
       "</style>\n",
       "<table border=\"1\" class=\"dataframe\">\n",
       "  <thead>\n",
       "    <tr style=\"text-align: right;\">\n",
       "      <th></th>\n",
       "      <th>Rank</th>\n",
       "      <th>Major</th>\n",
       "      <th>Degree Type</th>\n",
       "      <th>Early Career Pay</th>\n",
       "      <th>Mid-Career Pay</th>\n",
       "      <th>% High Meaning</th>\n",
       "    </tr>\n",
       "  </thead>\n",
       "  <tbody>\n",
       "    <tr>\n",
       "      <th>0</th>\n",
       "      <td>-</td>\n",
       "      <td>-</td>\n",
       "      <td>-</td>\n",
       "      <td>Median salary for alumni with 0-5 years experi...</td>\n",
       "      <td>Median salary for alumni with 10+ years experi...</td>\n",
       "      <td>% alumni who say their work makes the world a ...</td>\n",
       "    </tr>\n",
       "    <tr>\n",
       "      <th>1</th>\n",
       "      <td>1</td>\n",
       "      <td>Petroleum Engineering</td>\n",
       "      <td>Bachelors</td>\n",
       "      <td>$93,200</td>\n",
       "      <td>$187,300</td>\n",
       "      <td>67%</td>\n",
       "    </tr>\n",
       "    <tr>\n",
       "      <th>2</th>\n",
       "      <td>2</td>\n",
       "      <td>Operations Research &amp; Industrial Engineering</td>\n",
       "      <td>Bachelors</td>\n",
       "      <td>$84,800</td>\n",
       "      <td>$170,400</td>\n",
       "      <td>28%</td>\n",
       "    </tr>\n",
       "    <tr>\n",
       "      <th>3</th>\n",
       "      <td>3</td>\n",
       "      <td>Electrical Engineering &amp; Computer Science (EECS)</td>\n",
       "      <td>Bachelors</td>\n",
       "      <td>$108,500</td>\n",
       "      <td>$159,300</td>\n",
       "      <td>46%</td>\n",
       "    </tr>\n",
       "    <tr>\n",
       "      <th>4</th>\n",
       "      <td>4</td>\n",
       "      <td>Interaction Design</td>\n",
       "      <td>Bachelors</td>\n",
       "      <td>$68,300</td>\n",
       "      <td>$155,800</td>\n",
       "      <td>55%</td>\n",
       "    </tr>\n",
       "  </tbody>\n",
       "</table>\n",
       "</div>"
      ],
      "text/plain": [
       "  Rank                                             Major Degree Type  \\\n",
       "0    -                                                 -           -   \n",
       "1    1                             Petroleum Engineering   Bachelors   \n",
       "2    2      Operations Research & Industrial Engineering   Bachelors   \n",
       "3    3  Electrical Engineering & Computer Science (EECS)   Bachelors   \n",
       "4    4                                Interaction Design   Bachelors   \n",
       "\n",
       "                                    Early Career Pay  \\\n",
       "0  Median salary for alumni with 0-5 years experi...   \n",
       "1                                            $93,200   \n",
       "2                                            $84,800   \n",
       "3                                           $108,500   \n",
       "4                                            $68,300   \n",
       "\n",
       "                                      Mid-Career Pay  \\\n",
       "0  Median salary for alumni with 10+ years experi...   \n",
       "1                                           $187,300   \n",
       "2                                           $170,400   \n",
       "3                                           $159,300   \n",
       "4                                           $155,800   \n",
       "\n",
       "                                      % High Meaning  \n",
       "0  % alumni who say their work makes the world a ...  \n",
       "1                                                67%  \n",
       "2                                                28%  \n",
       "3                                                46%  \n",
       "4                                                55%  "
      ]
     },
     "execution_count": 3,
     "metadata": {},
     "output_type": "execute_result"
    }
   ],
   "source": [
    "raw_df.head(5)"
   ]
  },
  {
   "cell_type": "code",
   "execution_count": 4,
   "metadata": {},
   "outputs": [
    {
     "data": {
      "text/plain": [
       "(828, 6)"
      ]
     },
     "execution_count": 4,
     "metadata": {},
     "output_type": "execute_result"
    }
   ],
   "source": [
    "raw_df.shape"
   ]
  },
  {
   "cell_type": "code",
   "execution_count": 5,
   "metadata": {},
   "outputs": [
    {
     "data": {
      "text/html": [
       "<div>\n",
       "<style scoped>\n",
       "    .dataframe tbody tr th:only-of-type {\n",
       "        vertical-align: middle;\n",
       "    }\n",
       "\n",
       "    .dataframe tbody tr th {\n",
       "        vertical-align: top;\n",
       "    }\n",
       "\n",
       "    .dataframe thead th {\n",
       "        text-align: right;\n",
       "    }\n",
       "</style>\n",
       "<table border=\"1\" class=\"dataframe\">\n",
       "  <thead>\n",
       "    <tr style=\"text-align: right;\">\n",
       "      <th></th>\n",
       "      <th>Rank</th>\n",
       "      <th>Major</th>\n",
       "      <th>Degree Type</th>\n",
       "      <th>Early Career Pay</th>\n",
       "      <th>Mid-Career Pay</th>\n",
       "      <th>% High Meaning</th>\n",
       "    </tr>\n",
       "  </thead>\n",
       "  <tbody>\n",
       "    <tr>\n",
       "      <th>count</th>\n",
       "      <td>828</td>\n",
       "      <td>828</td>\n",
       "      <td>828</td>\n",
       "      <td>828</td>\n",
       "      <td>828</td>\n",
       "      <td>828</td>\n",
       "    </tr>\n",
       "    <tr>\n",
       "      <th>unique</th>\n",
       "      <td>507</td>\n",
       "      <td>828</td>\n",
       "      <td>2</td>\n",
       "      <td>329</td>\n",
       "      <td>507</td>\n",
       "      <td>73</td>\n",
       "    </tr>\n",
       "    <tr>\n",
       "      <th>top</th>\n",
       "      <td>397</td>\n",
       "      <td>-</td>\n",
       "      <td>Bachelors</td>\n",
       "      <td>$47,700</td>\n",
       "      <td>$85,900</td>\n",
       "      <td>-</td>\n",
       "    </tr>\n",
       "    <tr>\n",
       "      <th>freq</th>\n",
       "      <td>7</td>\n",
       "      <td>1</td>\n",
       "      <td>827</td>\n",
       "      <td>12</td>\n",
       "      <td>7</td>\n",
       "      <td>64</td>\n",
       "    </tr>\n",
       "  </tbody>\n",
       "</table>\n",
       "</div>"
      ],
      "text/plain": [
       "       Rank Major Degree Type Early Career Pay Mid-Career Pay % High Meaning\n",
       "count   828   828         828              828            828            828\n",
       "unique  507   828           2              329            507             73\n",
       "top     397     -   Bachelors          $47,700        $85,900              -\n",
       "freq      7     1         827               12              7             64"
      ]
     },
     "execution_count": 5,
     "metadata": {},
     "output_type": "execute_result"
    }
   ],
   "source": [
    "raw_df.describe()"
   ]
  },
  {
   "cell_type": "code",
   "execution_count": 6,
   "metadata": {},
   "outputs": [
    {
     "data": {
      "text/plain": [
       "Bachelors    827\n",
       "-              1\n",
       "Name: Degree Type, dtype: int64"
      ]
     },
     "execution_count": 6,
     "metadata": {},
     "output_type": "execute_result"
    }
   ],
   "source": [
    "raw_df['Degree Type'].value_counts()  \n",
    "# --> Only 'Bachelors' in 'Degree Type', except '-' in info-row."
   ]
  },
  {
   "cell_type": "markdown",
   "metadata": {},
   "source": [
    "**Check for duplicates**"
   ]
  },
  {
   "cell_type": "code",
   "execution_count": 7,
   "metadata": {
    "tags": []
   },
   "outputs": [
    {
     "name": "stdout",
     "output_type": "stream",
     "text": [
      "raw_df.duplicated().any() = False\n",
      "raw_df[\"Major\"].duplicated().any() = False\n"
     ]
    }
   ],
   "source": [
    "# Check for duplicates:\n",
    "\n",
    "print(f'{raw_df.duplicated().any() = }') \n",
    "# Returns true if any duplicates of a whole row\n",
    "\n",
    "print(f'{raw_df[\"Major\"].duplicated().any() = }')\n",
    "# Returns true if any duplicates in column 'Major'"
   ]
  },
  {
   "cell_type": "markdown",
   "metadata": {},
   "source": [
    "**Check index - reset if necessary**"
   ]
  },
  {
   "cell_type": "code",
   "execution_count": 8,
   "metadata": {
    "scrolled": true,
    "tags": []
   },
   "outputs": [
    {
     "data": {
      "text/plain": [
       "array([ 0,  1,  2,  3,  4,  5,  6,  7,  8,  9, 10, 11, 12, 13, 14, 15, 16,\n",
       "       17, 18, 19, 20, 21, 22, 23, 24, 25,  0,  1,  2,  3,  4,  5,  6,  7,\n",
       "        8,  9, 10, 11, 12, 13, 14, 15, 16, 17, 18, 19, 20, 21, 22, 23, 24,\n",
       "        0,  1,  2,  3,  4,  5,  6,  7,  8,  9, 10, 11, 12, 13, 14, 15, 16,\n",
       "       17, 18, 19, 20, 21, 22, 23, 24,  0,  1,  2,  3,  4,  5,  6,  7,  8,\n",
       "        9, 10, 11, 12, 13, 14, 15, 16, 17, 18, 19, 20, 21, 22, 23, 24,  0,\n",
       "        1,  2,  3,  4,  5,  6,  7,  8,  9, 10, 11, 12, 13, 14, 15, 16, 17,\n",
       "       18, 19, 20, 21, 22, 23, 24,  0,  1,  2,  3,  4,  5,  6,  7,  8,  9,\n",
       "       10, 11, 12, 13, 14, 15, 16, 17, 18, 19, 20, 21, 22, 23, 24,  0,  1,\n",
       "        2,  3,  4,  5,  6,  7,  8,  9, 10, 11, 12, 13, 14, 15, 16, 17, 18,\n",
       "       19, 20, 21, 22, 23, 24,  0,  1,  2,  3,  4,  5,  6,  7,  8,  9, 10,\n",
       "       11, 12, 13, 14, 15, 16, 17, 18, 19, 20, 21, 22, 23, 24,  0,  1,  2,\n",
       "        3,  4,  5,  6,  7,  8,  9, 10, 11, 12, 13, 14, 15, 16, 17, 18, 19,\n",
       "       20, 21, 22, 23, 24,  0,  1,  2,  3,  4,  5,  6,  7,  8,  9, 10, 11,\n",
       "       12, 13, 14, 15, 16, 17, 18, 19, 20, 21, 22, 23, 24,  0,  1,  2,  3,\n",
       "        4,  5,  6,  7,  8,  9, 10, 11, 12, 13, 14, 15, 16, 17, 18, 19, 20,\n",
       "       21, 22, 23, 24,  0,  1,  2,  3,  4,  5,  6,  7,  8,  9, 10, 11, 12,\n",
       "       13, 14, 15, 16, 17, 18, 19, 20, 21, 22, 23, 24,  0,  1,  2,  3,  4,\n",
       "        5,  6,  7,  8,  9, 10, 11, 12, 13, 14, 15, 16, 17, 18, 19, 20, 21,\n",
       "       22, 23, 24,  0,  1,  2,  3,  4,  5,  6,  7,  8,  9, 10, 11, 12, 13,\n",
       "       14, 15, 16, 17, 18, 19, 20, 21, 22, 23, 24,  0,  1,  2,  3,  4,  5,\n",
       "        6,  7,  8,  9, 10, 11, 12, 13, 14, 15, 16, 17, 18, 19, 20, 21, 22,\n",
       "       23, 24,  0,  1,  2,  3,  4,  5,  6,  7,  8,  9, 10, 11, 12, 13, 14,\n",
       "       15, 16, 17, 18, 19, 20, 21, 22, 23, 24,  0,  1,  2,  3,  4,  5,  6,\n",
       "        7,  8,  9, 10, 11, 12, 13, 14, 15, 16, 17, 18, 19, 20, 21, 22, 23,\n",
       "       24,  0,  1,  2,  3,  4,  5,  6,  7,  8,  9, 10, 11, 12, 13, 14, 15,\n",
       "       16, 17, 18, 19, 20, 21, 22, 23, 24,  0,  1,  2,  3,  4,  5,  6,  7,\n",
       "        8,  9, 10, 11, 12, 13, 14, 15, 16, 17, 18, 19, 20, 21, 22, 23, 24,\n",
       "        0,  1,  2,  3,  4,  5,  6,  7,  8,  9, 10, 11, 12, 13, 14, 15, 16,\n",
       "       17, 18, 19, 20, 21, 22, 23, 24,  0,  1,  2,  3,  4,  5,  6,  7,  8,\n",
       "        9, 10, 11, 12, 13, 14, 15, 16, 17, 18, 19, 20, 21, 22, 23, 24,  0,\n",
       "        1,  2,  3,  4,  5,  6,  7,  8,  9, 10, 11, 12, 13, 14, 15, 16, 17,\n",
       "       18, 19, 20, 21, 22, 23, 24,  0,  1,  2,  3,  4,  5,  6,  7,  8,  9,\n",
       "       10, 11, 12, 13, 14, 15, 16, 17, 18, 19, 20, 21, 22, 23, 24,  0,  1,\n",
       "        2,  3,  4,  5,  6,  7,  8,  9, 10, 11, 12, 13, 14, 15, 16, 17, 18,\n",
       "       19, 20, 21, 22, 23, 24,  0,  1,  2,  3,  4,  5,  6,  7,  8,  9, 10,\n",
       "       11, 12, 13, 14, 15, 16, 17, 18, 19, 20, 21, 22, 23, 24,  0,  1,  2,\n",
       "        3,  4,  5,  6,  7,  8,  9, 10, 11, 12, 13, 14, 15, 16, 17, 18, 19,\n",
       "       20, 21, 22, 23, 24,  0,  1,  2,  3,  4,  5,  6,  7,  8,  9, 10, 11,\n",
       "       12, 13, 14, 15, 16, 17, 18, 19, 20, 21, 22, 23, 24,  0,  1,  2,  3,\n",
       "        4,  5,  6,  7,  8,  9, 10, 11, 12, 13, 14, 15, 16, 17, 18, 19, 20,\n",
       "       21, 22, 23, 24,  0,  1,  2,  3,  4,  5,  6,  7,  8,  9, 10, 11, 12,\n",
       "       13, 14, 15, 16, 17, 18, 19, 20, 21, 22, 23, 24,  0,  1,  2,  3,  4,\n",
       "        5,  6,  7,  8,  9, 10, 11, 12, 13, 14, 15, 16, 17, 18, 19, 20, 21,\n",
       "       22, 23, 24,  0,  1,  2,  3,  4,  5,  6,  7,  8,  9, 10, 11, 12, 13,\n",
       "       14, 15, 16, 17, 18, 19, 20, 21, 22, 23, 24,  0,  1,  2,  3,  4,  5,\n",
       "        6,  7,  8,  9, 10, 11, 12, 13, 14, 15, 16, 17, 18, 19, 20, 21, 22,\n",
       "       23, 24,  0,  1,  2,  3,  4,  5,  6,  7,  8,  9, 10, 11, 12, 13, 14,\n",
       "       15, 16, 17, 18, 19, 20, 21, 22, 23, 24,  0,  1], dtype=int64)"
      ]
     },
     "execution_count": 8,
     "metadata": {},
     "output_type": "execute_result"
    }
   ],
   "source": [
    "raw_df.index.values  # --> Repeating index-pattern."
   ]
  },
  {
   "cell_type": "code",
   "execution_count": 9,
   "metadata": {
    "scrolled": true,
    "tags": []
   },
   "outputs": [
    {
     "data": {
      "text/plain": [
       "array([False, False, False, False, False, False, False, False, False,\n",
       "       False, False, False, False, False, False, False, False, False,\n",
       "       False, False, False, False, False, False, False, False,  True,\n",
       "        True,  True,  True,  True,  True,  True,  True,  True,  True,\n",
       "        True,  True,  True,  True,  True,  True,  True,  True,  True,\n",
       "        True,  True,  True,  True,  True,  True,  True,  True,  True,\n",
       "        True,  True,  True,  True,  True,  True,  True,  True,  True,\n",
       "        True,  True,  True,  True,  True,  True,  True,  True,  True,\n",
       "        True,  True,  True,  True,  True,  True,  True,  True,  True,\n",
       "        True,  True,  True,  True,  True,  True,  True,  True,  True,\n",
       "        True,  True,  True,  True,  True,  True,  True,  True,  True,\n",
       "        True,  True,  True,  True,  True,  True,  True,  True,  True,\n",
       "        True,  True,  True,  True,  True,  True,  True,  True,  True,\n",
       "        True,  True,  True,  True,  True,  True,  True,  True,  True,\n",
       "        True,  True,  True,  True,  True,  True,  True,  True,  True,\n",
       "        True,  True,  True,  True,  True,  True,  True,  True,  True,\n",
       "        True,  True,  True,  True,  True,  True,  True,  True,  True,\n",
       "        True,  True,  True,  True,  True,  True,  True,  True,  True,\n",
       "        True,  True,  True,  True,  True,  True,  True,  True,  True,\n",
       "        True,  True,  True,  True,  True,  True,  True,  True,  True,\n",
       "        True,  True,  True,  True,  True,  True,  True,  True,  True,\n",
       "        True,  True,  True,  True,  True,  True,  True,  True,  True,\n",
       "        True,  True,  True,  True,  True,  True,  True,  True,  True,\n",
       "        True,  True,  True,  True,  True,  True,  True,  True,  True,\n",
       "        True,  True,  True,  True,  True,  True,  True,  True,  True,\n",
       "        True,  True,  True,  True,  True,  True,  True,  True,  True,\n",
       "        True,  True,  True,  True,  True,  True,  True,  True,  True,\n",
       "        True,  True,  True,  True,  True,  True,  True,  True,  True,\n",
       "        True,  True,  True,  True,  True,  True,  True,  True,  True,\n",
       "        True,  True,  True,  True,  True,  True,  True,  True,  True,\n",
       "        True,  True,  True,  True,  True,  True,  True,  True,  True,\n",
       "        True,  True,  True,  True,  True,  True,  True,  True,  True,\n",
       "        True,  True,  True,  True,  True,  True,  True,  True,  True,\n",
       "        True,  True,  True,  True,  True,  True,  True,  True,  True,\n",
       "        True,  True,  True,  True,  True,  True,  True,  True,  True,\n",
       "        True,  True,  True,  True,  True,  True,  True,  True,  True,\n",
       "        True,  True,  True,  True,  True,  True,  True,  True,  True,\n",
       "        True,  True,  True,  True,  True,  True,  True,  True,  True,\n",
       "        True,  True,  True,  True,  True,  True,  True,  True,  True,\n",
       "        True,  True,  True,  True,  True,  True,  True,  True,  True,\n",
       "        True,  True,  True,  True,  True,  True,  True,  True,  True,\n",
       "        True,  True,  True,  True,  True,  True,  True,  True,  True,\n",
       "        True,  True,  True,  True,  True,  True,  True,  True,  True,\n",
       "        True,  True,  True,  True,  True,  True,  True,  True,  True,\n",
       "        True,  True,  True,  True,  True,  True,  True,  True,  True,\n",
       "        True,  True,  True,  True,  True,  True,  True,  True,  True,\n",
       "        True,  True,  True,  True,  True,  True,  True,  True,  True,\n",
       "        True,  True,  True,  True,  True,  True,  True,  True,  True,\n",
       "        True,  True,  True,  True,  True,  True,  True,  True,  True,\n",
       "        True,  True,  True,  True,  True,  True,  True,  True,  True,\n",
       "        True,  True,  True,  True,  True,  True,  True,  True,  True,\n",
       "        True,  True,  True,  True,  True,  True,  True,  True,  True,\n",
       "        True,  True,  True,  True,  True,  True,  True,  True,  True,\n",
       "        True,  True,  True,  True,  True,  True,  True,  True,  True,\n",
       "        True,  True,  True,  True,  True,  True,  True,  True,  True,\n",
       "        True,  True,  True,  True,  True,  True,  True,  True,  True,\n",
       "        True,  True,  True,  True,  True,  True,  True,  True,  True,\n",
       "        True,  True,  True,  True,  True,  True,  True,  True,  True,\n",
       "        True,  True,  True,  True,  True,  True,  True,  True,  True,\n",
       "        True,  True,  True,  True,  True,  True,  True,  True,  True,\n",
       "        True,  True,  True,  True,  True,  True,  True,  True,  True,\n",
       "        True,  True,  True,  True,  True,  True,  True,  True,  True,\n",
       "        True,  True,  True,  True,  True,  True,  True,  True,  True,\n",
       "        True,  True,  True,  True,  True,  True,  True,  True,  True,\n",
       "        True,  True,  True,  True,  True,  True,  True,  True,  True,\n",
       "        True,  True,  True,  True,  True,  True,  True,  True,  True,\n",
       "        True,  True,  True,  True,  True,  True,  True,  True,  True,\n",
       "        True,  True,  True,  True,  True,  True,  True,  True,  True,\n",
       "        True,  True,  True,  True,  True,  True,  True,  True,  True,\n",
       "        True,  True,  True,  True,  True,  True,  True,  True,  True,\n",
       "        True,  True,  True,  True,  True,  True,  True,  True,  True,\n",
       "        True,  True,  True,  True,  True,  True,  True,  True,  True,\n",
       "        True,  True,  True,  True,  True,  True,  True,  True,  True,\n",
       "        True,  True,  True,  True,  True,  True,  True,  True,  True,\n",
       "        True,  True,  True,  True,  True,  True,  True,  True,  True,\n",
       "        True,  True,  True,  True,  True,  True,  True,  True,  True,\n",
       "        True,  True,  True,  True,  True,  True,  True,  True,  True,\n",
       "        True,  True,  True,  True,  True,  True,  True,  True,  True,\n",
       "        True,  True,  True,  True,  True,  True,  True,  True,  True,\n",
       "        True,  True,  True,  True,  True,  True,  True,  True,  True,\n",
       "        True,  True,  True,  True,  True,  True,  True,  True,  True,\n",
       "        True,  True,  True,  True,  True,  True,  True,  True,  True,\n",
       "        True,  True,  True,  True,  True,  True,  True,  True,  True,\n",
       "        True,  True,  True,  True,  True,  True,  True,  True,  True,\n",
       "        True,  True,  True,  True,  True,  True,  True,  True,  True,\n",
       "        True,  True,  True,  True,  True,  True,  True,  True,  True,\n",
       "        True,  True,  True,  True,  True,  True,  True,  True,  True,\n",
       "        True,  True,  True,  True,  True,  True,  True,  True,  True,\n",
       "        True,  True,  True,  True,  True,  True,  True,  True,  True,\n",
       "        True,  True,  True,  True,  True,  True,  True,  True,  True,\n",
       "        True,  True,  True,  True,  True,  True,  True,  True,  True,\n",
       "        True,  True,  True,  True,  True,  True,  True,  True,  True])"
      ]
     },
     "execution_count": 9,
     "metadata": {},
     "output_type": "execute_result"
    }
   ],
   "source": [
    "raw_df.index.duplicated()"
   ]
  },
  {
   "cell_type": "code",
   "execution_count": 10,
   "metadata": {
    "tags": []
   },
   "outputs": [
    {
     "data": {
      "text/html": [
       "<div>\n",
       "<style scoped>\n",
       "    .dataframe tbody tr th:only-of-type {\n",
       "        vertical-align: middle;\n",
       "    }\n",
       "\n",
       "    .dataframe tbody tr th {\n",
       "        vertical-align: top;\n",
       "    }\n",
       "\n",
       "    .dataframe thead th {\n",
       "        text-align: right;\n",
       "    }\n",
       "</style>\n",
       "<table border=\"1\" class=\"dataframe\">\n",
       "  <thead>\n",
       "    <tr style=\"text-align: right;\">\n",
       "      <th></th>\n",
       "      <th>Rank</th>\n",
       "      <th>Major</th>\n",
       "      <th>Degree Type</th>\n",
       "      <th>Early Career Pay</th>\n",
       "      <th>Mid-Career Pay</th>\n",
       "      <th>% High Meaning</th>\n",
       "    </tr>\n",
       "  </thead>\n",
       "  <tbody>\n",
       "    <tr>\n",
       "      <th>0</th>\n",
       "      <td>-</td>\n",
       "      <td>-</td>\n",
       "      <td>-</td>\n",
       "      <td>Median salary for alumni with 0-5 years experi...</td>\n",
       "      <td>Median salary for alumni with 10+ years experi...</td>\n",
       "      <td>% alumni who say their work makes the world a ...</td>\n",
       "    </tr>\n",
       "    <tr>\n",
       "      <th>1</th>\n",
       "      <td>1</td>\n",
       "      <td>Petroleum Engineering</td>\n",
       "      <td>Bachelors</td>\n",
       "      <td>$93,200</td>\n",
       "      <td>$187,300</td>\n",
       "      <td>67%</td>\n",
       "    </tr>\n",
       "    <tr>\n",
       "      <th>2</th>\n",
       "      <td>2</td>\n",
       "      <td>Operations Research &amp; Industrial Engineering</td>\n",
       "      <td>Bachelors</td>\n",
       "      <td>$84,800</td>\n",
       "      <td>$170,400</td>\n",
       "      <td>28%</td>\n",
       "    </tr>\n",
       "    <tr>\n",
       "      <th>3</th>\n",
       "      <td>3</td>\n",
       "      <td>Electrical Engineering &amp; Computer Science (EECS)</td>\n",
       "      <td>Bachelors</td>\n",
       "      <td>$108,500</td>\n",
       "      <td>$159,300</td>\n",
       "      <td>46%</td>\n",
       "    </tr>\n",
       "    <tr>\n",
       "      <th>4</th>\n",
       "      <td>4</td>\n",
       "      <td>Interaction Design</td>\n",
       "      <td>Bachelors</td>\n",
       "      <td>$68,300</td>\n",
       "      <td>$155,800</td>\n",
       "      <td>55%</td>\n",
       "    </tr>\n",
       "    <tr>\n",
       "      <th>...</th>\n",
       "      <td>...</td>\n",
       "      <td>...</td>\n",
       "      <td>...</td>\n",
       "      <td>...</td>\n",
       "      <td>...</td>\n",
       "      <td>...</td>\n",
       "    </tr>\n",
       "    <tr>\n",
       "      <th>823</th>\n",
       "      <td>823</td>\n",
       "      <td>Outdoor Education</td>\n",
       "      <td>Bachelors</td>\n",
       "      <td>$37,400</td>\n",
       "      <td>$46,300</td>\n",
       "      <td>52%</td>\n",
       "    </tr>\n",
       "    <tr>\n",
       "      <th>824</th>\n",
       "      <td>824</td>\n",
       "      <td>Early Childhood Education</td>\n",
       "      <td>Bachelors</td>\n",
       "      <td>$36,100</td>\n",
       "      <td>$45,400</td>\n",
       "      <td>78%</td>\n",
       "    </tr>\n",
       "    <tr>\n",
       "      <th>825</th>\n",
       "      <td>825</td>\n",
       "      <td>Mental Health</td>\n",
       "      <td>Bachelors</td>\n",
       "      <td>$36,900</td>\n",
       "      <td>$45,000</td>\n",
       "      <td>-</td>\n",
       "    </tr>\n",
       "    <tr>\n",
       "      <th>826</th>\n",
       "      <td>826</td>\n",
       "      <td>Medical Assisting</td>\n",
       "      <td>Bachelors</td>\n",
       "      <td>$36,000</td>\n",
       "      <td>$44,800</td>\n",
       "      <td>-</td>\n",
       "    </tr>\n",
       "    <tr>\n",
       "      <th>827</th>\n",
       "      <td>827</td>\n",
       "      <td>Metalsmithing</td>\n",
       "      <td>Bachelors</td>\n",
       "      <td>$40,000</td>\n",
       "      <td>$40,300</td>\n",
       "      <td>33%</td>\n",
       "    </tr>\n",
       "  </tbody>\n",
       "</table>\n",
       "<p>828 rows × 6 columns</p>\n",
       "</div>"
      ],
      "text/plain": [
       "    Rank                                             Major Degree Type  \\\n",
       "0      -                                                 -           -   \n",
       "1      1                             Petroleum Engineering   Bachelors   \n",
       "2      2      Operations Research & Industrial Engineering   Bachelors   \n",
       "3      3  Electrical Engineering & Computer Science (EECS)   Bachelors   \n",
       "4      4                                Interaction Design   Bachelors   \n",
       "..   ...                                               ...         ...   \n",
       "823  823                                 Outdoor Education   Bachelors   \n",
       "824  824                         Early Childhood Education   Bachelors   \n",
       "825  825                                     Mental Health   Bachelors   \n",
       "826  826                                 Medical Assisting   Bachelors   \n",
       "827  827                                     Metalsmithing   Bachelors   \n",
       "\n",
       "                                      Early Career Pay  \\\n",
       "0    Median salary for alumni with 0-5 years experi...   \n",
       "1                                              $93,200   \n",
       "2                                              $84,800   \n",
       "3                                             $108,500   \n",
       "4                                              $68,300   \n",
       "..                                                 ...   \n",
       "823                                            $37,400   \n",
       "824                                            $36,100   \n",
       "825                                            $36,900   \n",
       "826                                            $36,000   \n",
       "827                                            $40,000   \n",
       "\n",
       "                                        Mid-Career Pay  \\\n",
       "0    Median salary for alumni with 10+ years experi...   \n",
       "1                                             $187,300   \n",
       "2                                             $170,400   \n",
       "3                                             $159,300   \n",
       "4                                             $155,800   \n",
       "..                                                 ...   \n",
       "823                                            $46,300   \n",
       "824                                            $45,400   \n",
       "825                                            $45,000   \n",
       "826                                            $44,800   \n",
       "827                                            $40,300   \n",
       "\n",
       "                                        % High Meaning  \n",
       "0    % alumni who say their work makes the world a ...  \n",
       "1                                                  67%  \n",
       "2                                                  28%  \n",
       "3                                                  46%  \n",
       "4                                                  55%  \n",
       "..                                                 ...  \n",
       "823                                                52%  \n",
       "824                                                78%  \n",
       "825                                                  -  \n",
       "826                                                  -  \n",
       "827                                                33%  \n",
       "\n",
       "[828 rows x 6 columns]"
      ]
     },
     "execution_count": 10,
     "metadata": {},
     "output_type": "execute_result"
    }
   ],
   "source": [
    "df = raw_df.reset_index(drop=True) \n",
    "# drop=True --> avoid the old index being added as a column\n",
    "df"
   ]
  },
  {
   "cell_type": "markdown",
   "metadata": {
    "id": "Q_ceyEME2Fmi"
   },
   "source": [
    "---\n",
    "\n",
    "## Initial remarks\n",
    "\n",
    "1. There are 827 different Majors.\n",
    "\n",
    "2.   Row 0 contains definitions for some of the column lables --> **Delete row 0.** ✅\n",
    "    \n",
    "3.   The index is repeating itself --> **Reset index.** ✅\n",
    "\n",
    "4.   'Rank': The majors are ranked by \"Mid-Career Pay\"-values. Majors with the same Mid-Career Pay, have the same ranking. Do not need this column --> **Delete 'Rank'** ✅\n",
    "\n",
    "5.   'Degree Type': There are only Bachelors. --> **Delete 'Degree Type'.** ✅\n",
    "\n",
    "6.   There are some missing values, represented by \"-\".\n",
    "\n",
    "7.   Check datatypes.\n",
    "\n",
    "---"
   ]
  },
  {
   "cell_type": "code",
   "execution_count": 11,
   "metadata": {},
   "outputs": [
    {
     "data": {
      "text/plain": [
       "(828, 6)"
      ]
     },
     "execution_count": 11,
     "metadata": {},
     "output_type": "execute_result"
    }
   ],
   "source": [
    "df.shape"
   ]
  },
  {
   "cell_type": "code",
   "execution_count": 12,
   "metadata": {},
   "outputs": [
    {
     "data": {
      "text/plain": [
       "(827, 6)"
      ]
     },
     "execution_count": 12,
     "metadata": {},
     "output_type": "execute_result"
    }
   ],
   "source": [
    "# (2) Delete row 0.\n",
    "df = df.drop([0]) \n",
    "df.shape"
   ]
  },
  {
   "cell_type": "code",
   "execution_count": 13,
   "metadata": {
    "colab": {
     "base_uri": "https://localhost:8080/",
     "height": 315
    },
    "executionInfo": {
     "elapsed": 1103,
     "status": "ok",
     "timestamp": 1678284741580,
     "user": {
      "displayName": "Elisabeth",
      "userId": "16301634715832565598"
     },
     "user_tz": -60
    },
    "id": "2YNEyxsv1b-7",
    "outputId": "b2adbe13-289c-4e9c-e656-e1dd4c344da2"
   },
   "outputs": [
    {
     "data": {
      "text/html": [
       "<div>\n",
       "<style scoped>\n",
       "    .dataframe tbody tr th:only-of-type {\n",
       "        vertical-align: middle;\n",
       "    }\n",
       "\n",
       "    .dataframe tbody tr th {\n",
       "        vertical-align: top;\n",
       "    }\n",
       "\n",
       "    .dataframe thead th {\n",
       "        text-align: right;\n",
       "    }\n",
       "</style>\n",
       "<table border=\"1\" class=\"dataframe\">\n",
       "  <thead>\n",
       "    <tr style=\"text-align: right;\">\n",
       "      <th></th>\n",
       "      <th>Major</th>\n",
       "      <th>Early Career Pay</th>\n",
       "      <th>Mid-Career Pay</th>\n",
       "      <th>% High Meaning</th>\n",
       "    </tr>\n",
       "  </thead>\n",
       "  <tbody>\n",
       "    <tr>\n",
       "      <th>1</th>\n",
       "      <td>Petroleum Engineering</td>\n",
       "      <td>$93,200</td>\n",
       "      <td>$187,300</td>\n",
       "      <td>67%</td>\n",
       "    </tr>\n",
       "    <tr>\n",
       "      <th>2</th>\n",
       "      <td>Operations Research &amp; Industrial Engineering</td>\n",
       "      <td>$84,800</td>\n",
       "      <td>$170,400</td>\n",
       "      <td>28%</td>\n",
       "    </tr>\n",
       "    <tr>\n",
       "      <th>3</th>\n",
       "      <td>Electrical Engineering &amp; Computer Science (EECS)</td>\n",
       "      <td>$108,500</td>\n",
       "      <td>$159,300</td>\n",
       "      <td>46%</td>\n",
       "    </tr>\n",
       "    <tr>\n",
       "      <th>4</th>\n",
       "      <td>Interaction Design</td>\n",
       "      <td>$68,300</td>\n",
       "      <td>$155,800</td>\n",
       "      <td>55%</td>\n",
       "    </tr>\n",
       "    <tr>\n",
       "      <th>5</th>\n",
       "      <td>Public Accounting</td>\n",
       "      <td>$59,800</td>\n",
       "      <td>$147,700</td>\n",
       "      <td>47%</td>\n",
       "    </tr>\n",
       "    <tr>\n",
       "      <th>...</th>\n",
       "      <td>...</td>\n",
       "      <td>...</td>\n",
       "      <td>...</td>\n",
       "      <td>...</td>\n",
       "    </tr>\n",
       "    <tr>\n",
       "      <th>823</th>\n",
       "      <td>Outdoor Education</td>\n",
       "      <td>$37,400</td>\n",
       "      <td>$46,300</td>\n",
       "      <td>52%</td>\n",
       "    </tr>\n",
       "    <tr>\n",
       "      <th>824</th>\n",
       "      <td>Early Childhood Education</td>\n",
       "      <td>$36,100</td>\n",
       "      <td>$45,400</td>\n",
       "      <td>78%</td>\n",
       "    </tr>\n",
       "    <tr>\n",
       "      <th>825</th>\n",
       "      <td>Mental Health</td>\n",
       "      <td>$36,900</td>\n",
       "      <td>$45,000</td>\n",
       "      <td>-</td>\n",
       "    </tr>\n",
       "    <tr>\n",
       "      <th>826</th>\n",
       "      <td>Medical Assisting</td>\n",
       "      <td>$36,000</td>\n",
       "      <td>$44,800</td>\n",
       "      <td>-</td>\n",
       "    </tr>\n",
       "    <tr>\n",
       "      <th>827</th>\n",
       "      <td>Metalsmithing</td>\n",
       "      <td>$40,000</td>\n",
       "      <td>$40,300</td>\n",
       "      <td>33%</td>\n",
       "    </tr>\n",
       "  </tbody>\n",
       "</table>\n",
       "<p>827 rows × 4 columns</p>\n",
       "</div>"
      ],
      "text/plain": [
       "                                                Major Early Career Pay  \\\n",
       "1                               Petroleum Engineering          $93,200   \n",
       "2        Operations Research & Industrial Engineering          $84,800   \n",
       "3    Electrical Engineering & Computer Science (EECS)         $108,500   \n",
       "4                                  Interaction Design          $68,300   \n",
       "5                                   Public Accounting          $59,800   \n",
       "..                                                ...              ...   \n",
       "823                                 Outdoor Education          $37,400   \n",
       "824                         Early Childhood Education          $36,100   \n",
       "825                                     Mental Health          $36,900   \n",
       "826                                 Medical Assisting          $36,000   \n",
       "827                                     Metalsmithing          $40,000   \n",
       "\n",
       "    Mid-Career Pay % High Meaning  \n",
       "1         $187,300            67%  \n",
       "2         $170,400            28%  \n",
       "3         $159,300            46%  \n",
       "4         $155,800            55%  \n",
       "5         $147,700            47%  \n",
       "..             ...            ...  \n",
       "823        $46,300            52%  \n",
       "824        $45,400            78%  \n",
       "825        $45,000              -  \n",
       "826        $44,800              -  \n",
       "827        $40,300            33%  \n",
       "\n",
       "[827 rows x 4 columns]"
      ]
     },
     "execution_count": 13,
     "metadata": {},
     "output_type": "execute_result"
    }
   ],
   "source": [
    "# (4)(5) Delete two columns.\n",
    "df = df.drop(labels=['Rank', 'Degree Type'], axis=1) \n",
    "df"
   ]
  },
  {
   "cell_type": "markdown",
   "metadata": {
    "id": "y4dWieFYKdb7"
   },
   "source": [
    "---\n",
    "**5. There are some missing values, represented by \"-\".**\n",
    "\n",
    "✅ Replace '-' with '-1'.\n",
    "\n",
    "**6. Check data-types**\n",
    "\n",
    "✅ Make sure the numbers are int or float.\n",
    "\n",
    "---"
   ]
  },
  {
   "cell_type": "code",
   "execution_count": 14,
   "metadata": {},
   "outputs": [
    {
     "data": {
      "text/plain": [
       "Major               object\n",
       "Early Career Pay    object\n",
       "Mid-Career Pay      object\n",
       "% High Meaning      object\n",
       "dtype: object"
      ]
     },
     "execution_count": 14,
     "metadata": {},
     "output_type": "execute_result"
    }
   ],
   "source": [
    "df.dtypes"
   ]
  },
  {
   "cell_type": "code",
   "execution_count": 18,
   "metadata": {
    "colab": {
     "base_uri": "https://localhost:8080/",
     "height": 315
    },
    "executionInfo": {
     "elapsed": 30,
     "status": "ok",
     "timestamp": 1678284741581,
     "user": {
      "displayName": "Elisabeth",
      "userId": "16301634715832565598"
     },
     "user_tz": -60
    },
    "id": "32T1T4PUKxM1",
    "outputId": "00d05b7f-cda1-493e-928d-11831272f59f"
   },
   "outputs": [
    {
     "data": {
      "text/html": [
       "<div>\n",
       "<style scoped>\n",
       "    .dataframe tbody tr th:only-of-type {\n",
       "        vertical-align: middle;\n",
       "    }\n",
       "\n",
       "    .dataframe tbody tr th {\n",
       "        vertical-align: top;\n",
       "    }\n",
       "\n",
       "    .dataframe thead th {\n",
       "        text-align: right;\n",
       "    }\n",
       "</style>\n",
       "<table border=\"1\" class=\"dataframe\">\n",
       "  <thead>\n",
       "    <tr style=\"text-align: right;\">\n",
       "      <th></th>\n",
       "      <th>Major</th>\n",
       "      <th>Early Career Pay</th>\n",
       "      <th>Mid-Career Pay</th>\n",
       "      <th>% High Meaning</th>\n",
       "    </tr>\n",
       "  </thead>\n",
       "  <tbody>\n",
       "    <tr>\n",
       "      <th>1</th>\n",
       "      <td>Petroleum Engineering</td>\n",
       "      <td>93200</td>\n",
       "      <td>187300</td>\n",
       "      <td>67</td>\n",
       "    </tr>\n",
       "    <tr>\n",
       "      <th>2</th>\n",
       "      <td>Operations Research &amp; Industrial Engineering</td>\n",
       "      <td>84800</td>\n",
       "      <td>170400</td>\n",
       "      <td>28</td>\n",
       "    </tr>\n",
       "    <tr>\n",
       "      <th>3</th>\n",
       "      <td>Electrical Engineering &amp; Computer Science (EECS)</td>\n",
       "      <td>108500</td>\n",
       "      <td>159300</td>\n",
       "      <td>46</td>\n",
       "    </tr>\n",
       "    <tr>\n",
       "      <th>4</th>\n",
       "      <td>Interaction Design</td>\n",
       "      <td>68300</td>\n",
       "      <td>155800</td>\n",
       "      <td>55</td>\n",
       "    </tr>\n",
       "    <tr>\n",
       "      <th>5</th>\n",
       "      <td>Public Accounting</td>\n",
       "      <td>59800</td>\n",
       "      <td>147700</td>\n",
       "      <td>47</td>\n",
       "    </tr>\n",
       "  </tbody>\n",
       "</table>\n",
       "</div>"
      ],
      "text/plain": [
       "                                              Major Early Career Pay  \\\n",
       "1                             Petroleum Engineering            93200   \n",
       "2      Operations Research & Industrial Engineering            84800   \n",
       "3  Electrical Engineering & Computer Science (EECS)           108500   \n",
       "4                                Interaction Design            68300   \n",
       "5                                 Public Accounting            59800   \n",
       "\n",
       "  Mid-Career Pay % High Meaning  \n",
       "1         187300             67  \n",
       "2         170400             28  \n",
       "3         159300             46  \n",
       "4         155800             55  \n",
       "5         147700             47  "
      ]
     },
     "execution_count": 18,
     "metadata": {},
     "output_type": "execute_result"
    }
   ],
   "source": [
    "num_df = df.replace('\\$|,|%', '', regex=True)\n",
    "num_df.head(5)"
   ]
  },
  {
   "cell_type": "code",
   "execution_count": 19,
   "metadata": {
    "executionInfo": {
     "elapsed": 28,
     "status": "ok",
     "timestamp": 1678284741582,
     "user": {
      "displayName": "Elisabeth",
      "userId": "16301634715832565598"
     },
     "user_tz": -60
    },
    "id": "otIfAQnQ3uZj"
   },
   "outputs": [],
   "source": [
    "num_df['Early Career Pay'] = num_df['Early Career Pay'].astype(float)\n",
    "num_df['Mid-Career Pay'] = num_df['Mid-Career Pay'].astype(float)\n",
    "num_df['% High Meaning'] = num_df['% High Meaning'].replace(['-'], [-1]).astype(float)  \n",
    "# Replace '-' with -1, and convert column to integers."
   ]
  },
  {
   "cell_type": "code",
   "execution_count": 20,
   "metadata": {
    "colab": {
     "base_uri": "https://localhost:8080/"
    },
    "executionInfo": {
     "elapsed": 29,
     "status": "ok",
     "timestamp": 1678284741583,
     "user": {
      "displayName": "Elisabeth",
      "userId": "16301634715832565598"
     },
     "user_tz": -60
    },
    "id": "Tad_vQLUOd-5",
    "outputId": "049a9323-a791-413d-acbd-52302edadf7b"
   },
   "outputs": [
    {
     "data": {
      "text/plain": [
       "Major                object\n",
       "Early Career Pay    float64\n",
       "Mid-Career Pay      float64\n",
       "% High Meaning      float64\n",
       "dtype: object"
      ]
     },
     "execution_count": 20,
     "metadata": {},
     "output_type": "execute_result"
    }
   ],
   "source": [
    "num_df.dtypes"
   ]
  },
  {
   "cell_type": "code",
   "execution_count": 22,
   "metadata": {
    "colab": {
     "base_uri": "https://localhost:8080/",
     "height": 315
    },
    "executionInfo": {
     "elapsed": 26,
     "status": "ok",
     "timestamp": 1678284741583,
     "user": {
      "displayName": "Elisabeth",
      "userId": "16301634715832565598"
     },
     "user_tz": -60
    },
    "id": "vHuzX0HsOjsR",
    "outputId": "c023edc8-7385-4e3a-a490-5931d738c4e1"
   },
   "outputs": [
    {
     "data": {
      "text/html": [
       "<div>\n",
       "<style scoped>\n",
       "    .dataframe tbody tr th:only-of-type {\n",
       "        vertical-align: middle;\n",
       "    }\n",
       "\n",
       "    .dataframe tbody tr th {\n",
       "        vertical-align: top;\n",
       "    }\n",
       "\n",
       "    .dataframe thead th {\n",
       "        text-align: right;\n",
       "    }\n",
       "</style>\n",
       "<table border=\"1\" class=\"dataframe\">\n",
       "  <thead>\n",
       "    <tr style=\"text-align: right;\">\n",
       "      <th></th>\n",
       "      <th>Major</th>\n",
       "      <th>Early Career Pay</th>\n",
       "      <th>Mid-Career Pay</th>\n",
       "      <th>% High Meaning</th>\n",
       "    </tr>\n",
       "  </thead>\n",
       "  <tbody>\n",
       "    <tr>\n",
       "      <th>1</th>\n",
       "      <td>Petroleum Engineering</td>\n",
       "      <td>93200.0</td>\n",
       "      <td>187300.0</td>\n",
       "      <td>67.0</td>\n",
       "    </tr>\n",
       "    <tr>\n",
       "      <th>2</th>\n",
       "      <td>Operations Research &amp; Industrial Engineering</td>\n",
       "      <td>84800.0</td>\n",
       "      <td>170400.0</td>\n",
       "      <td>28.0</td>\n",
       "    </tr>\n",
       "    <tr>\n",
       "      <th>3</th>\n",
       "      <td>Electrical Engineering &amp; Computer Science (EECS)</td>\n",
       "      <td>108500.0</td>\n",
       "      <td>159300.0</td>\n",
       "      <td>46.0</td>\n",
       "    </tr>\n",
       "    <tr>\n",
       "      <th>4</th>\n",
       "      <td>Interaction Design</td>\n",
       "      <td>68300.0</td>\n",
       "      <td>155800.0</td>\n",
       "      <td>55.0</td>\n",
       "    </tr>\n",
       "    <tr>\n",
       "      <th>5</th>\n",
       "      <td>Public Accounting</td>\n",
       "      <td>59800.0</td>\n",
       "      <td>147700.0</td>\n",
       "      <td>47.0</td>\n",
       "    </tr>\n",
       "  </tbody>\n",
       "</table>\n",
       "</div>"
      ],
      "text/plain": [
       "                                              Major  Early Career Pay  \\\n",
       "1                             Petroleum Engineering           93200.0   \n",
       "2      Operations Research & Industrial Engineering           84800.0   \n",
       "3  Electrical Engineering & Computer Science (EECS)          108500.0   \n",
       "4                                Interaction Design           68300.0   \n",
       "5                                 Public Accounting           59800.0   \n",
       "\n",
       "   Mid-Career Pay  % High Meaning  \n",
       "1        187300.0            67.0  \n",
       "2        170400.0            28.0  \n",
       "3        159300.0            46.0  \n",
       "4        155800.0            55.0  \n",
       "5        147700.0            47.0  "
      ]
     },
     "execution_count": 22,
     "metadata": {},
     "output_type": "execute_result"
    }
   ],
   "source": [
    "num_df.head(5)"
   ]
  },
  {
   "cell_type": "markdown",
   "metadata": {
    "id": "iv7a5Xn0sjf7"
   },
   "source": [
    "---\n",
    "\n",
    "# Styling"
   ]
  },
  {
   "cell_type": "markdown",
   "metadata": {
    "id": "8wcEW-0H6AtS"
   },
   "source": [
    "``df.style``\n",
    "\n",
    "\n",
    "``df.style.format()``\n",
    "\n",
    "keyword arguments:\n",
    "\n",
    "*   precision: int= 0       \n",
    "    * \\# of decimals.\n",
    "*   thousands: str= ' '\n",
    "    * thousands separator, f.eks. ' ' (space).\n",
    "*   formatter={\n",
    "          ('column name'): 'formatting string'\n",
    "}\n",
    "    * Where formatting string is like an f-string, with python formatting-syntax. '$ {}'"
   ]
  },
  {
   "cell_type": "code",
   "execution_count": 23,
   "metadata": {},
   "outputs": [
    {
     "data": {
      "text/html": [
       "<div>\n",
       "<style scoped>\n",
       "    .dataframe tbody tr th:only-of-type {\n",
       "        vertical-align: middle;\n",
       "    }\n",
       "\n",
       "    .dataframe tbody tr th {\n",
       "        vertical-align: top;\n",
       "    }\n",
       "\n",
       "    .dataframe thead th {\n",
       "        text-align: right;\n",
       "    }\n",
       "</style>\n",
       "<table border=\"1\" class=\"dataframe\">\n",
       "  <thead>\n",
       "    <tr style=\"text-align: right;\">\n",
       "      <th></th>\n",
       "      <th>Major</th>\n",
       "      <th>Early Career Pay</th>\n",
       "      <th>Mid-Career Pay</th>\n",
       "      <th>% High Meaning</th>\n",
       "    </tr>\n",
       "  </thead>\n",
       "  <tbody>\n",
       "    <tr>\n",
       "      <th>count</th>\n",
       "      <td>827</td>\n",
       "      <td>827</td>\n",
       "      <td>827</td>\n",
       "      <td>827</td>\n",
       "    </tr>\n",
       "    <tr>\n",
       "      <th>unique</th>\n",
       "      <td>827</td>\n",
       "      <td>328</td>\n",
       "      <td>506</td>\n",
       "      <td>72</td>\n",
       "    </tr>\n",
       "    <tr>\n",
       "      <th>top</th>\n",
       "      <td>Petroleum Engineering</td>\n",
       "      <td>$47,700</td>\n",
       "      <td>$85,900</td>\n",
       "      <td>-</td>\n",
       "    </tr>\n",
       "    <tr>\n",
       "      <th>freq</th>\n",
       "      <td>1</td>\n",
       "      <td>12</td>\n",
       "      <td>7</td>\n",
       "      <td>64</td>\n",
       "    </tr>\n",
       "  </tbody>\n",
       "</table>\n",
       "</div>"
      ],
      "text/plain": [
       "                        Major Early Career Pay Mid-Career Pay % High Meaning\n",
       "count                     827              827            827            827\n",
       "unique                    827              328            506             72\n",
       "top     Petroleum Engineering          $47,700        $85,900              -\n",
       "freq                        1               12              7             64"
      ]
     },
     "execution_count": 23,
     "metadata": {},
     "output_type": "execute_result"
    }
   ],
   "source": [
    "df.describe()  # Without styling"
   ]
  },
  {
   "cell_type": "code",
   "execution_count": 24,
   "metadata": {},
   "outputs": [
    {
     "data": {
      "text/html": [
       "<style type=\"text/css\">\n",
       "</style>\n",
       "<table id=\"T_fedfd\">\n",
       "  <thead>\n",
       "    <tr>\n",
       "      <th class=\"blank level0\" >&nbsp;</th>\n",
       "      <th id=\"T_fedfd_level0_col0\" class=\"col_heading level0 col0\" >Major</th>\n",
       "      <th id=\"T_fedfd_level0_col1\" class=\"col_heading level0 col1\" >Early Career Pay</th>\n",
       "      <th id=\"T_fedfd_level0_col2\" class=\"col_heading level0 col2\" >Mid-Career Pay</th>\n",
       "      <th id=\"T_fedfd_level0_col3\" class=\"col_heading level0 col3\" >% High Meaning</th>\n",
       "    </tr>\n",
       "  </thead>\n",
       "  <tbody>\n",
       "    <tr>\n",
       "      <th id=\"T_fedfd_level0_row0\" class=\"row_heading level0 row0\" >count</th>\n",
       "      <td id=\"T_fedfd_row0_col0\" class=\"data row0 col0\" >827</td>\n",
       "      <td id=\"T_fedfd_row0_col1\" class=\"data row0 col1\" >827</td>\n",
       "      <td id=\"T_fedfd_row0_col2\" class=\"data row0 col2\" >827</td>\n",
       "      <td id=\"T_fedfd_row0_col3\" class=\"data row0 col3\" >827</td>\n",
       "    </tr>\n",
       "    <tr>\n",
       "      <th id=\"T_fedfd_level0_row1\" class=\"row_heading level0 row1\" >unique</th>\n",
       "      <td id=\"T_fedfd_row1_col0\" class=\"data row1 col0\" >827</td>\n",
       "      <td id=\"T_fedfd_row1_col1\" class=\"data row1 col1\" >328</td>\n",
       "      <td id=\"T_fedfd_row1_col2\" class=\"data row1 col2\" >506</td>\n",
       "      <td id=\"T_fedfd_row1_col3\" class=\"data row1 col3\" >72</td>\n",
       "    </tr>\n",
       "    <tr>\n",
       "      <th id=\"T_fedfd_level0_row2\" class=\"row_heading level0 row2\" >top</th>\n",
       "      <td id=\"T_fedfd_row2_col0\" class=\"data row2 col0\" >Petroleum Engineering</td>\n",
       "      <td id=\"T_fedfd_row2_col1\" class=\"data row2 col1\" >$47,700</td>\n",
       "      <td id=\"T_fedfd_row2_col2\" class=\"data row2 col2\" >$85,900</td>\n",
       "      <td id=\"T_fedfd_row2_col3\" class=\"data row2 col3\" >-</td>\n",
       "    </tr>\n",
       "    <tr>\n",
       "      <th id=\"T_fedfd_level0_row3\" class=\"row_heading level0 row3\" >freq</th>\n",
       "      <td id=\"T_fedfd_row3_col0\" class=\"data row3 col0\" >1</td>\n",
       "      <td id=\"T_fedfd_row3_col1\" class=\"data row3 col1\" >12</td>\n",
       "      <td id=\"T_fedfd_row3_col2\" class=\"data row3 col2\" >7</td>\n",
       "      <td id=\"T_fedfd_row3_col3\" class=\"data row3 col3\" >64</td>\n",
       "    </tr>\n",
       "  </tbody>\n",
       "</table>\n"
      ],
      "text/plain": [
       "<pandas.io.formats.style.Styler at 0x24cce36ef10>"
      ]
     },
     "execution_count": 24,
     "metadata": {},
     "output_type": "execute_result"
    }
   ],
   "source": [
    "df.describe().style.format(precision=0, thousands=' ')\n",
    "# With no decimals and a space as thousands separator."
   ]
  },
  {
   "cell_type": "code",
   "execution_count": 25,
   "metadata": {
    "colab": {
     "base_uri": "https://localhost:8080/",
     "height": 300
    },
    "executionInfo": {
     "elapsed": 26,
     "status": "ok",
     "timestamp": 1678284741584,
     "user": {
      "displayName": "Elisabeth",
      "userId": "16301634715832565598"
     },
     "user_tz": -60
    },
    "id": "yVvpp8ZISDj4",
    "outputId": "0c0fc5fc-2dd0-4e52-c58a-f3f4254ed342"
   },
   "outputs": [
    {
     "data": {
      "text/html": [
       "<style type=\"text/css\">\n",
       "</style>\n",
       "<table id=\"T_2a12f\">\n",
       "  <thead>\n",
       "    <tr>\n",
       "      <th class=\"blank level0\" >&nbsp;</th>\n",
       "      <th id=\"T_2a12f_level0_col0\" class=\"col_heading level0 col0\" >Early Career Pay</th>\n",
       "      <th id=\"T_2a12f_level0_col1\" class=\"col_heading level0 col1\" >Mid-Career Pay</th>\n",
       "      <th id=\"T_2a12f_level0_col2\" class=\"col_heading level0 col2\" >% High Meaning</th>\n",
       "    </tr>\n",
       "  </thead>\n",
       "  <tbody>\n",
       "    <tr>\n",
       "      <th id=\"T_2a12f_level0_row0\" class=\"row_heading level0 row0\" >count</th>\n",
       "      <td id=\"T_2a12f_row0_col0\" class=\"data row0 col0\" >827</td>\n",
       "      <td id=\"T_2a12f_row0_col1\" class=\"data row0 col1\" >827</td>\n",
       "      <td id=\"T_2a12f_row0_col2\" class=\"data row0 col2\" >827</td>\n",
       "    </tr>\n",
       "    <tr>\n",
       "      <th id=\"T_2a12f_level0_row1\" class=\"row_heading level0 row1\" >mean</th>\n",
       "      <td id=\"T_2a12f_row1_col0\" class=\"data row1 col0\" >52 694</td>\n",
       "      <td id=\"T_2a12f_row1_col1\" class=\"data row1 col1\" >87 557</td>\n",
       "      <td id=\"T_2a12f_row1_col2\" class=\"data row1 col2\" >50</td>\n",
       "    </tr>\n",
       "    <tr>\n",
       "      <th id=\"T_2a12f_level0_row2\" class=\"row_heading level0 row2\" >std</th>\n",
       "      <td id=\"T_2a12f_row2_col0\" class=\"data row2 col0\" >10 434</td>\n",
       "      <td id=\"T_2a12f_row2_col1\" class=\"data row2 col1\" >21 384</td>\n",
       "      <td id=\"T_2a12f_row2_col2\" class=\"data row2 col2\" >20</td>\n",
       "    </tr>\n",
       "    <tr>\n",
       "      <th id=\"T_2a12f_level0_row3\" class=\"row_heading level0 row3\" >min</th>\n",
       "      <td id=\"T_2a12f_row3_col0\" class=\"data row3 col0\" >34 500</td>\n",
       "      <td id=\"T_2a12f_row3_col1\" class=\"data row3 col1\" >40 300</td>\n",
       "      <td id=\"T_2a12f_row3_col2\" class=\"data row3 col2\" >-1</td>\n",
       "    </tr>\n",
       "    <tr>\n",
       "      <th id=\"T_2a12f_level0_row4\" class=\"row_heading level0 row4\" >25%</th>\n",
       "      <td id=\"T_2a12f_row4_col0\" class=\"data row4 col0\" >45 100</td>\n",
       "      <td id=\"T_2a12f_row4_col1\" class=\"data row4 col1\" >72 100</td>\n",
       "      <td id=\"T_2a12f_row4_col2\" class=\"data row4 col2\" >42</td>\n",
       "    </tr>\n",
       "    <tr>\n",
       "      <th id=\"T_2a12f_level0_row5\" class=\"row_heading level0 row5\" >50%</th>\n",
       "      <td id=\"T_2a12f_row5_col0\" class=\"data row5 col0\" >50 200</td>\n",
       "      <td id=\"T_2a12f_row5_col1\" class=\"data row5 col1\" >85 200</td>\n",
       "      <td id=\"T_2a12f_row5_col2\" class=\"data row5 col2\" >50</td>\n",
       "    </tr>\n",
       "    <tr>\n",
       "      <th id=\"T_2a12f_level0_row6\" class=\"row_heading level0 row6\" >75%</th>\n",
       "      <td id=\"T_2a12f_row6_col0\" class=\"data row6 col0\" >59 050</td>\n",
       "      <td id=\"T_2a12f_row6_col1\" class=\"data row6 col1\" >100 850</td>\n",
       "      <td id=\"T_2a12f_row6_col2\" class=\"data row6 col2\" >62</td>\n",
       "    </tr>\n",
       "    <tr>\n",
       "      <th id=\"T_2a12f_level0_row7\" class=\"row_heading level0 row7\" >max</th>\n",
       "      <td id=\"T_2a12f_row7_col0\" class=\"data row7 col0\" >108 500</td>\n",
       "      <td id=\"T_2a12f_row7_col1\" class=\"data row7 col1\" >187 300</td>\n",
       "      <td id=\"T_2a12f_row7_col2\" class=\"data row7 col2\" >93</td>\n",
       "    </tr>\n",
       "  </tbody>\n",
       "</table>\n"
      ],
      "text/plain": [
       "<pandas.io.formats.style.Styler at 0x24ccf4fe890>"
      ]
     },
     "execution_count": 25,
     "metadata": {},
     "output_type": "execute_result"
    }
   ],
   "source": [
    "df = num_df\n",
    "df.describe().style.format(precision=0, thousands=' ')\n",
    "# With no decimals and space as thousands separator."
   ]
  },
  {
   "cell_type": "code",
   "execution_count": 26,
   "metadata": {
    "colab": {
     "base_uri": "https://localhost:8080/",
     "height": 206
    },
    "executionInfo": {
     "elapsed": 25,
     "status": "ok",
     "timestamp": 1678284741585,
     "user": {
      "displayName": "Elisabeth",
      "userId": "16301634715832565598"
     },
     "user_tz": -60
    },
    "id": "xaEZIUVIp7yT",
    "outputId": "0ae3eb5a-c192-4de6-9f75-1db574c60bbe"
   },
   "outputs": [
    {
     "data": {
      "text/html": [
       "<style type=\"text/css\">\n",
       "</style>\n",
       "<table id=\"T_f0ec5\">\n",
       "  <thead>\n",
       "    <tr>\n",
       "      <th class=\"blank level0\" >&nbsp;</th>\n",
       "      <th id=\"T_f0ec5_level0_col0\" class=\"col_heading level0 col0\" >Major</th>\n",
       "      <th id=\"T_f0ec5_level0_col1\" class=\"col_heading level0 col1\" >Early Career Pay</th>\n",
       "      <th id=\"T_f0ec5_level0_col2\" class=\"col_heading level0 col2\" >Mid-Career Pay</th>\n",
       "      <th id=\"T_f0ec5_level0_col3\" class=\"col_heading level0 col3\" >% High Meaning</th>\n",
       "    </tr>\n",
       "  </thead>\n",
       "  <tbody>\n",
       "    <tr>\n",
       "      <th id=\"T_f0ec5_level0_row0\" class=\"row_heading level0 row0\" >1</th>\n",
       "      <td id=\"T_f0ec5_row0_col0\" class=\"data row0 col0\" >Petroleum Engineering</td>\n",
       "      <td id=\"T_f0ec5_row0_col1\" class=\"data row0 col1\" >$ 93 200</td>\n",
       "      <td id=\"T_f0ec5_row0_col2\" class=\"data row0 col2\" >$ 187300</td>\n",
       "      <td id=\"T_f0ec5_row0_col3\" class=\"data row0 col3\" >67 %</td>\n",
       "    </tr>\n",
       "    <tr>\n",
       "      <th id=\"T_f0ec5_level0_row1\" class=\"row_heading level0 row1\" >2</th>\n",
       "      <td id=\"T_f0ec5_row1_col0\" class=\"data row1 col0\" >Operations Research & Industrial Engineering</td>\n",
       "      <td id=\"T_f0ec5_row1_col1\" class=\"data row1 col1\" >$ 84 800</td>\n",
       "      <td id=\"T_f0ec5_row1_col2\" class=\"data row1 col2\" >$ 170400</td>\n",
       "      <td id=\"T_f0ec5_row1_col3\" class=\"data row1 col3\" >28 %</td>\n",
       "    </tr>\n",
       "    <tr>\n",
       "      <th id=\"T_f0ec5_level0_row2\" class=\"row_heading level0 row2\" >3</th>\n",
       "      <td id=\"T_f0ec5_row2_col0\" class=\"data row2 col0\" >Electrical Engineering & Computer Science (EECS)</td>\n",
       "      <td id=\"T_f0ec5_row2_col1\" class=\"data row2 col1\" >$ 108 500</td>\n",
       "      <td id=\"T_f0ec5_row2_col2\" class=\"data row2 col2\" >$ 159300</td>\n",
       "      <td id=\"T_f0ec5_row2_col3\" class=\"data row2 col3\" >46 %</td>\n",
       "    </tr>\n",
       "    <tr>\n",
       "      <th id=\"T_f0ec5_level0_row3\" class=\"row_heading level0 row3\" >4</th>\n",
       "      <td id=\"T_f0ec5_row3_col0\" class=\"data row3 col0\" >Interaction Design</td>\n",
       "      <td id=\"T_f0ec5_row3_col1\" class=\"data row3 col1\" >$ 68 300</td>\n",
       "      <td id=\"T_f0ec5_row3_col2\" class=\"data row3 col2\" >$ 155800</td>\n",
       "      <td id=\"T_f0ec5_row3_col3\" class=\"data row3 col3\" >55 %</td>\n",
       "    </tr>\n",
       "    <tr>\n",
       "      <th id=\"T_f0ec5_level0_row4\" class=\"row_heading level0 row4\" >5</th>\n",
       "      <td id=\"T_f0ec5_row4_col0\" class=\"data row4 col0\" >Public Accounting</td>\n",
       "      <td id=\"T_f0ec5_row4_col1\" class=\"data row4 col1\" >$ 59 800</td>\n",
       "      <td id=\"T_f0ec5_row4_col2\" class=\"data row4 col2\" >$ 147700</td>\n",
       "      <td id=\"T_f0ec5_row4_col3\" class=\"data row4 col3\" >47 %</td>\n",
       "    </tr>\n",
       "  </tbody>\n",
       "</table>\n"
      ],
      "text/plain": [
       "<pandas.io.formats.style.Styler at 0x24ccf552cd0>"
      ]
     },
     "execution_count": 26,
     "metadata": {},
     "output_type": "execute_result"
    }
   ],
   "source": [
    "df.head(5).style.format(thousands=' ',\n",
    "                        formatter={\n",
    "                            ('Early Career Pay'): '$ {:,.0f}',\n",
    "                            ('Mid-Career Pay'): '$ {:.0f}',\n",
    "                            ('% High Meaning'): '{:.0f} %'\n",
    "                        })\n",
    "# If ',' in the formatting-string is included, \n",
    "# the thousands separator defined above is used."
   ]
  },
  {
   "cell_type": "code",
   "execution_count": 27,
   "metadata": {},
   "outputs": [
    {
     "data": {
      "text/html": [
       "<style type=\"text/css\">\n",
       "#T_47589_row0_col1 {\n",
       "  background-color: #c2d9ee;\n",
       "  color: #000000;\n",
       "}\n",
       "#T_47589_row0_col2 {\n",
       "  background-color: #08306b;\n",
       "  color: #f1f1f1;\n",
       "}\n",
       "#T_47589_row1_col1 {\n",
       "  background-color: #d0e2f2;\n",
       "  color: #000000;\n",
       "}\n",
       "#T_47589_row1_col2 {\n",
       "  background-color: #09529d;\n",
       "  color: #f1f1f1;\n",
       "}\n",
       "#T_47589_row2_col1 {\n",
       "  background-color: #9cc9e1;\n",
       "  color: #000000;\n",
       "}\n",
       "#T_47589_row2_col2 {\n",
       "  background-color: #1b69af;\n",
       "  color: #f1f1f1;\n",
       "}\n",
       "#T_47589_row3_col1 {\n",
       "  background-color: #eaf2fb;\n",
       "  color: #000000;\n",
       "}\n",
       "#T_47589_row3_col2 {\n",
       "  background-color: #2070b4;\n",
       "  color: #f1f1f1;\n",
       "}\n",
       "#T_47589_row4_col1 {\n",
       "  background-color: #f7fbff;\n",
       "  color: #000000;\n",
       "}\n",
       "#T_47589_row4_col2 {\n",
       "  background-color: #3181bd;\n",
       "  color: #f1f1f1;\n",
       "}\n",
       "</style>\n",
       "<table id=\"T_47589\">\n",
       "  <caption>Highest Paying Jobs With a Bachelor’s Degree</caption>\n",
       "  <thead>\n",
       "    <tr>\n",
       "      <th class=\"blank level0\" >&nbsp;</th>\n",
       "      <th id=\"T_47589_level0_col0\" class=\"col_heading level0 col0\" >Major</th>\n",
       "      <th id=\"T_47589_level0_col1\" class=\"col_heading level0 col1\" >Early Career Pay</th>\n",
       "      <th id=\"T_47589_level0_col2\" class=\"col_heading level0 col2\" >Mid-Career Pay</th>\n",
       "    </tr>\n",
       "  </thead>\n",
       "  <tbody>\n",
       "    <tr>\n",
       "      <th id=\"T_47589_level0_row0\" class=\"row_heading level0 row0\" >1</th>\n",
       "      <td id=\"T_47589_row0_col0\" class=\"data row0 col0\" >Petroleum Engineering</td>\n",
       "      <td id=\"T_47589_row0_col1\" class=\"data row0 col1\" >$ 93 200</td>\n",
       "      <td id=\"T_47589_row0_col2\" class=\"data row0 col2\" >$ 187 300</td>\n",
       "    </tr>\n",
       "    <tr>\n",
       "      <th id=\"T_47589_level0_row1\" class=\"row_heading level0 row1\" >2</th>\n",
       "      <td id=\"T_47589_row1_col0\" class=\"data row1 col0\" >Operations Research & Industrial Engineering</td>\n",
       "      <td id=\"T_47589_row1_col1\" class=\"data row1 col1\" >$ 84 800</td>\n",
       "      <td id=\"T_47589_row1_col2\" class=\"data row1 col2\" >$ 170 400</td>\n",
       "    </tr>\n",
       "    <tr>\n",
       "      <th id=\"T_47589_level0_row2\" class=\"row_heading level0 row2\" >3</th>\n",
       "      <td id=\"T_47589_row2_col0\" class=\"data row2 col0\" >Electrical Engineering & Computer Science (EECS)</td>\n",
       "      <td id=\"T_47589_row2_col1\" class=\"data row2 col1\" >$ 108 500</td>\n",
       "      <td id=\"T_47589_row2_col2\" class=\"data row2 col2\" >$ 159 300</td>\n",
       "    </tr>\n",
       "    <tr>\n",
       "      <th id=\"T_47589_level0_row3\" class=\"row_heading level0 row3\" >4</th>\n",
       "      <td id=\"T_47589_row3_col0\" class=\"data row3 col0\" >Interaction Design</td>\n",
       "      <td id=\"T_47589_row3_col1\" class=\"data row3 col1\" >$ 68 300</td>\n",
       "      <td id=\"T_47589_row3_col2\" class=\"data row3 col2\" >$ 155 800</td>\n",
       "    </tr>\n",
       "    <tr>\n",
       "      <th id=\"T_47589_level0_row4\" class=\"row_heading level0 row4\" >5</th>\n",
       "      <td id=\"T_47589_row4_col0\" class=\"data row4 col0\" >Public Accounting</td>\n",
       "      <td id=\"T_47589_row4_col1\" class=\"data row4 col1\" >$ 59 800</td>\n",
       "      <td id=\"T_47589_row4_col2\" class=\"data row4 col2\" >$ 147 700</td>\n",
       "    </tr>\n",
       "  </tbody>\n",
       "</table>\n"
      ],
      "text/plain": [
       "<pandas.io.formats.style.Styler at 0x24ccf45f9d0>"
      ]
     },
     "execution_count": 27,
     "metadata": {},
     "output_type": "execute_result"
    }
   ],
   "source": [
    "# background_gradient requires matplotlib.\n",
    "\n",
    "def make_pretty(styler):\n",
    "    styler.set_caption(\"Highest Paying Jobs With a Bachelor’s Degree\")\n",
    "    styler.format(thousands=' ',\n",
    "                        formatter={\n",
    "                            ('Early Career Pay'): '$ {:,.0f}',\n",
    "                            ('Mid-Career Pay'): '$ {:,.0f}',\n",
    "                            ('% High Meaning'): '{:.0f} %'\n",
    "                        })\n",
    "    #styler.background_gradient(axis=None, vmin=147700, vmax=187300, cmap='YlGnBu')\n",
    "    styler.background_gradient(axis=None, cmap='Blues')\n",
    "    return styler\n",
    "\n",
    "df.loc[1:5, 'Major':'Mid-Career Pay'].style.pipe(make_pretty)"
   ]
  },
  {
   "cell_type": "markdown",
   "metadata": {
    "id": "JVXoIz0ARQKZ"
   },
   "source": [
    "---\n",
    "\n",
    "# Statistics\n",
    "\n"
   ]
  },
  {
   "cell_type": "markdown",
   "metadata": {
    "id": "8IJ6eAtFZC1_"
   },
   "source": [
    "## Early Career Pay"
   ]
  },
  {
   "cell_type": "markdown",
   "metadata": {
    "id": "rPCn2_H3LoJg"
   },
   "source": [
    "### **Majors with lowest Early Career Pay:**"
   ]
  },
  {
   "cell_type": "code",
   "execution_count": null,
   "metadata": {
    "colab": {
     "base_uri": "https://localhost:8080/",
     "height": 197
    },
    "executionInfo": {
     "elapsed": 25,
     "status": "ok",
     "timestamp": 1678284741585,
     "user": {
      "displayName": "Elisabeth",
      "userId": "16301634715832565598"
     },
     "user_tz": -60
    },
    "id": "qJGRJWEwJLKU",
    "outputId": "455589e4-5798-4d2c-cfbc-02326749e92a"
   },
   "outputs": [],
   "source": [
    "low_ecp = df.sort_values(by='Early Career Pay', ascending=True, ignore_index=True).head(5)\n",
    "low_ecp_df = low_ecp.loc[0:,['Major', 'Early Career Pay']]\n",
    "low_ecp_df.style.pipe(make_pretty)"
   ]
  },
  {
   "cell_type": "markdown",
   "metadata": {
    "id": "xaggq9-TXpd6"
   },
   "source": [
    "### **Majors with highest Early Career Pay:**"
   ]
  },
  {
   "cell_type": "code",
   "execution_count": null,
   "metadata": {},
   "outputs": [],
   "source": [
    "high_ecp = df.sort_values(by='Early Career Pay', ascending=False, ignore_index=True).head(5)\n",
    "high_ecp.style.pipe(make_pretty)"
   ]
  },
  {
   "cell_type": "code",
   "execution_count": null,
   "metadata": {
    "colab": {
     "base_uri": "https://localhost:8080/",
     "height": 206
    },
    "executionInfo": {
     "elapsed": 24,
     "status": "ok",
     "timestamp": 1678284741585,
     "user": {
      "displayName": "Elisabeth",
      "userId": "16301634715832565598"
     },
     "user_tz": -60
    },
    "id": "yh5yz-hjuccT",
    "outputId": "e9031491-0e15-4faf-f5d7-9b558c9b9772"
   },
   "outputs": [],
   "source": [
    "high_ecp_df = high_ecp.loc[0:, ['Major', 'Early Career Pay']]\n",
    "high_ecp_df.style.pipe(make_pretty).hide()"
   ]
  },
  {
   "cell_type": "code",
   "execution_count": null,
   "metadata": {
    "colab": {
     "base_uri": "https://localhost:8080/",
     "height": 538
    },
    "executionInfo": {
     "elapsed": 440,
     "status": "ok",
     "timestamp": 1678284742004,
     "user": {
      "displayName": "Elisabeth",
      "userId": "16301634715832565598"
     },
     "user_tz": -60
    },
    "id": "4fEwrzcfKtkP",
    "outputId": "589eddba-82d0-4742-b214-52db88699c11"
   },
   "outputs": [],
   "source": [
    "high_ecp_plot = high_ecp.head(5).plot(x='Major', y='Early Career Pay', kind='bar', \n",
    "                              color=['indianred', 'coral', 'gold', 'darkcyan', 'steelblue'])\n",
    "high_ecp_plot"
   ]
  },
  {
   "cell_type": "markdown",
   "metadata": {
    "id": "A__bDkPlXyEf"
   },
   "source": [
    "### **Highest and lowest Early career pay**"
   ]
  },
  {
   "cell_type": "code",
   "execution_count": null,
   "metadata": {
    "colab": {
     "base_uri": "https://localhost:8080/"
    },
    "executionInfo": {
     "elapsed": 6,
     "status": "ok",
     "timestamp": 1678284742004,
     "user": {
      "displayName": "Elisabeth",
      "userId": "16301634715832565598"
     },
     "user_tz": -60
    },
    "id": "W2eRgP2SR_Qn",
    "outputId": "74fe032e-de70-4055-e128-2b3f10626740"
   },
   "outputs": [],
   "source": [
    "high_low_ecp_df = pd.concat([low_ecp, high_ecp])\n",
    "high_low_ecp_df = high_low_ecp_df.sort_values(by='Early Career Pay').reset_index()\n",
    "high_low_ecp_table = high_low_ecp_df.loc[0:,['Major', 'Early Career Pay']]\n",
    "high_low_ecp_table.style.pipe(make_pretty).hide()"
   ]
  },
  {
   "cell_type": "code",
   "execution_count": null,
   "metadata": {
    "colab": {
     "base_uri": "https://localhost:8080/",
     "height": 521
    },
    "executionInfo": {
     "elapsed": 489,
     "status": "ok",
     "timestamp": 1678284742489,
     "user": {
      "displayName": "Elisabeth",
      "userId": "16301634715832565598"
     },
     "user_tz": -60
    },
    "id": "K73SETcrttzc",
    "outputId": "40519d64-c250-475a-baef-c2ff2a71462c"
   },
   "outputs": [],
   "source": [
    "colors = ['#00429d', '#2855a6', '#3d68ae', '#4f7cb7', '#6090bf', '#70a4c7', '#81b9cf', '#94cdd6', '#abe2dc', '#d9f1de']\n",
    "c = list(reversed(colors))\n",
    "# Find nice colors at: https://gka.github.io/palettes\n",
    "high_low_ecp_plot = high_low_ecp_df.plot(x='Major', y='Early Career Pay', kind='barh', color=c)"
   ]
  },
  {
   "cell_type": "code",
   "execution_count": null,
   "metadata": {
    "colab": {
     "base_uri": "https://localhost:8080/",
     "height": 521
    },
    "executionInfo": {
     "elapsed": 988,
     "status": "ok",
     "timestamp": 1678284743474,
     "user": {
      "displayName": "Elisabeth",
      "userId": "16301634715832565598"
     },
     "user_tz": -60
    },
    "id": "U8tXhVvPS9I6",
    "outputId": "6a37884a-8df3-408c-8771-5fb8c456a738"
   },
   "outputs": [],
   "source": [
    "ecp = high_low_ecp_df['Early Career Pay'].to_list()\n",
    "mcp = high_low_ecp_df['Mid-Career Pay'].to_list()\n",
    "index = high_low_ecp_df['Major']\n",
    "ecp_df = pd.DataFrame({\n",
    "    'Early career pay': ecp,\n",
    "    'Mid-Career Pay': mcp\n",
    "}, index=index)\n",
    "# ecp_ax = ecp_df.plot.bar(rot=90, color=['#70a4c7', '#3d68ae'])"
   ]
  },
  {
   "cell_type": "code",
   "execution_count": null,
   "metadata": {
    "colab": {
     "base_uri": "https://localhost:8080/",
     "height": 265
    },
    "executionInfo": {
     "elapsed": 9,
     "status": "ok",
     "timestamp": 1678284743475,
     "user": {
      "displayName": "Elisabeth",
      "userId": "16301634715832565598"
     },
     "user_tz": -60
    },
    "id": "mdRz-JELUvMy",
    "outputId": "ab440497-9a96-4529-9a67-7e899d5b0ed6"
   },
   "outputs": [],
   "source": [
    "ecp_ax2 = ecp_df.plot.barh(color=['#70a4c7', '#3d68ae'])"
   ]
  },
  {
   "cell_type": "markdown",
   "metadata": {
    "id": "y3okCf2tYxQj"
   },
   "source": [
    "## Mid-Career Pay"
   ]
  },
  {
   "cell_type": "code",
   "execution_count": null,
   "metadata": {
    "colab": {
     "base_uri": "https://localhost:8080/",
     "height": 305
    },
    "executionInfo": {
     "elapsed": 7,
     "status": "ok",
     "timestamp": 1678284743475,
     "user": {
      "displayName": "Elisabeth",
      "userId": "16301634715832565598"
     },
     "user_tz": -60
    },
    "id": "d4nRGoGPWL4k",
    "outputId": "540ab9bf-1920-49c8-8f00-5b52b3696c28"
   },
   "outputs": [],
   "source": [
    "low_mcp_df = df.sort_values(by='Mid-Career Pay', ascending=True).head(5)\n",
    "high_mcp_df = df.sort_values(by='Mid-Career Pay', ascending=False).head(5)\n",
    "\n",
    "low_high_mcp_df = pd.concat([low_mcp_df, high_mcp_df])\n",
    "low_high_mcp_df = low_high_mcp_df.sort_values(by='Mid-Career Pay')\n",
    "low_high_mcp_df.style.pipe(make_pretty)"
   ]
  },
  {
   "cell_type": "code",
   "execution_count": null,
   "metadata": {
    "colab": {
     "base_uri": "https://localhost:8080/",
     "height": 265
    },
    "executionInfo": {
     "elapsed": 410,
     "status": "ok",
     "timestamp": 1678284743878,
     "user": {
      "displayName": "Elisabeth",
      "userId": "16301634715832565598"
     },
     "user_tz": -60
    },
    "id": "Yaz9Lm57aIFr",
    "outputId": "61707353-4cd4-441e-c5a5-d073738eafb1"
   },
   "outputs": [],
   "source": [
    "mcp_df = pd.DataFrame({'Early career pay': low_high_mcp_df['Early Career Pay'].to_list(),\n",
    "                       'Mid-Career Pay': low_high_mcp_df['Mid-Career Pay'].to_list()}, \n",
    "                      index=low_high_mcp_df['Major'])\n",
    "mcp_ax = mcp_df.plot.barh(color=['#94cdd6', '#2855a6'])"
   ]
  },
  {
   "cell_type": "markdown",
   "metadata": {
    "id": "aVqzbi3BdU2b"
   },
   "source": [
    "# Highest increase in median salary from early to mid-career."
   ]
  },
  {
   "cell_type": "code",
   "execution_count": null,
   "metadata": {
    "executionInfo": {
     "elapsed": 5,
     "status": "ok",
     "timestamp": 1678284743878,
     "user": {
      "displayName": "Elisabeth",
      "userId": "16301634715832565598"
     },
     "user_tz": -60
    },
    "id": "7I-TBIy6cE7k"
   },
   "outputs": [],
   "source": [
    "# increase_col = df['Mid-Career Pay'] - df['Early Career Pay']\n",
    "# df.insert(3, 'Increase', increase_col)"
   ]
  },
  {
   "cell_type": "code",
   "execution_count": null,
   "metadata": {
    "colab": {
     "base_uri": "https://localhost:8080/",
     "height": 345
    },
    "executionInfo": {
     "elapsed": 344,
     "status": "error",
     "timestamp": 1678284744217,
     "user": {
      "displayName": "Elisabeth",
      "userId": "16301634715832565598"
     },
     "user_tz": -60
    },
    "id": "BgwLpAope74M",
    "outputId": "bde02149-c827-4aec-ac22-18ac376d16e8"
   },
   "outputs": [],
   "source": [
    "high_increase_df = df.sort_values(by='Increase', ascending=False).head(10)\n",
    "# pd.options.display.float_format = '{:,.2f}'.format  # Format output numbers.\n",
    "high_increase_df"
   ]
  },
  {
   "cell_type": "markdown",
   "metadata": {
    "executionInfo": {
     "elapsed": 3,
     "status": "aborted",
     "timestamp": 1678284744218,
     "user": {
      "displayName": "Elisabeth",
      "userId": "16301634715832565598"
     },
     "user_tz": -60
    },
    "id": "RsSJduNwgBKb"
   },
   "source": [
    "# Next\n",
    "Work with bar(h) plots. E.g. add x-axis labels, units, header, figure text (?).\n",
    "Make functions for styling different things."
   ]
  }
 ],
 "metadata": {
  "colab": {
   "authorship_tag": "ABX9TyM60ztY7kpKAxlilStx36XA",
   "provenance": []
  },
  "kernelspec": {
   "display_name": "Python 3 (ipykernel)",
   "language": "python",
   "name": "python3"
  },
  "language_info": {
   "codemirror_mode": {
    "name": "ipython",
    "version": 3
   },
   "file_extension": ".py",
   "mimetype": "text/x-python",
   "name": "python",
   "nbconvert_exporter": "python",
   "pygments_lexer": "ipython3",
   "version": "3.11.3"
  },
  "toc-autonumbering": true,
  "toc-showcode": false
 },
 "nbformat": 4,
 "nbformat_minor": 4
}
