{
 "cells": [
  {
   "cell_type": "markdown",
   "metadata": {},
   "source": [
    "# Introduction"
   ]
  },
  {
   "cell_type": "markdown",
   "metadata": {},
   "source": [
    "Google Trends gives us an estimate of search volume. Let's explore if search popularity relates to other kinds of data. Perhaps there are patterns in Google's search volume and the price of Bitcoin or a hot stock like Tesla. Perhaps search volume for the term \"Unemployment Benefits\" can tell us something about the actual unemployment rate? \n",
    "\n",
    "Data Sources: <br>\n",
    "<ul>\n",
    "<li> <a href=\"https://fred.stlouisfed.org/series/UNRATE/\">Unemployment Rate from FRED</a></li>\n",
    "<li> <a href=\"https://trends.google.com/trends/explore\">Google Trends</a> </li>  \n",
    "<li> <a href=\"https://finance.yahoo.com/quote/TSLA/history?p=TSLA\">Yahoo Finance for Tesla Stock Price</a> </li>    \n",
    "<li> <a href=\"https://finance.yahoo.com/quote/BTC-USD/history?p=BTC-USD\">Yahoo Finance for Bitcoin Stock Price</a> </li>\n",
    "</ul>"
   ]
  },
  {
   "cell_type": "markdown",
   "metadata": {},
   "source": [
    "# Import Statements"
   ]
  },
  {
   "cell_type": "code",
   "execution_count": 89,
   "metadata": {},
   "outputs": [],
   "source": [
    "import matplotlib.pyplot as plt\n",
    "import numpy as np\n",
    "import pandas as pd"
   ]
  },
  {
   "cell_type": "markdown",
   "metadata": {},
   "source": [
    "# Read the Data\n",
    "\n",
    "Download and add the .csv files to the same folder as your notebook."
   ]
  },
  {
   "cell_type": "code",
   "execution_count": 2,
   "metadata": {},
   "outputs": [
    {
     "data": {
      "text/plain": [
       "['df_tesla', 'df_unemployment', 'df_btc_search', 'df_btc_price']"
      ]
     },
     "execution_count": 2,
     "metadata": {},
     "output_type": "execute_result"
    }
   ],
   "source": [
    "df_tesla = pd.read_csv('data/TESLA Search Trend vs Price.csv') # Monthly search volume from Google Trends.\n",
    "\n",
    "df_unemployment = pd.read_csv('data/UE Benefits Search vs UE Rate 2004-19.csv') # Monthly search volume from Google Trends.\n",
    "\n",
    "df_btc_search = pd.read_csv('data/Bitcoin Search Trend.csv') # Monthly search volume from Google Trends.\n",
    "df_btc_price = pd.read_csv('data/Daily Bitcoin Price.csv') # Day-by-day closing price and the trade volume of Bitcoin.\n",
    "\n",
    "# A nice function to keep track of dataframes. Not sure if it will work in all cases.\n",
    "def my_dfs(type='str'):\n",
    "    str_df_list = [var_name for var_name in globals() if isinstance(globals()[var_name], pd.DataFrame)]\n",
    "    if type == 'str':\n",
    "        return str_df_list\n",
    "    else:\n",
    "        obj_list = []\n",
    "        for df_name in str_df_list:\n",
    "            df = eval(df_name)\n",
    "            obj_list.append(df)\n",
    "        return obj_list\n",
    "\n",
    "my_dfs()"
   ]
  },
  {
   "cell_type": "markdown",
   "metadata": {
    "tags": []
   },
   "source": [
    "## A side track: How to generate a list of string from a list of dataframes?\n",
    "\n",
    "```python\n",
    "trend_dfs_list = [df_tesla, df_unemployment, df_btc_search]\n",
    "str_trend_dfs_list = [var_name for var_name in locals().keys() if id(eval(var_name)) in [id(j) for j in trend_dfs_list]]\n",
    ">>> ['df_tesla', 'df_btc_search', 'df_unemployment']\n",
    "````\n",
    "\n",
    "- Get a dict of the local variables in the current scope with locals(). \n",
    "\n",
    "```python\n",
    "local_var_names = locals().keys()\n",
    ">>> \n",
    "\"['__name__', '__doc__', '__package__', '__loader__', '__spec__', '__builtin__', \\\n",
    "'__builtins__', [...], 'plt', 'pd', '_i2', 'df_tesla', 'df_btc_search', 'df_btc_price', \\\n",
    "'df_unemployment', '_i3', 'trend_dfs_list', 'web_search_columns_list', [...]]\"\n",
    "```\n",
    "\n",
    "Then, iterate over the keys (the locally defined variable names) of the dict.\n",
    "For each var_name in the loop:\n",
    "\n",
    "- The eval() function evaluates the value of the variable with that name. \n",
    "    eval('var_name') returns the actual object referenced by the variable. \n",
    "    For example, the output of <print(eval('df_tesla'))> is the same as \n",
    "    print(df_tesla) -> The dataframe.\n",
    "            \n",
    "```python\n",
    "eval('df_tesla')\n",
    ">>> \n",
    "          MONTH  TSLA_WEB_SEARCH  TSLA_USD_CLOSE\n",
    "0    2010-06-01                3        4.766000\n",
    "1    2010-07-01                3        3.988000\n",
    "..          ...              ...             ...\n",
    "122  2020-08-01               23      498.320007\n",
    "123  2020-09-01               31      407.339996\n",
    "\n",
    "[124 rows x 3 columns]\n",
    "```\n",
    " \n",
    "- The id() function returnes the unique idetifier (ID) of an object. \n",
    "    In this case, id(eval(var_name)) returns the ID of the evaluated object.\n",
    "    \n",
    "```python\n",
    "local_var_IDs = [id(eval(var_name)) for var_name in locals().keys()]\n",
    ">>> [140726677995032, 2691121428528, 140726676581104, 140726676581104, 140726676581104, 2691070990416, \n",
    "     2691070990416, 2691166473728, 2691166473920, 2691166473792, 2691166473728, 2691166473920, ...]\n",
    "```\n",
    "        \n",
    "Inside the list comprehension, we have another list comprehension: `[id(j) for j in trend_dfs_list]`, \n",
    "which generates a list of the IDs of the DataFrame objects in trend_dfs_list.\n",
    "\n",
    "```python\n",
    "trend_dfs_list_IDs = [id(j) for j in trend_dfs_list]\n",
    ">>> [2691233911952, 2691233808592, 2691233781008]\n",
    "```"
   ]
  },
  {
   "cell_type": "markdown",
   "metadata": {},
   "source": [
    "# Data Exploration"
   ]
  },
  {
   "cell_type": "markdown",
   "metadata": {},
   "source": [
    "## Tesla, Unemployment Data and Bitcoin"
   ]
  },
  {
   "cell_type": "markdown",
   "metadata": {
    "tags": []
   },
   "source": [
    "**Challenge**: <br>\n",
    "<ul>\n",
    "<li>What are the shapes of the dataframes? </li>\n",
    "<li>How many rows and columns? </li>\n",
    "<li>What are the column names? </li>\n",
    "<li>Complete the f-string to show the largest/smallest number in the search data column</li> \n",
    "<li>Try the <code>.describe()</code> function to see some useful descriptive statistics</li>\n",
    "<li>What is the periodicity of the time series data (daily, weekly, monthly)? </li>\n",
    "<li>What does a value of 100 in the Google Trend search popularity actually mean?<br><br></li>\n",
    "    <ul>\n",
    "        <li>\n",
    "            \"[...] data on the Trends Explore tool is indexed and normalized. But what does this actually mean?<br><strong>Indexing:</strong> Google Trends data is pulled from a random, unbiased sample of Google searches, which means we don’t have exact numbers for any terms or topics. In order to give a value to terms, we index data from 1-100, where 100 is the maximum search interest for the time and location selected.\n",
    "            <br><br>\n",
    "    <strong>Normalization:</strong> When we look at search interest in a topic or query, we are not looking at the total number of searches. Instead, we look at the percentage of searches for that topic, as a proportion of all searches at that time and location.\" \n",
    "            (<a href=\"https://newsinitiative.withgoogle.com/resources/lessons/basics-of-google-trends/\">\n",
    "            Basics of Google Trends.\n",
    "            </a>)<br><br>\n",
    "        </li>\n",
    "        <li>\n",
    "            \"<strong>Reading the Interest Over Time graph.</strong>\n",
    "When you search for a term on Trends, you’ll see a graph showing the term’s popularity over time in (nearly) real time. Hovering your mouse over the graph reveals a number, which reflects how many searches have been done for the particular term relative to the total number of searches done on Google.<br><br>\n",
    "Numbers on the graph don't represent absolute search volume numbers, because the data is normalised and presented on a scale from 0-100, where each point on the graph is divided by the highest point, or 100. The numbers next to the search terms at the top of the graph are sums, or totals.<br><br>\n",
    "A line trending downward means that a search term's relative popularity is decreasing—not necessarily that the total number of searches for that term is decreasing, but that its popularity compared to other searches is shrinking.\" (<a href=\"https://newsinitiative.withgoogle.com/resources/lessons/google-trends-understanding-the-data/\">Google Trends: Understanding the data.</a>)<br><br>\n",
    "        </li>\n",
    "        <li>\n",
    "            \"Google's search interest ranges between 0 and 100. Google defines the values of search interest as: <strong>Numbers represent search interest relative to the highest point on the chart for the given region and time. A value of 100 is the peak popularity for the term. A value of 50 means that the term is half as popular. A score of 0 means there was not enough data for this term.</strong> Basically, the actual search volume of a term is not publicly available. Google only offers a scaled number. Each data point is divided by the total searches of the geography and time range it represents to compare relative popularity.<br><br>\n",
    "For each word in your search, Google finds how much search volume in each region and time period your term had relative to all the searches in that region and time period. It then combines all of these measures into a single measure of popularity, and then it scales the values across your topics, so the largest measure is set to 100. In short: Google Trends doesn’t exactly tell you how many searches occurred for your topic, but it does give you a nice proxy.\"<br><br>\n",
    "            Here are the Google Trends Search Parameters that I used to generate the .csv data:\n",
    "            <ul>\n",
    "                <li>\"Tesla\", Worldwide, Web Search\n",
    "                <li>\"Bitcoin\", Worldwide, News Search\n",
    "                <li>\"Unemployment Benefits\", United States, Web Search\n",
    "            </ul>\n",
    "            (<a href=\"https://www.udemy.com/course/100-days-of-code/learn/lecture/22512436#questionshttps://www.udemy.com/course/100-days-of-code/learn/lecture/22512436#questions\">Angela Yu, 100 Days of Code, on Udemy</a>)\n",
    "        </li>\n",
    "    </ul>\n",
    "</ul>"
   ]
  },
  {
   "cell_type": "code",
   "execution_count": 3,
   "metadata": {},
   "outputs": [
    {
     "name": "stdout",
     "output_type": "stream",
     "text": [
      "_______________________________________________\n",
      "\n",
      "***** df_tesla *****\n",
      " Number of rows and columns:(124, 3).\n",
      " Column names: MONTH, TSLA_WEB_SEARCH, TSLA_USD_CLOSE.\n",
      " Time period: 2010-06-01 to 2020-09-01.\n",
      " Periodicity: Monthly.\n",
      " Smallest and largest value for \"TSLA_WEB_SEARCH\": 2 - 31.\n",
      "\n",
      "        MONTH  TSLA_WEB_SEARCH  TSLA_USD_CLOSE\n",
      "0  2010-06-01                3           4.766\n",
      "1  2010-07-01                3           3.988\n",
      "2  2010-08-01                2           3.896 \n",
      "\n",
      "       TSLA_WEB_SEARCH  TSLA_USD_CLOSE\n",
      "count       124.000000      124.000000\n",
      "mean          8.725806       50.962145\n",
      "std           5.870332       65.908389\n",
      "min           2.000000        3.896000\n",
      "25%           3.750000        7.352500\n",
      "50%           8.000000       44.653000\n",
      "75%          12.000000       58.991999\n",
      "max          31.000000      498.320007 \n",
      "\n",
      "MONTH               object\n",
      "TSLA_WEB_SEARCH      int64\n",
      "TSLA_USD_CLOSE     float64\n",
      "dtype: object\n",
      "_______________________________________________\n",
      "\n",
      "***** df_unemployment *****\n",
      " Number of rows and columns:(181, 3).\n",
      " Column names: MONTH, UE_BENEFITS_WEB_SEARCH, UNRATE.\n",
      " Time period: 2004-01 to 2019-01.\n",
      " Periodicity: Monthly.\n",
      " Smallest and largest value for \"UE_BENEFITS_WEB_SEARCH\": 14 - 100.\n",
      "\n",
      "     MONTH  UE_BENEFITS_WEB_SEARCH  UNRATE\n",
      "0  2004-01                      34     5.7\n",
      "1  2004-02                      33     5.6\n",
      "2  2004-03                      25     5.8 \n",
      "\n",
      "       UE_BENEFITS_WEB_SEARCH      UNRATE\n",
      "count              181.000000  181.000000\n",
      "mean                35.110497    6.217680\n",
      "std                 20.484925    1.891859\n",
      "min                 14.000000    3.700000\n",
      "25%                 21.000000    4.700000\n",
      "50%                 26.000000    5.400000\n",
      "75%                 45.000000    7.800000\n",
      "max                100.000000   10.000000 \n",
      "\n",
      "MONTH                      object\n",
      "UE_BENEFITS_WEB_SEARCH      int64\n",
      "UNRATE                    float64\n",
      "dtype: object\n",
      "_______________________________________________\n",
      "\n",
      "***** df_btc_search *****\n",
      " Number of rows and columns:(73, 2).\n",
      " Column names: MONTH, BTC_NEWS_SEARCH.\n",
      " Time period: 2014-09 to 2020-09.\n",
      " Periodicity: Monthly.\n",
      " Smallest and largest value for \"BTC_NEWS_SEARCH\": 3 - 100.\n",
      "\n",
      "     MONTH  BTC_NEWS_SEARCH\n",
      "0  2014-09                5\n",
      "1  2014-10                4\n",
      "2  2014-11                4 \n",
      "\n",
      "       BTC_NEWS_SEARCH\n",
      "count        73.000000\n",
      "mean         15.013699\n",
      "std          15.146959\n",
      "min           3.000000\n",
      "25%           5.000000\n",
      "50%          14.000000\n",
      "75%          18.000000\n",
      "max         100.000000 \n",
      "\n",
      "MONTH              object\n",
      "BTC_NEWS_SEARCH     int64\n",
      "dtype: object\n",
      "_______________________________________________\n",
      "\n",
      "***** df_btc_price *****\n",
      " \n",
      "Number of rows and columns: (2204, 3).\n",
      " Column names: DATE, CLOSE, VOLUME.\n",
      " Time period: 2014-09-17 to 2020-09-28.\n",
      " Periodicity: Daily.\n",
      "\n",
      "         DATE       CLOSE      VOLUME\n",
      "0  2014-09-17  457.334015  21056800.0\n",
      "1  2014-09-18  424.440002  34483200.0\n",
      "2  2014-09-19  394.795990  37919700.0 \n",
      "\n",
      "              CLOSE        VOLUME\n",
      "count   2203.000000  2.203000e+03\n",
      "mean    4429.421245  8.043622e+09\n",
      "std     4148.150071  1.176529e+10\n",
      "min      178.102997  5.914570e+06\n",
      "25%      433.629502  6.029915e+07\n",
      "50%     3637.520020  2.018890e+09\n",
      "75%     7997.372803  1.322478e+10\n",
      "max    19497.400391  7.415677e+10 \n",
      "\n",
      "MONTH              object\n",
      "BTC_NEWS_SEARCH     int64\n",
      "dtype: object\n"
     ]
    }
   ],
   "source": [
    "dfs_list = ['df_tesla', 'df_unemployment', 'df_btc_search']\n",
    "trend_dfs_list = [df_tesla, df_unemployment, df_btc_search]\n",
    "web_search_columns_list = [\"TSLA_WEB_SEARCH\", \"UE_BENEFITS_WEB_SEARCH\", \"BTC_NEWS_SEARCH\"]\n",
    "\n",
    "for i in range(3):\n",
    "    df = trend_dfs_list[i]\n",
    "    smallest_web_search_value = df[f'{web_search_columns_list[i]}'].min()\n",
    "    largest_web_search_value = df[f'{web_search_columns_list[i]}'].max()\n",
    "    print(\n",
    "        f\"_______________________________________________\\n\\n\"\n",
    "        f\"***** {dfs_list[i]} *****\\n\",\n",
    "        f\"Number of rows and columns:{df.shape}.\\n\",\n",
    "        f\"Column names: {', '.join(df.columns.to_list())}.\\n\",\n",
    "        f\"Time period: {df.MONTH.min()} to {df.MONTH.max()}.\\n\",\n",
    "        f\"Periodicity: Monthly.\\n\",\n",
    "        f'Smallest and largest value for \"{web_search_columns_list[i]}\": {smallest_web_search_value} - {largest_web_search_value}.\\n'\n",
    "    )\n",
    "    print(df[:3], '\\n')\n",
    "    print(df.describe(), '\\n')\n",
    "    print(df.dtypes)\n",
    "    \n",
    "    \n",
    "print(\n",
    "    f\"_______________________________________________\\n\\n\"\n",
    "    \"***** df_btc_price *****\\n\",\n",
    "    f\"\\nNumber of rows and columns: {df_btc_price.shape}.\\n\",\n",
    "    f\"Column names: {', '.join(df_btc_price.columns.to_list())}.\\n\",\n",
    "    f\"Time period: {df_btc_price['DATE'].min()} to {df_btc_price['DATE'].max()}.\\n\",\n",
    "    f\"Periodicity: Daily.\\n\")\n",
    "\n",
    "print(df_btc_price[:3], '\\n')\n",
    "print(df_btc_price.describe(), '\\n')\n",
    "print(df.dtypes)"
   ]
  },
  {
   "cell_type": "markdown",
   "metadata": {},
   "source": [
    "# Data Cleaning"
   ]
  },
  {
   "cell_type": "markdown",
   "metadata": {},
   "source": [
    "### Check for Missing Values"
   ]
  },
  {
   "cell_type": "markdown",
   "metadata": {},
   "source": [
    "**Challenge**: Are there any missing values in any of the dataframes? If so, which row/rows have missing values? How many missing values are there?\n",
    "\n",
    "`df.isna().values.any()` returns True if there are any NaN-values in df.\n"
   ]
  },
  {
   "cell_type": "code",
   "execution_count": 4,
   "metadata": {},
   "outputs": [
    {
     "name": "stdout",
     "output_type": "stream",
     "text": [
      "Any NaN values in df_tesla: False\n",
      "Any NaN values in df_btc_price: True\n"
     ]
    }
   ],
   "source": [
    "nan_in_df_btc_price = df_btc_price.isna().values.any()\n",
    "print(f\"Any NaN values in df_tesla: {df_tesla.isna().values.any()}\\n\"\n",
    "     f\"Any NaN values in df_btc_price: {df_btc_price.isna().values.any()}\")"
   ]
  },
  {
   "cell_type": "code",
   "execution_count": 5,
   "metadata": {},
   "outputs": [
    {
     "name": "stdout",
     "output_type": "stream",
     "text": [
      "***** df_tesla *****\n",
      "MONTH              0\n",
      "TSLA_WEB_SEARCH    0\n",
      "TSLA_USD_CLOSE     0\n",
      "dtype: int64\n",
      "\n",
      "***** df_unemployment *****\n",
      "MONTH                     0\n",
      "UE_BENEFITS_WEB_SEARCH    0\n",
      "UNRATE                    0\n",
      "dtype: int64\n",
      "\n",
      "***** df_btc_search *****\n",
      "MONTH              0\n",
      "BTC_NEWS_SEARCH    0\n",
      "dtype: int64\n",
      "\n",
      "***** df_btc_price *****\n",
      "DATE      0\n",
      "CLOSE     1\n",
      "VOLUME    1\n",
      "dtype: int64\n",
      "\n"
     ]
    }
   ],
   "source": [
    "for df_name in my_dfs()[:4]:\n",
    "    print(f\"***** {df_name} *****\\n\"\n",
    "          f\"{eval(df_name).isna().sum()}\\n\")"
   ]
  },
  {
   "cell_type": "code",
   "execution_count": 6,
   "metadata": {},
   "outputs": [
    {
     "name": "stdout",
     "output_type": "stream",
     "text": [
      "Missing values for Tesla?: \n",
      "MONTH              0\n",
      "TSLA_WEB_SEARCH    0\n",
      "TSLA_USD_CLOSE     0\n",
      "dtype: int64\n",
      "\n",
      "Missing values for UE?: \n",
      "MONTH                     0\n",
      "UE_BENEFITS_WEB_SEARCH    0\n",
      "UNRATE                    0\n",
      "dtype: int64\n",
      "\n",
      "Missing values for BTC Search?: \n",
      "MONTH              0\n",
      "BTC_NEWS_SEARCH    0\n",
      "dtype: int64\n",
      "\n",
      "Missing values for BTC price?:\n",
      "DATE      0\n",
      "CLOSE     1\n",
      "VOLUME    1\n",
      "dtype: int64\n",
      "--> Number of missing values: 2\n"
     ]
    }
   ],
   "source": [
    "print(f'Missing values for Tesla?: \\n{df_tesla.isna().sum()}\\n')\n",
    "\n",
    "print(f'Missing values for UE?: \\n{df_unemployment.isna().sum()}\\n')\n",
    "\n",
    "print(f'Missing values for BTC Search?: \\n{df_btc_search.isna().sum()}\\n')\n",
    "\n",
    "print(f'Missing values for BTC price?:\\n{df_btc_price.isna().sum()}')\n",
    "print(f'--> Number of missing values: {df_btc_price.isna().sum().sum()}')"
   ]
  },
  {
   "cell_type": "code",
   "execution_count": 7,
   "metadata": {},
   "outputs": [
    {
     "name": "stdout",
     "output_type": "stream",
     "text": [
      "index_list = [2148, 2148]\n",
      "col_list  =[1, 2]\n",
      "\n",
      "Missing values coordinates:\n",
      "DATE: [2148, 1]\n",
      "CLOSE: [2148, 2]\n"
     ]
    }
   ],
   "source": [
    "missing = df_btc_price.isnull().to_numpy().nonzero()\n",
    "index_list = list(missing[0]) # --> [2148, 2148]\n",
    "col_list = list(missing[1]) # --> [1, 2]\n",
    "\n",
    "print(f\"{index_list = }\\n{col_list  =}\\n\")\n",
    "\n",
    "print(\"Missing values coordinates:\")\n",
    "for i in range(len(index_list)):\n",
    "    print(f\"{df_btc_price.columns[i]}: {[index_list[i], col_list[i]]}\")"
   ]
  },
  {
   "cell_type": "code",
   "execution_count": 8,
   "metadata": {},
   "outputs": [
    {
     "data": {
      "text/html": [
       "<div>\n",
       "<style scoped>\n",
       "    .dataframe tbody tr th:only-of-type {\n",
       "        vertical-align: middle;\n",
       "    }\n",
       "\n",
       "    .dataframe tbody tr th {\n",
       "        vertical-align: top;\n",
       "    }\n",
       "\n",
       "    .dataframe thead th {\n",
       "        text-align: right;\n",
       "    }\n",
       "</style>\n",
       "<table border=\"1\" class=\"dataframe\">\n",
       "  <thead>\n",
       "    <tr style=\"text-align: right;\">\n",
       "      <th></th>\n",
       "      <th>DATE</th>\n",
       "      <th>CLOSE</th>\n",
       "      <th>VOLUME</th>\n",
       "    </tr>\n",
       "  </thead>\n",
       "  <tbody>\n",
       "    <tr>\n",
       "      <th>2148</th>\n",
       "      <td>2020-08-04</td>\n",
       "      <td>NaN</td>\n",
       "      <td>NaN</td>\n",
       "    </tr>\n",
       "  </tbody>\n",
       "</table>\n",
       "</div>"
      ],
      "text/plain": [
       "            DATE  CLOSE  VOLUME\n",
       "2148  2020-08-04    NaN     NaN"
      ]
     },
     "execution_count": 8,
     "metadata": {},
     "output_type": "execute_result"
    }
   ],
   "source": [
    "# Show rows with missing vallues:\n",
    "df_btc_price[df_btc_price['CLOSE'].isna()]"
   ]
  },
  {
   "cell_type": "markdown",
   "metadata": {},
   "source": [
    "**Challenge**: Remove any missing values that you found. "
   ]
  },
  {
   "cell_type": "code",
   "execution_count": 9,
   "metadata": {},
   "outputs": [
    {
     "name": "stdout",
     "output_type": "stream",
     "text": [
      "            DATE         CLOSE        VOLUME\n",
      "2147  2020-08-03  11246.348633  2.027171e+10\n",
      "2148  2020-08-04           NaN           NaN\n",
      "2149  2020-08-05  11747.022461  2.441125e+10\n"
     ]
    },
    {
     "data": {
      "text/html": [
       "<div>\n",
       "<style scoped>\n",
       "    .dataframe tbody tr th:only-of-type {\n",
       "        vertical-align: middle;\n",
       "    }\n",
       "\n",
       "    .dataframe tbody tr th {\n",
       "        vertical-align: top;\n",
       "    }\n",
       "\n",
       "    .dataframe thead th {\n",
       "        text-align: right;\n",
       "    }\n",
       "</style>\n",
       "<table border=\"1\" class=\"dataframe\">\n",
       "  <thead>\n",
       "    <tr style=\"text-align: right;\">\n",
       "      <th></th>\n",
       "      <th>DATE</th>\n",
       "      <th>CLOSE</th>\n",
       "      <th>VOLUME</th>\n",
       "    </tr>\n",
       "  </thead>\n",
       "  <tbody>\n",
       "    <tr>\n",
       "      <th>2147</th>\n",
       "      <td>2020-08-03</td>\n",
       "      <td>11246.348633</td>\n",
       "      <td>2.027171e+10</td>\n",
       "    </tr>\n",
       "    <tr>\n",
       "      <th>2149</th>\n",
       "      <td>2020-08-05</td>\n",
       "      <td>11747.022461</td>\n",
       "      <td>2.441125e+10</td>\n",
       "    </tr>\n",
       "  </tbody>\n",
       "</table>\n",
       "</div>"
      ],
      "text/plain": [
       "            DATE         CLOSE        VOLUME\n",
       "2147  2020-08-03  11246.348633  2.027171e+10\n",
       "2149  2020-08-05  11747.022461  2.441125e+10"
      ]
     },
     "execution_count": 9,
     "metadata": {},
     "output_type": "execute_result"
    }
   ],
   "source": [
    "print(df_btc_price.loc[2147:2149]) # Before removal\n",
    "df_btc_price.dropna(inplace=True) # Remove one row with missing values.\n",
    "df_btc_price.loc[2147:2149] # After removal. NB! 2148 is skipped in the index."
   ]
  },
  {
   "cell_type": "markdown",
   "metadata": {},
   "source": [
    "<br>\n",
    "\n",
    "### Convert Strings to DateTime Objects"
   ]
  },
  {
   "cell_type": "markdown",
   "metadata": {},
   "source": [
    "**Challenge**: Check the data type of the entries in the DataFrame MONTH or DATE columns. Convert any strings in to Datetime objects. Do this for all 4 DataFrames. Double check if your type conversion was successful."
   ]
  },
  {
   "cell_type": "code",
   "execution_count": 21,
   "metadata": {},
   "outputs": [
    {
     "name": "stdout",
     "output_type": "stream",
     "text": [
      "_______________________________\n",
      "df_tesla\n",
      "MONTH               object\n",
      "TSLA_WEB_SEARCH      int64\n",
      "TSLA_USD_CLOSE     float64\n",
      "dtype: object\n",
      "\n",
      "_______________________________\n",
      "df_unemployment\n",
      "MONTH                      object\n",
      "UE_BENEFITS_WEB_SEARCH      int64\n",
      "UNRATE                    float64\n",
      "dtype: object\n",
      "\n",
      "_______________________________\n",
      "df_btc_search\n",
      "MONTH              object\n",
      "BTC_NEWS_SEARCH     int64\n",
      "dtype: object\n",
      "\n",
      "_______________________________\n",
      "df_btc_price\n",
      "DATE       object\n",
      "CLOSE     float64\n",
      "VOLUME    float64\n",
      "dtype: object\n",
      "\n",
      "type(df_tesla.MONTH[0]) = <class 'str'>\n"
     ]
    }
   ],
   "source": [
    "# Check the data type of the entries in the DataFrame MONTH or DATE columns.\n",
    "for df_name in my_dfs()[:4]:\n",
    "    print(f'_______________________________\\n{df_name}\\n{eval(df_name).dtypes}', end='\\n\\n')\n",
    "    # --> None of the MONTH or DATE columns are Datetime objects.\n",
    "\n",
    "print(f\"{type(df_tesla.MONTH[0]) = }\") # --> The values in df_tesla.MONTH are of string type."
   ]
  },
  {
   "cell_type": "code",
   "execution_count": 22,
   "metadata": {},
   "outputs": [
    {
     "name": "stdout",
     "output_type": "stream",
     "text": [
      "______________________________________\n",
      "df_tesla\n",
      "MONTH              datetime64[ns]\n",
      "TSLA_WEB_SEARCH             int64\n",
      "TSLA_USD_CLOSE            float64\n",
      "dtype: object\n",
      "\n",
      "______________________________________\n",
      "df_unemployment\n",
      "MONTH                     datetime64[ns]\n",
      "UE_BENEFITS_WEB_SEARCH             int64\n",
      "UNRATE                           float64\n",
      "dtype: object\n",
      "\n",
      "______________________________________\n",
      "df_btc_search\n",
      "MONTH              datetime64[ns]\n",
      "BTC_NEWS_SEARCH             int64\n",
      "dtype: object\n",
      "\n",
      "______________________________________\n",
      "df_btc_price\n",
      "DATE      datetime64[ns]\n",
      "CLOSE            float64\n",
      "VOLUME           float64\n",
      "dtype: object\n",
      "\n"
     ]
    }
   ],
   "source": [
    "#df_tesla.MONTH = pd.to_datetime(df_tesla.MONTH)\n",
    "\n",
    "# Convert any strings in to Datetime objects. Do this for all 4 DataFrames.\n",
    "for df_name in my_dfs()[:4]:\n",
    "    df = eval(df_name)\n",
    "    if 'MONTH' in df.columns.to_list():\n",
    "        df.MONTH = pd.to_datetime(df.MONTH)\n",
    "    else:\n",
    "        df.DATE = pd.to_datetime(df.DATE)\n",
    "        \n",
    "    # Double check if the type conversion was successful:    \n",
    "    print(f'______________________________________\\n{df_name}\\n{df.dtypes}', end='\\n\\n')\n",
    "    # --> Success: dtype for MONTH == datetime64[ns]"
   ]
  },
  {
   "cell_type": "markdown",
   "metadata": {},
   "source": [
    "### Converting from Daily to Monthly Data\n",
    "\n",
    "Make the Bitcoin price (daily data) and Bitcoin search volume/popularity (monthly data) comparable, by downsampling (resampling at a lower frequency) the search popularity data. Here I will use the [.resample()](https://pandas.pydata.org/pandas-docs/stable/reference/api/pandas.DataFrame.resample.html) function (a type of aggregation function used for datetime-series or -dfs), and ```.mean()``` to get the mean of each month (the aggregated data).\n",
    "\n",
    "First I will make a new version of df_btc_price where the DATE column is the index (makes it easier to work with the resample method), and then remove the first and last month (2014-10 and 2020-08) because they are incomplete.\n",
    "\n",
    "\n",
    "```python\n",
    "# Resample df_btc_price from dayly to monthly:\n",
    "tdf_btc_price_monthly = tdf_btc_price_daily.resample(rule='MS', label=\"left\").mean()\n",
    "```\n",
    "\n",
    "- Parameters:\n",
    "    - rule: (no: 'forskyvningsregel'). Sample frequency, the offset str/obj representing target conversion. See [this list](https://jakevdp.github.io/PythonDataScienceHandbook/03.11-working-with-time-series.html#Frequencies-and-Offsets:~:text=The%20following%20table%2C%20drawn%20from%20the%20NumPy%20datetime64%20documentation%2C%20lists%20the%20available%20format%20codes%20along%20with%20the%20relative%20and%20absolute%20timespans%20that%20they%20can%20encode%3A) in th PythonDataScienceHandbook for different options. I'll use 'MS' for 'Month Start' ('M' = 'Month End'), for a monthly frequence where the months are represented by the first in each month (like in the other dataframes).\n",
    "\n",
    "I could also have resampled based on a column with datetime objects, by passing ```on='clumn_name'```, instead of setting this column as the index."
   ]
  },
  {
   "cell_type": "code",
   "execution_count": 117,
   "metadata": {},
   "outputs": [
    {
     "name": "stdout",
     "output_type": "stream",
     "text": [
      "                 CLOSE      VOLUME\n",
      "DATE                              \n",
      "2014-09-17  457.334015  21056800.0\n",
      "2014-09-18  424.440002  34483200.0\n"
     ]
    }
   ],
   "source": [
    "# Set the DATE-column as index.\n",
    "tdf_btc_price = df_btc_price.set_index('DATE', inplace=False, drop=True)\n",
    "# tdf = time dataframe (the df has a DatetimeIndex).\n",
    "print(tdf_btc_price[:2])"
   ]
  },
  {
   "cell_type": "code",
   "execution_count": 118,
   "metadata": {},
   "outputs": [
    {
     "name": "stdout",
     "output_type": "stream",
     "text": [
      "                 CLOSE        VOLUME\n",
      "DATE                                \n",
      "2014-09-01  407.182428  2.934864e+07\n",
      "2014-10-01  364.148873  2.912885e+07\n",
      "2014-11-01  366.099799  2.199111e+07\n",
      "2014-12-01  341.267871  1.784201e+07\n",
      "2015-01-01  248.782547  3.544555e+07\n"
     ]
    }
   ],
   "source": [
    "# Resample df_btc_price from dayly to monthly, averaging the price over the course of the month:\n",
    "tdf_btc_price_monthly = tdf_btc_price.resample(rule='MS', label=\"left\").mean()\n",
    "print(tdf_btc_price_monthly[:5])"
   ]
  },
  {
   "cell_type": "markdown",
   "metadata": {},
   "source": [
    "Instead of the average, we want to use the last available price of the month (the price at month-end):"
   ]
  },
  {
   "cell_type": "code",
   "execution_count": 121,
   "metadata": {},
   "outputs": [
    {
     "name": "stdout",
     "output_type": "stream",
     "text": [
      "                 CLOSE      VOLUME\n",
      "DATE                              \n",
      "2014-09-30  386.944000  34707300.0\n",
      "2014-10-31  338.321014  12545400.0\n",
      "2014-11-30  378.046997   9194440.0\n",
      "2014-12-31  320.192993  13942900.0\n",
      "2015-01-31  217.464005  23348200.0\n"
     ]
    }
   ],
   "source": [
    "# Resample df_btc_price from dayly to monthly, with the price at month-end:\n",
    "tdf_btc_price_monthly = tdf_btc_price.resample(rule='M').last()\n",
    "print(tdf_btc_price_monthly[:5])"
   ]
  },
  {
   "cell_type": "code",
   "execution_count": 122,
   "metadata": {},
   "outputs": [
    {
     "data": {
      "text/plain": [
       "73"
      ]
     },
     "execution_count": 122,
     "metadata": {},
     "output_type": "execute_result"
    }
   ],
   "source": [
    "len(tdf_btc_price_monthly.index)\n",
    "# --> 73, the same as in our Bitcoin search data."
   ]
  },
  {
   "cell_type": "markdown",
   "metadata": {},
   "source": [
    "# Data Visualisation"
   ]
  },
  {
   "cell_type": "markdown",
   "metadata": {},
   "source": [
    "### Notebook Formatting & Style Helpers"
   ]
  },
  {
   "cell_type": "code",
   "execution_count": null,
   "metadata": {},
   "outputs": [],
   "source": [
    "# Create locators for ticks on the time axis"
   ]
  },
  {
   "cell_type": "code",
   "execution_count": 224,
   "metadata": {},
   "outputs": [],
   "source": [
    "# Register date converters to avoid warning messages\n",
    "from pandas.plotting import register_matplotlib_converters\n",
    "register_matplotlib_converters()"
   ]
  },
  {
   "cell_type": "markdown",
   "metadata": {},
   "source": [
    "### Tesla Stock Price v.s. Search Volume"
   ]
  },
  {
   "cell_type": "markdown",
   "metadata": {},
   "source": [
    "**Challenge:** Plot the Tesla stock price against the Tesla search volume using a line chart and two different axes. Label one axis 'TSLA Stock Price' and the other 'Search Trend'. "
   ]
  },
  {
   "cell_type": "code",
   "execution_count": 128,
   "metadata": {},
   "outputs": [
    {
     "data": {
      "text/html": [
       "<div>\n",
       "<style scoped>\n",
       "    .dataframe tbody tr th:only-of-type {\n",
       "        vertical-align: middle;\n",
       "    }\n",
       "\n",
       "    .dataframe tbody tr th {\n",
       "        vertical-align: top;\n",
       "    }\n",
       "\n",
       "    .dataframe thead th {\n",
       "        text-align: right;\n",
       "    }\n",
       "</style>\n",
       "<table border=\"1\" class=\"dataframe\">\n",
       "  <thead>\n",
       "    <tr style=\"text-align: right;\">\n",
       "      <th></th>\n",
       "      <th>MONTH</th>\n",
       "      <th>TSLA_WEB_SEARCH</th>\n",
       "      <th>TSLA_USD_CLOSE</th>\n",
       "    </tr>\n",
       "  </thead>\n",
       "  <tbody>\n",
       "    <tr>\n",
       "      <th>0</th>\n",
       "      <td>2010-06-01</td>\n",
       "      <td>3</td>\n",
       "      <td>4.766000</td>\n",
       "    </tr>\n",
       "    <tr>\n",
       "      <th>1</th>\n",
       "      <td>2010-07-01</td>\n",
       "      <td>3</td>\n",
       "      <td>3.988000</td>\n",
       "    </tr>\n",
       "    <tr>\n",
       "      <th>2</th>\n",
       "      <td>2010-08-01</td>\n",
       "      <td>2</td>\n",
       "      <td>3.896000</td>\n",
       "    </tr>\n",
       "    <tr>\n",
       "      <th>3</th>\n",
       "      <td>2010-09-01</td>\n",
       "      <td>2</td>\n",
       "      <td>4.082000</td>\n",
       "    </tr>\n",
       "    <tr>\n",
       "      <th>4</th>\n",
       "      <td>2010-10-01</td>\n",
       "      <td>2</td>\n",
       "      <td>4.368000</td>\n",
       "    </tr>\n",
       "    <tr>\n",
       "      <th>...</th>\n",
       "      <td>...</td>\n",
       "      <td>...</td>\n",
       "      <td>...</td>\n",
       "    </tr>\n",
       "    <tr>\n",
       "      <th>119</th>\n",
       "      <td>2020-05-01</td>\n",
       "      <td>16</td>\n",
       "      <td>167.000000</td>\n",
       "    </tr>\n",
       "    <tr>\n",
       "      <th>120</th>\n",
       "      <td>2020-06-01</td>\n",
       "      <td>17</td>\n",
       "      <td>215.962006</td>\n",
       "    </tr>\n",
       "    <tr>\n",
       "      <th>121</th>\n",
       "      <td>2020-07-01</td>\n",
       "      <td>24</td>\n",
       "      <td>286.152008</td>\n",
       "    </tr>\n",
       "    <tr>\n",
       "      <th>122</th>\n",
       "      <td>2020-08-01</td>\n",
       "      <td>23</td>\n",
       "      <td>498.320007</td>\n",
       "    </tr>\n",
       "    <tr>\n",
       "      <th>123</th>\n",
       "      <td>2020-09-01</td>\n",
       "      <td>31</td>\n",
       "      <td>407.339996</td>\n",
       "    </tr>\n",
       "  </tbody>\n",
       "</table>\n",
       "<p>124 rows × 3 columns</p>\n",
       "</div>"
      ],
      "text/plain": [
       "         MONTH  TSLA_WEB_SEARCH  TSLA_USD_CLOSE\n",
       "0   2010-06-01                3        4.766000\n",
       "1   2010-07-01                3        3.988000\n",
       "2   2010-08-01                2        3.896000\n",
       "3   2010-09-01                2        4.082000\n",
       "4   2010-10-01                2        4.368000\n",
       "..         ...              ...             ...\n",
       "119 2020-05-01               16      167.000000\n",
       "120 2020-06-01               17      215.962006\n",
       "121 2020-07-01               24      286.152008\n",
       "122 2020-08-01               23      498.320007\n",
       "123 2020-09-01               31      407.339996\n",
       "\n",
       "[124 rows x 3 columns]"
      ]
     },
     "execution_count": 128,
     "metadata": {},
     "output_type": "execute_result"
    }
   ],
   "source": [
    "df_tesla"
   ]
  },
  {
   "cell_type": "code",
   "execution_count": 226,
   "metadata": {},
   "outputs": [
    {
     "data": {
      "text/plain": [
       "Timestamp('2020-09-01 00:00:00')"
      ]
     },
     "execution_count": 226,
     "metadata": {},
     "output_type": "execute_result"
    }
   ],
   "source": [
    "df_tesla.MONTH.max()"
   ]
  },
  {
   "cell_type": "code",
   "execution_count": 229,
   "metadata": {},
   "outputs": [
    {
     "data": {
      "image/png": "[encoded data removed]",
      "text/plain": [
       "<Figure size 1680x960 with 2 Axes>"
      ]
     },
     "metadata": {},
     "output_type": "display_data"
    }
   ],
   "source": [
    "fig, ax1 = plt.subplots(figsize=(14, 8), dpi=120)\n",
    "\n",
    "fig.suptitle('Tesla Web Search vs Price', size=20, weight='bold')\n",
    "\n",
    "price_color = '#EF5578'\n",
    "ax1.set_xlabel('Month', size=14, weight='bold')\n",
    "ax1.set_ylabel('TSLA Stock Price (USD)', size=14, color=price_color, weight='bold')\n",
    "ax1.tick_params(axis='y', labelsize=12, labelcolor=price_color)\n",
    "ax1.tick_params(axis='x', labelsize=14, labelrotation=45)\n",
    "ax1.set_xlim([pd.to_datetime('2010-06-01'), pd.to_datetime('2020-09-01')])\n",
    "# ax.set_xlim([df_tesla.MONTH.min(), df_tesla.MONTH.max()])\n",
    "ax1.plot(df_tesla.MONTH, df_tesla.TSLA_USD_CLOSE, color=price_color, linewidth=3)\n",
    "\n",
    "\n",
    "ax2 = ax1.twinx()\n",
    "\n",
    "search_color = 'tab:blue'\n",
    "ax2.set_ylabel('Search Trend', size=14, color=search_color, weight='bold')\n",
    "ax2.plot(df_tesla.MONTH, df_tesla.TSLA_WEB_SEARCH, color=search_color, linewidth=3)\n",
    "ax2.tick_params(axis='y', labelsize=12, labelcolor=search_color)\n",
    "\n",
    "for label in ax1.get_xticklabels():\n",
    "    label.set(rotation=45, ha='right')\n",
    "\n",
    "fig.tight_layout() \n",
    "plt.show()"
   ]
  },
  {
   "cell_type": "markdown",
   "metadata": {},
   "source": [
    "**Challenge**: Add colours to style the chart. This will help differentiate the two lines and the axis labels. Try using one of the blue [colour names](https://matplotlib.org/3.1.1/gallery/color/named_colors.html) for the search volume and a HEX code for a red colour for the stock price. \n",
    "<br>\n",
    "<br>\n",
    "Hint: you can colour both the [axis labels](https://matplotlib.org/3.3.2/api/text_api.html#matplotlib.text.Text) and the [lines](https://matplotlib.org/3.2.1/api/_as_gen/matplotlib.lines.Line2D.html#matplotlib.lines.Line2D) on the chart using keyword arguments (kwargs).  "
   ]
  },
  {
   "cell_type": "markdown",
   "metadata": {},
   "source": [
    "**Challenge**: Make the chart larger and easier to read. \n",
    "1. Increase the figure size (e.g., to 14 by 8). \n",
    "2. Increase the font sizes for the labels and the ticks on the x-axis to 14. \n",
    "3. Rotate the text on the x-axis by 45 degrees. \n",
    "4. Make the lines on the chart thicker. \n",
    "5. Add a title that reads 'Tesla Web Search vs Price'\n",
    "6. Keep the chart looking sharp by changing the dots-per-inch or [DPI value](https://matplotlib.org/3.1.1/api/_as_gen/matplotlib.pyplot.figure.html). \n",
    "7. Set minimum and maximum values for the y and x axis. Hint: check out methods like [set_xlim()](https://matplotlib.org/3.1.1/api/_as_gen/matplotlib.axes.Axes.set_xlim.html). \n",
    "8. Finally use [plt.show()](https://matplotlib.org/3.2.1/api/_as_gen/matplotlib.pyplot.show.html) to display the chart below the cell instead of relying on the automatic notebook output."
   ]
  },
  {
   "cell_type": "code",
   "execution_count": null,
   "metadata": {},
   "outputs": [],
   "source": []
  },
  {
   "cell_type": "markdown",
   "metadata": {},
   "source": [
    "How to add tick formatting for dates on the x-axis. "
   ]
  },
  {
   "cell_type": "code",
   "execution_count": null,
   "metadata": {},
   "outputs": [],
   "source": []
  },
  {
   "cell_type": "markdown",
   "metadata": {},
   "source": [
    "### Bitcoin (BTC) Price v.s. Search Volume"
   ]
  },
  {
   "cell_type": "markdown",
   "metadata": {},
   "source": [
    "**Challenge**: Create the same chart for the Bitcoin Prices vs. Search volumes. <br>\n",
    "1. Modify the chart title to read 'Bitcoin News Search vs Resampled Price' <br>\n",
    "2. Change the y-axis label to 'BTC Price' <br>\n",
    "3. Change the y- and x-axis limits to improve the appearance <br>\n",
    "4. Investigate the [linestyles](https://matplotlib.org/3.2.1/api/_as_gen/matplotlib.pyplot.plot.html ) to make the BTC price a dashed line <br>\n",
    "5. Investigate the [marker types](https://matplotlib.org/3.2.1/api/markers_api.html) to make the search datapoints little circles <br>\n",
    "6. Were big increases in searches for Bitcoin accompanied by big increases in the price?"
   ]
  },
  {
   "cell_type": "code",
   "execution_count": null,
   "metadata": {},
   "outputs": [],
   "source": []
  },
  {
   "cell_type": "code",
   "execution_count": null,
   "metadata": {},
   "outputs": [],
   "source": []
  },
  {
   "cell_type": "markdown",
   "metadata": {},
   "source": [
    "### Unemployement Benefits Search vs. Actual Unemployment in the U.S."
   ]
  },
  {
   "cell_type": "markdown",
   "metadata": {},
   "source": [
    "**Challenge** Plot the search for \"unemployment benefits\" against the unemployment rate. \n",
    "1. Change the title to: Monthly Search of \"Unemployment Benefits\" in the U.S. vs the U/E Rate <br>\n",
    "2. Change the y-axis label to: FRED U/E Rate <br>\n",
    "3. Change the axis limits <br>\n",
    "4. Add a grey [grid](https://matplotlib.org/3.2.1/api/_as_gen/matplotlib.pyplot.grid.html) to the chart to better see the years and the U/E rate values. Use dashes for the line style<br> \n",
    "5. Can you discern any seasonality in the searches? Is there a pattern? "
   ]
  },
  {
   "cell_type": "code",
   "execution_count": null,
   "metadata": {},
   "outputs": [],
   "source": []
  },
  {
   "cell_type": "markdown",
   "metadata": {},
   "source": [
    "**Challenge**: Calculate the 3-month or 6-month rolling average for the web searches. Plot the 6-month rolling average search data against the actual unemployment. What do you see in the chart? Which line moves first?\n"
   ]
  },
  {
   "cell_type": "code",
   "execution_count": null,
   "metadata": {},
   "outputs": [],
   "source": []
  },
  {
   "cell_type": "markdown",
   "metadata": {},
   "source": [
    "### Including 2020 in Unemployment Charts"
   ]
  },
  {
   "cell_type": "markdown",
   "metadata": {},
   "source": [
    "**Challenge**: Read the data in the 'UE Benefits Search vs UE Rate 2004-20.csv' into a DataFrame. Convert the MONTH column to Pandas Datetime objects and then plot the chart. What do you see?"
   ]
  },
  {
   "cell_type": "code",
   "execution_count": null,
   "metadata": {},
   "outputs": [],
   "source": []
  },
  {
   "cell_type": "code",
   "execution_count": null,
   "metadata": {},
   "outputs": [],
   "source": []
  },
  {
   "cell_type": "code",
   "execution_count": null,
   "metadata": {},
   "outputs": [],
   "source": []
  }
 ],
 "metadata": {
  "kernelspec": {
   "display_name": "Python 3 (ipykernel)",
   "language": "python",
   "name": "python3"
  },
  "language_info": {
   "codemirror_mode": {
    "name": "ipython",
    "version": 3
   },
   "file_extension": ".py",
   "mimetype": "text/x-python",
   "name": "python",
   "nbconvert_exporter": "python",
   "pygments_lexer": "ipython3",
   "version": "3.11.3"
  }
 },
 "nbformat": 4,
 "nbformat_minor": 4
}
