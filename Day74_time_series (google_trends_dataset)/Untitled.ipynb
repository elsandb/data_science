{
 "cells": [
  {
   "cell_type": "markdown",
   "id": "25da5106-89b0-459b-8ab6-a6d6737360a8",
   "metadata": {},
   "source": [
    "df_tesla = pd.read_csv('data/TESLA Search Trend vs Price.csv')\n",
    "\n",
    "df_btc_search = pd.read_csv('data/Bitcoin Search Trend.csv')\n",
    "df_btc_price = pd.read_csv('data/Daily Bitcoin Price.csv')\n",
    "\n",
    "df_unemployment = pd.read_csv('data/UE Benefits Search vs UE Rate 2004-19.csv')\n",
    "\n"
   ]
  }
 ],
 "metadata": {
  "kernelspec": {
   "display_name": "Python 3 (ipykernel)",
   "language": "python",
   "name": "python3"
  },
  "language_info": {
   "codemirror_mode": {
    "name": "ipython",
    "version": 3
   },
   "file_extension": ".py",
   "mimetype": "text/x-python",
   "name": "python",
   "nbconvert_exporter": "python",
   "pygments_lexer": "ipython3",
   "version": "3.11.3"
  }
 },
 "nbformat": 4,
 "nbformat_minor": 5
}
