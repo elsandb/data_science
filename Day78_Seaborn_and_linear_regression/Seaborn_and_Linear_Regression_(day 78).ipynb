{
  "cells": [
    {
      "cell_type": "markdown",
      "metadata": {
        "id": "gltiGJhvrzaL"
      },
      "source": [
        "# Day 78 of 100 days of code\n",
        "\n",
        "Much of the text in this notebook originates from the course [100 days of code](https://www.udemy.com/course/100-days-of-code) with Angela Yu. Answers to the challenges (code and text) is written by me. \n",
        "\n",
        "**Objective:** Do higher film budgets lead to more box office revenue? Should a movie studio spend more on a film to make more? Let's find out if there's a relationship using the movie budgets and financial performance data scraped from [the-numbers.com](https://www.the-numbers.com/movie/budgets) on **May 1st, 2018**. \n",
        "\n",
        "<img src=https://i.imgur.com/kq7hrEh.png height=150>\n",
        "\n",
        "\n",
        "**Today you'll learn:**\n",
        "\n",
        "- How to use a popular data visualisation library called **Seaborn**\n",
        "- How to run and interpret a **linear regression with scikit-learn**\n",
        "- How to **plot a regression line on a scatter plot** to visualise relationships in the data\n",
        "- How to add a third dimension to a scatter plot to create a **bubble chart**\n",
        "- How to cleverly use **floor division** // to convert your data"
      ]
    },
    {
      "cell_type": "markdown",
      "metadata": {
        "id": "zkLrvlKvtdih"
      },
      "source": [
        "# Import Statements"
      ]
    },
    {
      "cell_type": "code",
      "execution_count": 1,
      "metadata": {
        "id": "NpDk_q_Urroj"
      },
      "outputs": [],
      "source": [
        "import pandas as pd\n",
        "import matplotlib.pyplot as plt\n",
        "import scipy as sp\n",
        "import seaborn as sns\n",
        "from sklearn.linear_model import LinearRegression  # pip install -U scikit-learn"
      ]
    },
    {
      "cell_type": "markdown",
      "metadata": {
        "id": "x5B-UDvXtnC6"
      },
      "source": [
        "# Notebook Presentation"
      ]
    },
    {
      "cell_type": "code",
      "execution_count": 2,
      "metadata": {
        "id": "nM_otvWztjpT"
      },
      "outputs": [],
      "source": [
        "pd.options.display.float_format = '{:,.2f}'.format\n",
        "from pandas.plotting import register_matplotlib_converters\n",
        "register_matplotlib_converters()"
      ]
    },
    {
      "cell_type": "markdown",
      "metadata": {
        "id": "v-fnwNYJtthe"
      },
      "source": [
        "# Read the Data"
      ]
    },
    {
      "cell_type": "code",
      "execution_count": 3,
      "metadata": {
        "id": "xhwvQQWitrf4"
      },
      "outputs": [
        {
          "data": {
            "text/html": [
              "<div>\n",
              "<style scoped>\n",
              "    .dataframe tbody tr th:only-of-type {\n",
              "        vertical-align: middle;\n",
              "    }\n",
              "\n",
              "    .dataframe tbody tr th {\n",
              "        vertical-align: top;\n",
              "    }\n",
              "\n",
              "    .dataframe thead th {\n",
              "        text-align: right;\n",
              "    }\n",
              "</style>\n",
              "<table border=\"1\" class=\"dataframe\">\n",
              "  <thead>\n",
              "    <tr style=\"text-align: right;\">\n",
              "      <th></th>\n",
              "      <th>Rank</th>\n",
              "      <th>Release_Date</th>\n",
              "      <th>Movie_Title</th>\n",
              "      <th>USD_Production_Budget</th>\n",
              "      <th>USD_Worldwide_Gross</th>\n",
              "      <th>USD_Domestic_Gross</th>\n",
              "    </tr>\n",
              "  </thead>\n",
              "  <tbody>\n",
              "    <tr>\n",
              "      <th>0</th>\n",
              "      <td>5293</td>\n",
              "      <td>8/2/1915</td>\n",
              "      <td>The Birth of a Nation</td>\n",
              "      <td>$110,000</td>\n",
              "      <td>$11,000,000</td>\n",
              "      <td>$10,000,000</td>\n",
              "    </tr>\n",
              "    <tr>\n",
              "      <th>1</th>\n",
              "      <td>5140</td>\n",
              "      <td>5/9/1916</td>\n",
              "      <td>Intolerance</td>\n",
              "      <td>$385,907</td>\n",
              "      <td>$0</td>\n",
              "      <td>$0</td>\n",
              "    </tr>\n",
              "    <tr>\n",
              "      <th>2</th>\n",
              "      <td>5230</td>\n",
              "      <td>12/24/1916</td>\n",
              "      <td>20,000 Leagues Under the Sea</td>\n",
              "      <td>$200,000</td>\n",
              "      <td>$8,000,000</td>\n",
              "      <td>$8,000,000</td>\n",
              "    </tr>\n",
              "    <tr>\n",
              "      <th>3</th>\n",
              "      <td>5299</td>\n",
              "      <td>9/17/1920</td>\n",
              "      <td>Over the Hill to the Poorhouse</td>\n",
              "      <td>$100,000</td>\n",
              "      <td>$3,000,000</td>\n",
              "      <td>$3,000,000</td>\n",
              "    </tr>\n",
              "    <tr>\n",
              "      <th>4</th>\n",
              "      <td>5222</td>\n",
              "      <td>1/1/1925</td>\n",
              "      <td>The Big Parade</td>\n",
              "      <td>$245,000</td>\n",
              "      <td>$22,000,000</td>\n",
              "      <td>$11,000,000</td>\n",
              "    </tr>\n",
              "  </tbody>\n",
              "</table>\n",
              "</div>"
            ],
            "text/plain": [
              "   Rank Release_Date                     Movie_Title USD_Production_Budget  \\\n",
              "0  5293     8/2/1915           The Birth of a Nation              $110,000   \n",
              "1  5140     5/9/1916                     Intolerance              $385,907   \n",
              "2  5230   12/24/1916    20,000 Leagues Under the Sea              $200,000   \n",
              "3  5299    9/17/1920  Over the Hill to the Poorhouse              $100,000   \n",
              "4  5222     1/1/1925                  The Big Parade              $245,000   \n",
              "\n",
              "  USD_Worldwide_Gross USD_Domestic_Gross  \n",
              "0         $11,000,000        $10,000,000  \n",
              "1                  $0                 $0  \n",
              "2          $8,000,000         $8,000,000  \n",
              "3          $3,000,000         $3,000,000  \n",
              "4         $22,000,000        $11,000,000  "
            ]
          },
          "execution_count": 3,
          "metadata": {},
          "output_type": "execute_result"
        }
      ],
      "source": [
        "data = pd.read_csv('cost_revenue_dirty.csv')\n",
        "data[:5]"
      ]
    },
    {
      "cell_type": "markdown",
      "metadata": {
        "id": "tbg8_J5SuHhs"
      },
      "source": [
        "# Explore and Clean the Data"
      ]
    },
    {
      "cell_type": "markdown",
      "metadata": {
        "id": "xAtdcURCuL0Z"
      },
      "source": [
        "**Challenge**: Answer these questions about the dataset:\n",
        "\n",
        "**1. How many rows and columns does the dataset contain?** (5391, 6)\n",
        "\n",
        "**2. Are there any NaN values present?** No\n",
        "\n",
        "**3. Are there any duplicate rows?** No\n",
        "\n",
        "**4. What are the data types of the columns?** See below"
      ]
    },
    {
      "cell_type": "code",
      "execution_count": 4,
      "metadata": {
        "id": "PV3KLBSVTMDN"
      },
      "outputs": [
        {
          "name": "stdout",
          "output_type": "stream",
          "text": [
            "(5391, 6)\n",
            "Any NaN values? False\n",
            "Any dupilcated rows? False\n"
          ]
        },
        {
          "data": {
            "text/plain": [
              "Rank                      int64\n",
              "Release_Date             object\n",
              "Movie_Title              object\n",
              "USD_Production_Budget    object\n",
              "USD_Worldwide_Gross      object\n",
              "USD_Domestic_Gross       object\n",
              "dtype: object"
            ]
          },
          "execution_count": 4,
          "metadata": {},
          "output_type": "execute_result"
        }
      ],
      "source": [
        "print(data.shape)\n",
        "print(\"Any NaN values?\", data.isna().values.any())  # No NaN values\n",
        "print(\"Any dupilcated rows?\", data.duplicated().values.any())  # No duplicated rows\n",
        "data.dtypes"
      ]
    },
    {
      "cell_type": "code",
      "execution_count": 5,
      "metadata": {},
      "outputs": [
        {
          "name": "stdout",
          "output_type": "stream",
          "text": [
            "<class 'pandas.core.frame.DataFrame'>\n",
            "RangeIndex: 5391 entries, 0 to 5390\n",
            "Data columns (total 6 columns):\n",
            " #   Column                 Non-Null Count  Dtype \n",
            "---  ------                 --------------  ----- \n",
            " 0   Rank                   5391 non-null   int64 \n",
            " 1   Release_Date           5391 non-null   object\n",
            " 2   Movie_Title            5391 non-null   object\n",
            " 3   USD_Production_Budget  5391 non-null   object\n",
            " 4   USD_Worldwide_Gross    5391 non-null   object\n",
            " 5   USD_Domestic_Gross     5391 non-null   object\n",
            "dtypes: int64(1), object(5)\n",
            "memory usage: 252.8+ KB\n"
          ]
        }
      ],
      "source": [
        "data.info()"
      ]
    },
    {
      "cell_type": "markdown",
      "metadata": {
        "id": "v8spadDNvpVG"
      },
      "source": [
        "### Data Type Conversions"
      ]
    },
    {
      "cell_type": "markdown",
      "metadata": {
        "id": "9F8KFST4ulrd"
      },
      "source": [
        "**Challenge**: Convert the `USD_Production_Budget`, `USD_Worldwide_Gross`, and `USD_Domestic_Gross` columns to a numeric format by removing `$` signs and `,`. \n",
        "<br>\n",
        "<br>\n",
        "Note that *domestic* in this context refers to the United States."
      ]
    },
    {
      "cell_type": "code",
      "execution_count": 6,
      "metadata": {
        "id": "BmdCbLf-TPXk"
      },
      "outputs": [
        {
          "data": {
            "text/html": [
              "<div>\n",
              "<style scoped>\n",
              "    .dataframe tbody tr th:only-of-type {\n",
              "        vertical-align: middle;\n",
              "    }\n",
              "\n",
              "    .dataframe tbody tr th {\n",
              "        vertical-align: top;\n",
              "    }\n",
              "\n",
              "    .dataframe thead th {\n",
              "        text-align: right;\n",
              "    }\n",
              "</style>\n",
              "<table border=\"1\" class=\"dataframe\">\n",
              "  <thead>\n",
              "    <tr style=\"text-align: right;\">\n",
              "      <th></th>\n",
              "      <th>Rank</th>\n",
              "      <th>Release_Date</th>\n",
              "      <th>Movie_Title</th>\n",
              "      <th>USD_Production_Budget</th>\n",
              "      <th>USD_Worldwide_Gross</th>\n",
              "      <th>USD_Domestic_Gross</th>\n",
              "    </tr>\n",
              "  </thead>\n",
              "  <tbody>\n",
              "    <tr>\n",
              "      <th>0</th>\n",
              "      <td>5293</td>\n",
              "      <td>8/2/1915</td>\n",
              "      <td>The Birth of a Nation</td>\n",
              "      <td>110000</td>\n",
              "      <td>11000000</td>\n",
              "      <td>10000000</td>\n",
              "    </tr>\n",
              "    <tr>\n",
              "      <th>1</th>\n",
              "      <td>5140</td>\n",
              "      <td>5/9/1916</td>\n",
              "      <td>Intolerance</td>\n",
              "      <td>385907</td>\n",
              "      <td>0</td>\n",
              "      <td>0</td>\n",
              "    </tr>\n",
              "    <tr>\n",
              "      <th>2</th>\n",
              "      <td>5230</td>\n",
              "      <td>12/24/1916</td>\n",
              "      <td>20,000 Leagues Under the Sea</td>\n",
              "      <td>200000</td>\n",
              "      <td>8000000</td>\n",
              "      <td>8000000</td>\n",
              "    </tr>\n",
              "    <tr>\n",
              "      <th>3</th>\n",
              "      <td>5299</td>\n",
              "      <td>9/17/1920</td>\n",
              "      <td>Over the Hill to the Poorhouse</td>\n",
              "      <td>100000</td>\n",
              "      <td>3000000</td>\n",
              "      <td>3000000</td>\n",
              "    </tr>\n",
              "    <tr>\n",
              "      <th>4</th>\n",
              "      <td>5222</td>\n",
              "      <td>1/1/1925</td>\n",
              "      <td>The Big Parade</td>\n",
              "      <td>245000</td>\n",
              "      <td>22000000</td>\n",
              "      <td>11000000</td>\n",
              "    </tr>\n",
              "  </tbody>\n",
              "</table>\n",
              "</div>"
            ],
            "text/plain": [
              "   Rank Release_Date                     Movie_Title USD_Production_Budget  \\\n",
              "0  5293     8/2/1915           The Birth of a Nation                110000   \n",
              "1  5140     5/9/1916                     Intolerance                385907   \n",
              "2  5230   12/24/1916    20,000 Leagues Under the Sea                200000   \n",
              "3  5299    9/17/1920  Over the Hill to the Poorhouse                100000   \n",
              "4  5222     1/1/1925                  The Big Parade                245000   \n",
              "\n",
              "  USD_Worldwide_Gross USD_Domestic_Gross  \n",
              "0            11000000           10000000  \n",
              "1                   0                  0  \n",
              "2             8000000            8000000  \n",
              "3             3000000            3000000  \n",
              "4            22000000           11000000  "
            ]
          },
          "execution_count": 6,
          "metadata": {},
          "output_type": "execute_result"
        }
      ],
      "source": [
        "columns_to_clean = [\"USD_Production_Budget\", \"USD_Worldwide_Gross\", \"USD_Domestic_Gross\"]\n",
        "# Remove \"$\" and \",\"\n",
        "data[columns_to_clean] = data[columns_to_clean].replace(r\"\\$|\\,\", \"\", regex=True)\n",
        "data[:5]"
      ]
    },
    {
      "cell_type": "code",
      "execution_count": 7,
      "metadata": {},
      "outputs": [
        {
          "data": {
            "text/plain": [
              "Rank                      int64\n",
              "Release_Date             object\n",
              "Movie_Title              object\n",
              "USD_Production_Budget     int64\n",
              "USD_Worldwide_Gross       int64\n",
              "USD_Domestic_Gross        int64\n",
              "dtype: object"
            ]
          },
          "execution_count": 7,
          "metadata": {},
          "output_type": "execute_result"
        }
      ],
      "source": [
        "# Convert the budget and revenue columns to numeric type\n",
        "for col in columns_to_clean:\n",
        "    data[col] = pd.to_numeric(data[col])\n",
        "data.dtypes"
      ]
    },
    {
      "cell_type": "markdown",
      "metadata": {
        "id": "cA01iJHkvWhl"
      },
      "source": [
        "**Challenge**: Convert the `Release_Date` column to a Pandas Datetime type. "
      ]
    },
    {
      "cell_type": "code",
      "execution_count": 8,
      "metadata": {
        "id": "Pq1WfvRnTRU6"
      },
      "outputs": [
        {
          "name": "stdout",
          "output_type": "stream",
          "text": [
            "Rank                              int64\n",
            "Release_Date             datetime64[ns]\n",
            "Movie_Title                      object\n",
            "USD_Production_Budget             int64\n",
            "USD_Worldwide_Gross               int64\n",
            "USD_Domestic_Gross                int64\n",
            "dtype: object\n"
          ]
        },
        {
          "data": {
            "text/html": [
              "<div>\n",
              "<style scoped>\n",
              "    .dataframe tbody tr th:only-of-type {\n",
              "        vertical-align: middle;\n",
              "    }\n",
              "\n",
              "    .dataframe tbody tr th {\n",
              "        vertical-align: top;\n",
              "    }\n",
              "\n",
              "    .dataframe thead th {\n",
              "        text-align: right;\n",
              "    }\n",
              "</style>\n",
              "<table border=\"1\" class=\"dataframe\">\n",
              "  <thead>\n",
              "    <tr style=\"text-align: right;\">\n",
              "      <th></th>\n",
              "      <th>Rank</th>\n",
              "      <th>Release_Date</th>\n",
              "      <th>Movie_Title</th>\n",
              "      <th>USD_Production_Budget</th>\n",
              "      <th>USD_Worldwide_Gross</th>\n",
              "      <th>USD_Domestic_Gross</th>\n",
              "    </tr>\n",
              "  </thead>\n",
              "  <tbody>\n",
              "    <tr>\n",
              "      <th>0</th>\n",
              "      <td>5293</td>\n",
              "      <td>1915-08-02</td>\n",
              "      <td>The Birth of a Nation</td>\n",
              "      <td>110000</td>\n",
              "      <td>11000000</td>\n",
              "      <td>10000000</td>\n",
              "    </tr>\n",
              "    <tr>\n",
              "      <th>1</th>\n",
              "      <td>5140</td>\n",
              "      <td>1916-05-09</td>\n",
              "      <td>Intolerance</td>\n",
              "      <td>385907</td>\n",
              "      <td>0</td>\n",
              "      <td>0</td>\n",
              "    </tr>\n",
              "  </tbody>\n",
              "</table>\n",
              "</div>"
            ],
            "text/plain": [
              "   Rank Release_Date            Movie_Title  USD_Production_Budget  \\\n",
              "0  5293   1915-08-02  The Birth of a Nation                 110000   \n",
              "1  5140   1916-05-09            Intolerance                 385907   \n",
              "\n",
              "   USD_Worldwide_Gross  USD_Domestic_Gross  \n",
              "0             11000000            10000000  \n",
              "1                    0                   0  "
            ]
          },
          "execution_count": 8,
          "metadata": {},
          "output_type": "execute_result"
        }
      ],
      "source": [
        "data[\"Release_Date\"] = pd.to_datetime(data[\"Release_Date\"], format=\"%m/%d/%Y\")\n",
        "print(data.dtypes)\n",
        "data[:2]"
      ]
    },
    {
      "cell_type": "markdown",
      "metadata": {
        "id": "NkwmJO3tvt5i"
      },
      "source": [
        "### Descriptive Statistics"
      ]
    },
    {
      "cell_type": "markdown",
      "metadata": {
        "id": "bnb54thrvx5r"
      },
      "source": [
        "We see from the description table that there are 5391 movies in the dataset. They are ranked from 1 to 5391. \n",
        "\n",
        "**Challenge**: \n",
        "\n",
        "**1. What is the average production budget of the films in the data set?**  \n",
        "\n",
        "- $31 million.\n",
        "\n",
        "**2. What is the average worldwide gross revenue (_no: gjennomsnittlig bruttoinntekt/omsetning på verdensbasis_) of films?** \n",
        "\n",
        "- About $88.9 million.\n",
        "\n",
        "**3. What were the minimums for worldwide and domestic revenue?** \n",
        "\n",
        "- $0 for both worldwide and domestic revenue.\n",
        "\n",
        "**4. Are the bottom 25% of films actually profitable or do they lose money?** \n",
        "\n",
        "- To answer the question I assume that \"the bottom 25% of films\" refers to the 25% lowest (worst) ranked films, i.e., movies with rank 4044 or higher. Se further explanation and code below.\n",
        "\n",
        "- The soultion for this challenge (provided in the course) treats \"the bottom quartile\" as a group of films: \"[...] But quite a lot of films lose money too. In fact, all the films in the bottom quartile lose money, since the average cost is $5 million and they only bring in $3.8m in worldwide revenue\". This is not a correct interpretation of the description table below (made with `.describe()`). In this statement it is assumed that the values in the\"25%\" (25th percentile) row are related to each other, but the percentile values are calculated for each column in the DataFrame and are not related to any spesifick group of films. This becomes clear if we look at the \"min\" row, which gives us the lowest occuring value in each column in the DataFrame. These values \"belongs\" (or could belong) to a different film. The minimum value for \"Rank\" is 1, which is the best possible rank and it belongs to the movie \"Avatar\", while the lowest value in the column \"USD_Production_Budget\" is $1100, which is the budget of the movie \"My Date With Drew\".\n",
        "\n",
        "**5. What are the highest production budget and highest worldwide gross revenue of any film?** \n",
        "\n",
        "- The highest production budget is $425M, and the highest worldwide gross revenue is about $2.8 billion.\n",
        "\n",
        "**6. How much revenue did the lowest and highest budget films make?** \n",
        "\n",
        "- The movie with the lowest production budget ($1,100) is \"My Date With Drew\" which made $181,041.\n",
        "- The movie with the highest production budget ($425,000,000) is \"Avatar\" which made almost $2.8 billion."
      ]
    },
    {
      "cell_type": "code",
      "execution_count": 9,
      "metadata": {},
      "outputs": [
        {
          "data": {
            "text/html": [
              "<div>\n",
              "<style scoped>\n",
              "    .dataframe tbody tr th:only-of-type {\n",
              "        vertical-align: middle;\n",
              "    }\n",
              "\n",
              "    .dataframe tbody tr th {\n",
              "        vertical-align: top;\n",
              "    }\n",
              "\n",
              "    .dataframe thead th {\n",
              "        text-align: right;\n",
              "    }\n",
              "</style>\n",
              "<table border=\"1\" class=\"dataframe\">\n",
              "  <thead>\n",
              "    <tr style=\"text-align: right;\">\n",
              "      <th></th>\n",
              "      <th>Rank</th>\n",
              "      <th>Release_Date</th>\n",
              "      <th>USD_Production_Budget</th>\n",
              "      <th>USD_Worldwide_Gross</th>\n",
              "      <th>USD_Domestic_Gross</th>\n",
              "    </tr>\n",
              "  </thead>\n",
              "  <tbody>\n",
              "    <tr>\n",
              "      <th>count</th>\n",
              "      <td>5,391.00</td>\n",
              "      <td>5391</td>\n",
              "      <td>5,391.00</td>\n",
              "      <td>5,391.00</td>\n",
              "      <td>5,391.00</td>\n",
              "    </tr>\n",
              "    <tr>\n",
              "      <th>mean</th>\n",
              "      <td>2,696.00</td>\n",
              "      <td>2003-09-19 15:02:02.203672704</td>\n",
              "      <td>31,113,737.58</td>\n",
              "      <td>88,855,421.96</td>\n",
              "      <td>41,235,519.44</td>\n",
              "    </tr>\n",
              "    <tr>\n",
              "      <th>min</th>\n",
              "      <td>1.00</td>\n",
              "      <td>1915-08-02 00:00:00</td>\n",
              "      <td>1,100.00</td>\n",
              "      <td>0.00</td>\n",
              "      <td>0.00</td>\n",
              "    </tr>\n",
              "    <tr>\n",
              "      <th>25%</th>\n",
              "      <td>1,348.50</td>\n",
              "      <td>1999-12-02 12:00:00</td>\n",
              "      <td>5,000,000.00</td>\n",
              "      <td>3,865,206.00</td>\n",
              "      <td>1,330,901.50</td>\n",
              "    </tr>\n",
              "    <tr>\n",
              "      <th>50%</th>\n",
              "      <td>2,696.00</td>\n",
              "      <td>2006-06-23 00:00:00</td>\n",
              "      <td>17,000,000.00</td>\n",
              "      <td>27,450,453.00</td>\n",
              "      <td>17,192,205.00</td>\n",
              "    </tr>\n",
              "    <tr>\n",
              "      <th>75%</th>\n",
              "      <td>4,043.50</td>\n",
              "      <td>2011-11-23 00:00:00</td>\n",
              "      <td>40,000,000.00</td>\n",
              "      <td>96,454,455.00</td>\n",
              "      <td>52,343,687.00</td>\n",
              "    </tr>\n",
              "    <tr>\n",
              "      <th>max</th>\n",
              "      <td>5,391.00</td>\n",
              "      <td>2020-12-31 00:00:00</td>\n",
              "      <td>425,000,000.00</td>\n",
              "      <td>2,783,918,982.00</td>\n",
              "      <td>936,662,225.00</td>\n",
              "    </tr>\n",
              "    <tr>\n",
              "      <th>std</th>\n",
              "      <td>1,556.39</td>\n",
              "      <td>NaN</td>\n",
              "      <td>40,523,796.88</td>\n",
              "      <td>168,457,757.00</td>\n",
              "      <td>66,029,346.27</td>\n",
              "    </tr>\n",
              "  </tbody>\n",
              "</table>\n",
              "</div>"
            ],
            "text/plain": [
              "          Rank                   Release_Date  USD_Production_Budget  \\\n",
              "count 5,391.00                           5391               5,391.00   \n",
              "mean  2,696.00  2003-09-19 15:02:02.203672704          31,113,737.58   \n",
              "min       1.00            1915-08-02 00:00:00               1,100.00   \n",
              "25%   1,348.50            1999-12-02 12:00:00           5,000,000.00   \n",
              "50%   2,696.00            2006-06-23 00:00:00          17,000,000.00   \n",
              "75%   4,043.50            2011-11-23 00:00:00          40,000,000.00   \n",
              "max   5,391.00            2020-12-31 00:00:00         425,000,000.00   \n",
              "std   1,556.39                            NaN          40,523,796.88   \n",
              "\n",
              "       USD_Worldwide_Gross  USD_Domestic_Gross  \n",
              "count             5,391.00            5,391.00  \n",
              "mean         88,855,421.96       41,235,519.44  \n",
              "min                   0.00                0.00  \n",
              "25%           3,865,206.00        1,330,901.50  \n",
              "50%          27,450,453.00       17,192,205.00  \n",
              "75%          96,454,455.00       52,343,687.00  \n",
              "max       2,783,918,982.00      936,662,225.00  \n",
              "std         168,457,757.00       66,029,346.27  "
            ]
          },
          "execution_count": 9,
          "metadata": {},
          "output_type": "execute_result"
        }
      ],
      "source": [
        "data.describe()"
      ]
    },
    {
      "cell_type": "code",
      "execution_count": 10,
      "metadata": {},
      "outputs": [
        {
          "data": {
            "text/html": [
              "<div>\n",
              "<style scoped>\n",
              "    .dataframe tbody tr th:only-of-type {\n",
              "        vertical-align: middle;\n",
              "    }\n",
              "\n",
              "    .dataframe tbody tr th {\n",
              "        vertical-align: top;\n",
              "    }\n",
              "\n",
              "    .dataframe thead th {\n",
              "        text-align: right;\n",
              "    }\n",
              "</style>\n",
              "<table border=\"1\" class=\"dataframe\">\n",
              "  <thead>\n",
              "    <tr style=\"text-align: right;\">\n",
              "      <th></th>\n",
              "      <th>Rank</th>\n",
              "      <th>Release_Date</th>\n",
              "      <th>Movie_Title</th>\n",
              "      <th>USD_Production_Budget</th>\n",
              "      <th>USD_Worldwide_Gross</th>\n",
              "      <th>USD_Domestic_Gross</th>\n",
              "    </tr>\n",
              "  </thead>\n",
              "  <tbody>\n",
              "    <tr>\n",
              "      <th>3529</th>\n",
              "      <td>1</td>\n",
              "      <td>2009-12-18</td>\n",
              "      <td>Avatar</td>\n",
              "      <td>425000000</td>\n",
              "      <td>2783918982</td>\n",
              "      <td>760507625</td>\n",
              "    </tr>\n",
              "  </tbody>\n",
              "</table>\n",
              "</div>"
            ],
            "text/plain": [
              "      Rank Release_Date Movie_Title  USD_Production_Budget  \\\n",
              "3529     1   2009-12-18      Avatar              425000000   \n",
              "\n",
              "      USD_Worldwide_Gross  USD_Domestic_Gross  \n",
              "3529           2783918982           760507625  "
            ]
          },
          "execution_count": 10,
          "metadata": {},
          "output_type": "execute_result"
        }
      ],
      "source": [
        "data[data[\"Rank\"] == 1]"
      ]
    },
    {
      "cell_type": "markdown",
      "metadata": {},
      "source": [
        "By adding the column \"USD_Profit\" (difference between production budget and the worldwide gross revenue) we see that the **average profit is $57,741,684.38**."
      ]
    },
    {
      "cell_type": "code",
      "execution_count": 11,
      "metadata": {},
      "outputs": [
        {
          "name": "stdout",
          "output_type": "stream",
          "text": [
            "   Rank Release_Date                   Movie_Title  USD_Production_Budget  USD_Worldwide_Gross  USD_Domestic_Gross  USD_Profit\n",
            "0  5293   1915-08-02         The Birth of a Nation                 110000             11000000            10000000    10890000\n",
            "1  5140   1916-05-09                   Intolerance                 385907                    0                   0     -385907\n",
            "2  5230   1916-12-24  20,000 Leagues Under the Sea                 200000              8000000             8000000     7800000\n"
          ]
        },
        {
          "data": {
            "text/html": [
              "<div>\n",
              "<style scoped>\n",
              "    .dataframe tbody tr th:only-of-type {\n",
              "        vertical-align: middle;\n",
              "    }\n",
              "\n",
              "    .dataframe tbody tr th {\n",
              "        vertical-align: top;\n",
              "    }\n",
              "\n",
              "    .dataframe thead th {\n",
              "        text-align: right;\n",
              "    }\n",
              "</style>\n",
              "<table border=\"1\" class=\"dataframe\">\n",
              "  <thead>\n",
              "    <tr style=\"text-align: right;\">\n",
              "      <th></th>\n",
              "      <th>Rank</th>\n",
              "      <th>Release_Date</th>\n",
              "      <th>USD_Production_Budget</th>\n",
              "      <th>USD_Worldwide_Gross</th>\n",
              "      <th>USD_Domestic_Gross</th>\n",
              "      <th>USD_Profit</th>\n",
              "    </tr>\n",
              "  </thead>\n",
              "  <tbody>\n",
              "    <tr>\n",
              "      <th>count</th>\n",
              "      <td>5,391.00</td>\n",
              "      <td>5391</td>\n",
              "      <td>5,391.00</td>\n",
              "      <td>5,391.00</td>\n",
              "      <td>5,391.00</td>\n",
              "      <td>5,391.00</td>\n",
              "    </tr>\n",
              "    <tr>\n",
              "      <th>mean</th>\n",
              "      <td>2,696.00</td>\n",
              "      <td>2003-09-19 15:02:02.203672704</td>\n",
              "      <td>31,113,737.58</td>\n",
              "      <td>88,855,421.96</td>\n",
              "      <td>41,235,519.44</td>\n",
              "      <td>57,741,684.38</td>\n",
              "    </tr>\n",
              "    <tr>\n",
              "      <th>min</th>\n",
              "      <td>1.00</td>\n",
              "      <td>1915-08-02 00:00:00</td>\n",
              "      <td>1,100.00</td>\n",
              "      <td>0.00</td>\n",
              "      <td>0.00</td>\n",
              "      <td>-175,000,000.00</td>\n",
              "    </tr>\n",
              "    <tr>\n",
              "      <th>25%</th>\n",
              "      <td>1,348.50</td>\n",
              "      <td>1999-12-02 12:00:00</td>\n",
              "      <td>5,000,000.00</td>\n",
              "      <td>3,865,206.00</td>\n",
              "      <td>1,330,901.50</td>\n",
              "      <td>-2,244,775.00</td>\n",
              "    </tr>\n",
              "    <tr>\n",
              "      <th>50%</th>\n",
              "      <td>2,696.00</td>\n",
              "      <td>2006-06-23 00:00:00</td>\n",
              "      <td>17,000,000.00</td>\n",
              "      <td>27,450,453.00</td>\n",
              "      <td>17,192,205.00</td>\n",
              "      <td>8,122,000.00</td>\n",
              "    </tr>\n",
              "    <tr>\n",
              "      <th>75%</th>\n",
              "      <td>4,043.50</td>\n",
              "      <td>2011-11-23 00:00:00</td>\n",
              "      <td>40,000,000.00</td>\n",
              "      <td>96,454,455.00</td>\n",
              "      <td>52,343,687.00</td>\n",
              "      <td>59,518,660.00</td>\n",
              "    </tr>\n",
              "    <tr>\n",
              "      <th>max</th>\n",
              "      <td>5,391.00</td>\n",
              "      <td>2020-12-31 00:00:00</td>\n",
              "      <td>425,000,000.00</td>\n",
              "      <td>2,783,918,982.00</td>\n",
              "      <td>936,662,225.00</td>\n",
              "      <td>2,358,918,982.00</td>\n",
              "    </tr>\n",
              "    <tr>\n",
              "      <th>std</th>\n",
              "      <td>1,556.39</td>\n",
              "      <td>NaN</td>\n",
              "      <td>40,523,796.88</td>\n",
              "      <td>168,457,757.00</td>\n",
              "      <td>66,029,346.27</td>\n",
              "      <td>140,972,329.93</td>\n",
              "    </tr>\n",
              "  </tbody>\n",
              "</table>\n",
              "</div>"
            ],
            "text/plain": [
              "          Rank                   Release_Date  USD_Production_Budget  \\\n",
              "count 5,391.00                           5391               5,391.00   \n",
              "mean  2,696.00  2003-09-19 15:02:02.203672704          31,113,737.58   \n",
              "min       1.00            1915-08-02 00:00:00               1,100.00   \n",
              "25%   1,348.50            1999-12-02 12:00:00           5,000,000.00   \n",
              "50%   2,696.00            2006-06-23 00:00:00          17,000,000.00   \n",
              "75%   4,043.50            2011-11-23 00:00:00          40,000,000.00   \n",
              "max   5,391.00            2020-12-31 00:00:00         425,000,000.00   \n",
              "std   1,556.39                            NaN          40,523,796.88   \n",
              "\n",
              "       USD_Worldwide_Gross  USD_Domestic_Gross       USD_Profit  \n",
              "count             5,391.00            5,391.00         5,391.00  \n",
              "mean         88,855,421.96       41,235,519.44    57,741,684.38  \n",
              "min                   0.00                0.00  -175,000,000.00  \n",
              "25%           3,865,206.00        1,330,901.50    -2,244,775.00  \n",
              "50%          27,450,453.00       17,192,205.00     8,122,000.00  \n",
              "75%          96,454,455.00       52,343,687.00    59,518,660.00  \n",
              "max       2,783,918,982.00      936,662,225.00 2,358,918,982.00  \n",
              "std         168,457,757.00       66,029,346.27   140,972,329.93  "
            ]
          },
          "execution_count": 11,
          "metadata": {},
          "output_type": "execute_result"
        }
      ],
      "source": [
        "data[\"USD_Profit\"] = data[\"USD_Worldwide_Gross\"] - data[\"USD_Production_Budget\"]\n",
        "print(data[:3].to_string())\n",
        "data.describe()"
      ]
    },
    {
      "cell_type": "markdown",
      "metadata": {},
      "source": [
        "**Question 4. Are the bottom 25% of films actually profitable or do they lose money?**\n",
        "\n",
        "I assume that \"the bottom 25% of films\" refers to the 25% lowest (worst) ranked films, i.e., movies with rank 4044 or higher (value). This number is the 75th percentile for the column \"Rank\" (rounded up from 4043.5), which tells us that 75% of the movies have a \"Rank\" value equal to 4043.5 or lower (i.e. higher ranked, because rank number 1 is best), and therefore 25% of the movies must have a worse rank (higher numerical value).\n",
        "\n",
        "When looking at the description table for a DataFrame consisting of the 25% lowest (worst) ranked movies, we see that the average profit is about $7.4M, while the median profit is close to -$90K. This tells us that the lowest ranked movies could be profitable, but most of them (more than 50%) are not."
      ]
    },
    {
      "cell_type": "code",
      "execution_count": 12,
      "metadata": {},
      "outputs": [
        {
          "data": {
            "text/plain": [
              "False"
            ]
          },
          "execution_count": 12,
          "metadata": {},
          "output_type": "execute_result"
        }
      ],
      "source": [
        "data[\"Rank\"].duplicated().any()  \n",
        "# No movies are at the same rank. Good to know."
      ]
    },
    {
      "cell_type": "code",
      "execution_count": 13,
      "metadata": {},
      "outputs": [
        {
          "name": "stdout",
          "output_type": "stream",
          "text": [
            "rank_q75 = 4043.5\n",
            "bottom_25p_movies.shape = (1348, 7)\n"
          ]
        },
        {
          "data": {
            "text/html": [
              "<div>\n",
              "<style scoped>\n",
              "    .dataframe tbody tr th:only-of-type {\n",
              "        vertical-align: middle;\n",
              "    }\n",
              "\n",
              "    .dataframe tbody tr th {\n",
              "        vertical-align: top;\n",
              "    }\n",
              "\n",
              "    .dataframe thead th {\n",
              "        text-align: right;\n",
              "    }\n",
              "</style>\n",
              "<table border=\"1\" class=\"dataframe\">\n",
              "  <thead>\n",
              "    <tr style=\"text-align: right;\">\n",
              "      <th></th>\n",
              "      <th>Rank</th>\n",
              "      <th>Release_Date</th>\n",
              "      <th>USD_Production_Budget</th>\n",
              "      <th>USD_Worldwide_Gross</th>\n",
              "      <th>USD_Domestic_Gross</th>\n",
              "      <th>USD_Profit</th>\n",
              "    </tr>\n",
              "  </thead>\n",
              "  <tbody>\n",
              "    <tr>\n",
              "      <th>count</th>\n",
              "      <td>1,348.00</td>\n",
              "      <td>1348</td>\n",
              "      <td>1,348.00</td>\n",
              "      <td>1,348.00</td>\n",
              "      <td>1,348.00</td>\n",
              "      <td>1,348.00</td>\n",
              "    </tr>\n",
              "    <tr>\n",
              "      <th>mean</th>\n",
              "      <td>4,717.50</td>\n",
              "      <td>2001-04-12 12:23:30.089020800</td>\n",
              "      <td>1,874,027.95</td>\n",
              "      <td>9,299,180.18</td>\n",
              "      <td>5,982,015.03</td>\n",
              "      <td>7,425,152.23</td>\n",
              "    </tr>\n",
              "    <tr>\n",
              "      <th>min</th>\n",
              "      <td>4,044.00</td>\n",
              "      <td>1915-08-02 00:00:00</td>\n",
              "      <td>1,100.00</td>\n",
              "      <td>0.00</td>\n",
              "      <td>0.00</td>\n",
              "      <td>-5,000,000.00</td>\n",
              "    </tr>\n",
              "    <tr>\n",
              "      <th>25%</th>\n",
              "      <td>4,380.75</td>\n",
              "      <td>1999-03-13 18:00:00</td>\n",
              "      <td>500,000.00</td>\n",
              "      <td>6,159.50</td>\n",
              "      <td>0.00</td>\n",
              "      <td>-1,200,000.00</td>\n",
              "    </tr>\n",
              "    <tr>\n",
              "      <th>50%</th>\n",
              "      <td>4,717.50</td>\n",
              "      <td>2007-04-22 00:00:00</td>\n",
              "      <td>1,500,000.00</td>\n",
              "      <td>636,005.50</td>\n",
              "      <td>257,153.50</td>\n",
              "      <td>-89,881.50</td>\n",
              "    </tr>\n",
              "    <tr>\n",
              "      <th>75%</th>\n",
              "      <td>5,054.25</td>\n",
              "      <td>2013-01-06 18:00:00</td>\n",
              "      <td>3,000,000.00</td>\n",
              "      <td>7,146,872.50</td>\n",
              "      <td>4,051,902.25</td>\n",
              "      <td>4,713,997.50</td>\n",
              "    </tr>\n",
              "    <tr>\n",
              "      <th>max</th>\n",
              "      <td>5,391.00</td>\n",
              "      <td>2017-08-25 00:00:00</td>\n",
              "      <td>5,000,000.00</td>\n",
              "      <td>390,525,192.00</td>\n",
              "      <td>198,680,470.00</td>\n",
              "      <td>386,625,192.00</td>\n",
              "    </tr>\n",
              "    <tr>\n",
              "      <th>std</th>\n",
              "      <td>389.28</td>\n",
              "      <td>NaN</td>\n",
              "      <td>1,471,007.51</td>\n",
              "      <td>27,187,087.57</td>\n",
              "      <td>16,655,558.08</td>\n",
              "      <td>27,034,074.86</td>\n",
              "    </tr>\n",
              "  </tbody>\n",
              "</table>\n",
              "</div>"
            ],
            "text/plain": [
              "          Rank                   Release_Date  USD_Production_Budget  \\\n",
              "count 1,348.00                           1348               1,348.00   \n",
              "mean  4,717.50  2001-04-12 12:23:30.089020800           1,874,027.95   \n",
              "min   4,044.00            1915-08-02 00:00:00               1,100.00   \n",
              "25%   4,380.75            1999-03-13 18:00:00             500,000.00   \n",
              "50%   4,717.50            2007-04-22 00:00:00           1,500,000.00   \n",
              "75%   5,054.25            2013-01-06 18:00:00           3,000,000.00   \n",
              "max   5,391.00            2017-08-25 00:00:00           5,000,000.00   \n",
              "std     389.28                            NaN           1,471,007.51   \n",
              "\n",
              "       USD_Worldwide_Gross  USD_Domestic_Gross     USD_Profit  \n",
              "count             1,348.00            1,348.00       1,348.00  \n",
              "mean          9,299,180.18        5,982,015.03   7,425,152.23  \n",
              "min                   0.00                0.00  -5,000,000.00  \n",
              "25%               6,159.50                0.00  -1,200,000.00  \n",
              "50%             636,005.50          257,153.50     -89,881.50  \n",
              "75%           7,146,872.50        4,051,902.25   4,713,997.50  \n",
              "max         390,525,192.00      198,680,470.00 386,625,192.00  \n",
              "std          27,187,087.57       16,655,558.08  27,034,074.86  "
            ]
          },
          "execution_count": 13,
          "metadata": {},
          "output_type": "execute_result"
        }
      ],
      "source": [
        "# Create a DataFrame with the 25% lowest ranked films\n",
        "\n",
        "# 75th percentile value in the \"Rank\" column\n",
        "rank_q75 = data[\"Rank\"].quantile(0.75)\n",
        "print(f\"{rank_q75 = }\")\n",
        "\n",
        "# Filter data: include rows where \"Rank\" is equal or higher than the 75th percentile.\n",
        "bottom_25p_movies = data.loc[data[\"Rank\"] >= rank_q75]  \n",
        "print(f\"{bottom_25p_movies.shape = }\")\n",
        "\n",
        "bottom_25p_movies.describe()"
      ]
    },
    {
      "cell_type": "markdown",
      "metadata": {},
      "source": [
        "**Question 6. How much revenue did the lowest and highest budget films make?**"
      ]
    },
    {
      "cell_type": "code",
      "execution_count": 14,
      "metadata": {},
      "outputs": [
        {
          "name": "stdout",
          "output_type": "stream",
          "text": [
            "\n",
            "The movie with the lowest production budget ($1,100) is \"My Date With Drew\" which made $181,041.\n"
          ]
        }
      ],
      "source": [
        "low_budg_films = data.iloc[data['USD_Production_Budget'].idxmin()]\n",
        "print(f\"\\nThe movie with the lowest production budget (${'{:,.0f}'.format(low_budg_films['USD_Production_Budget'])}) is \\\"{low_budg_films['Movie_Title']}\\\" which made ${'{:,.0f}'.format(low_budg_films['USD_Worldwide_Gross'])}.\")"
      ]
    },
    {
      "cell_type": "code",
      "execution_count": 15,
      "metadata": {},
      "outputs": [
        {
          "name": "stdout",
          "output_type": "stream",
          "text": [
            "\n",
            "The movie with the highest production budget ($425,000,000) is \"Avatar\" which made $2,783,918,982.\n"
          ]
        }
      ],
      "source": [
        "high_budj_movie = data.iloc[data['USD_Production_Budget'].idxmax()]\n",
        "print(f\"\\nThe movie with the highest production budget (${'{:,.0f}'.format(high_budj_movie['USD_Production_Budget'])}) is \\\"{high_budj_movie['Movie_Title']}\\\" which made ${'{:,.0f}'.format(high_budj_movie['USD_Worldwide_Gross'])}.\")"
      ]
    },
    {
      "cell_type": "markdown",
      "metadata": {
        "id": "Cj-ug32JyEhp"
      },
      "source": [
        "# Investigating the Zero Revenue Films"
      ]
    },
    {
      "cell_type": "markdown",
      "metadata": {
        "id": "U9hm-pb4xTjY"
      },
      "source": [
        "**Challenge** How many films grossed $0 domestically (i.e., in the United States)? What were the highest budget films that grossed nothing?\n",
        "\n",
        "- 512 films made $0 in the US.\n",
        "\n",
        "On the first try of getting the top 5 list of zero-grossing films with the highest budget, we get the following: \"Singularity\", \"Aquaman\", \"A Wrinkle in Time\", \"Amusement Park\" and \"Don Gato, el inicio de la pandilla\". However, all the films except \"Don Gato, el inicio de la pandilla\" were released after this dataset was scraped (May 2018), and therefore their revenue could not have been known at the time. A good example is Aquaman, which according to [wikipedia](https://en.wikipedia.org/wiki/Aquaman_(film)#:~:text=While%20the%20film%20received%20mixed,grossing%20film%20of%20all%20time.) was first released in November 2018, _\"grossed $1.152 billion worldwide, making it the highest-grossing DCEU film, the highest-grossing film based on a DC Comics character, the fifth-highest-grossing film of 2018, and the 20th highest-grossing film of all time.\"_"
      ]
    },
    {
      "cell_type": "code",
      "execution_count": 16,
      "metadata": {},
      "outputs": [
        {
          "name": "stdout",
          "output_type": "stream",
          "text": [
            "(512, 7)\n"
          ]
        },
        {
          "data": {
            "text/html": [
              "<div>\n",
              "<style scoped>\n",
              "    .dataframe tbody tr th:only-of-type {\n",
              "        vertical-align: middle;\n",
              "    }\n",
              "\n",
              "    .dataframe tbody tr th {\n",
              "        vertical-align: top;\n",
              "    }\n",
              "\n",
              "    .dataframe thead th {\n",
              "        text-align: right;\n",
              "    }\n",
              "</style>\n",
              "<table border=\"1\" class=\"dataframe\">\n",
              "  <thead>\n",
              "    <tr style=\"text-align: right;\">\n",
              "      <th></th>\n",
              "      <th>Rank</th>\n",
              "      <th>Release_Date</th>\n",
              "      <th>Movie_Title</th>\n",
              "      <th>USD_Production_Budget</th>\n",
              "      <th>USD_Worldwide_Gross</th>\n",
              "      <th>USD_Domestic_Gross</th>\n",
              "      <th>USD_Profit</th>\n",
              "    </tr>\n",
              "  </thead>\n",
              "  <tbody>\n",
              "    <tr>\n",
              "      <th>1</th>\n",
              "      <td>5140</td>\n",
              "      <td>1916-05-09</td>\n",
              "      <td>Intolerance</td>\n",
              "      <td>385907</td>\n",
              "      <td>0</td>\n",
              "      <td>0</td>\n",
              "      <td>-385907</td>\n",
              "    </tr>\n",
              "    <tr>\n",
              "      <th>6</th>\n",
              "      <td>4630</td>\n",
              "      <td>1927-12-08</td>\n",
              "      <td>Wings</td>\n",
              "      <td>2000000</td>\n",
              "      <td>0</td>\n",
              "      <td>0</td>\n",
              "      <td>-2000000</td>\n",
              "    </tr>\n",
              "  </tbody>\n",
              "</table>\n",
              "</div>"
            ],
            "text/plain": [
              "   Rank Release_Date  Movie_Title  USD_Production_Budget  USD_Worldwide_Gross  \\\n",
              "1  5140   1916-05-09  Intolerance                 385907                    0   \n",
              "6  4630   1927-12-08        Wings                2000000                    0   \n",
              "\n",
              "   USD_Domestic_Gross  USD_Profit  \n",
              "1                   0     -385907  \n",
              "6                   0    -2000000  "
            ]
          },
          "execution_count": 16,
          "metadata": {},
          "output_type": "execute_result"
        }
      ],
      "source": [
        "zero_rev_films = data[data[\"USD_Domestic_Gross\"] == 0]\n",
        "print(zero_rev_films.shape)\n",
        "zero_rev_films[:2]"
      ]
    },
    {
      "cell_type": "code",
      "execution_count": 17,
      "metadata": {},
      "outputs": [
        {
          "data": {
            "text/html": [
              "<div>\n",
              "<style scoped>\n",
              "    .dataframe tbody tr th:only-of-type {\n",
              "        vertical-align: middle;\n",
              "    }\n",
              "\n",
              "    .dataframe tbody tr th {\n",
              "        vertical-align: top;\n",
              "    }\n",
              "\n",
              "    .dataframe thead th {\n",
              "        text-align: right;\n",
              "    }\n",
              "</style>\n",
              "<table border=\"1\" class=\"dataframe\">\n",
              "  <thead>\n",
              "    <tr style=\"text-align: right;\">\n",
              "      <th></th>\n",
              "      <th>Rank</th>\n",
              "      <th>Release_Date</th>\n",
              "      <th>Movie_Title</th>\n",
              "      <th>USD_Production_Budget</th>\n",
              "      <th>USD_Worldwide_Gross</th>\n",
              "      <th>USD_Domestic_Gross</th>\n",
              "      <th>USD_Profit</th>\n",
              "    </tr>\n",
              "  </thead>\n",
              "  <tbody>\n",
              "    <tr>\n",
              "      <th>5388</th>\n",
              "      <td>96</td>\n",
              "      <td>2020-12-31</td>\n",
              "      <td>Singularity</td>\n",
              "      <td>175000000</td>\n",
              "      <td>0</td>\n",
              "      <td>0</td>\n",
              "      <td>-175000000</td>\n",
              "    </tr>\n",
              "    <tr>\n",
              "      <th>5387</th>\n",
              "      <td>126</td>\n",
              "      <td>2018-12-18</td>\n",
              "      <td>Aquaman</td>\n",
              "      <td>160000000</td>\n",
              "      <td>0</td>\n",
              "      <td>0</td>\n",
              "      <td>-160000000</td>\n",
              "    </tr>\n",
              "    <tr>\n",
              "      <th>5384</th>\n",
              "      <td>321</td>\n",
              "      <td>2018-09-03</td>\n",
              "      <td>A Wrinkle in Time</td>\n",
              "      <td>103000000</td>\n",
              "      <td>0</td>\n",
              "      <td>0</td>\n",
              "      <td>-103000000</td>\n",
              "    </tr>\n",
              "    <tr>\n",
              "      <th>5385</th>\n",
              "      <td>366</td>\n",
              "      <td>2018-10-08</td>\n",
              "      <td>Amusement Park</td>\n",
              "      <td>100000000</td>\n",
              "      <td>0</td>\n",
              "      <td>0</td>\n",
              "      <td>-100000000</td>\n",
              "    </tr>\n",
              "    <tr>\n",
              "      <th>5090</th>\n",
              "      <td>556</td>\n",
              "      <td>2015-12-31</td>\n",
              "      <td>Don Gato, el inicio de la pandilla</td>\n",
              "      <td>80000000</td>\n",
              "      <td>4547660</td>\n",
              "      <td>0</td>\n",
              "      <td>-75452340</td>\n",
              "    </tr>\n",
              "  </tbody>\n",
              "</table>\n",
              "</div>"
            ],
            "text/plain": [
              "      Rank Release_Date                         Movie_Title  \\\n",
              "5388    96   2020-12-31                         Singularity   \n",
              "5387   126   2018-12-18                             Aquaman   \n",
              "5384   321   2018-09-03                   A Wrinkle in Time   \n",
              "5385   366   2018-10-08                      Amusement Park   \n",
              "5090   556   2015-12-31  Don Gato, el inicio de la pandilla   \n",
              "\n",
              "      USD_Production_Budget  USD_Worldwide_Gross  USD_Domestic_Gross  \\\n",
              "5388              175000000                    0                   0   \n",
              "5387              160000000                    0                   0   \n",
              "5384              103000000                    0                   0   \n",
              "5385              100000000                    0                   0   \n",
              "5090               80000000              4547660                   0   \n",
              "\n",
              "      USD_Profit  \n",
              "5388  -175000000  \n",
              "5387  -160000000  \n",
              "5384  -103000000  \n",
              "5385  -100000000  \n",
              "5090   -75452340  "
            ]
          },
          "execution_count": 17,
          "metadata": {},
          "output_type": "execute_result"
        }
      ],
      "source": [
        "zero_rev_films.sort_values(\"USD_Production_Budget\", ascending=False)[:5]"
      ]
    },
    {
      "cell_type": "markdown",
      "metadata": {},
      "source": [
        "To take the release date into account, we must at least exclude films released after our data was collected (May 1st 2018). Furthermore, we must bear in mind that it might not be meaningfull to compare revenue for films released close up to May 2018 with much older films."
      ]
    },
    {
      "cell_type": "code",
      "execution_count": 18,
      "metadata": {},
      "outputs": [
        {
          "name": "stdout",
          "output_type": "stream",
          "text": [
            "(505, 7)\n"
          ]
        },
        {
          "data": {
            "text/html": [
              "<div>\n",
              "<style scoped>\n",
              "    .dataframe tbody tr th:only-of-type {\n",
              "        vertical-align: middle;\n",
              "    }\n",
              "\n",
              "    .dataframe tbody tr th {\n",
              "        vertical-align: top;\n",
              "    }\n",
              "\n",
              "    .dataframe thead th {\n",
              "        text-align: right;\n",
              "    }\n",
              "</style>\n",
              "<table border=\"1\" class=\"dataframe\">\n",
              "  <thead>\n",
              "    <tr style=\"text-align: right;\">\n",
              "      <th></th>\n",
              "      <th>Rank</th>\n",
              "      <th>Release_Date</th>\n",
              "      <th>Movie_Title</th>\n",
              "      <th>USD_Production_Budget</th>\n",
              "      <th>USD_Worldwide_Gross</th>\n",
              "      <th>USD_Domestic_Gross</th>\n",
              "      <th>USD_Profit</th>\n",
              "    </tr>\n",
              "  </thead>\n",
              "  <tbody>\n",
              "    <tr>\n",
              "      <th>1</th>\n",
              "      <td>5140</td>\n",
              "      <td>1916-05-09</td>\n",
              "      <td>Intolerance</td>\n",
              "      <td>385907</td>\n",
              "      <td>0</td>\n",
              "      <td>0</td>\n",
              "      <td>-385907</td>\n",
              "    </tr>\n",
              "    <tr>\n",
              "      <th>6</th>\n",
              "      <td>4630</td>\n",
              "      <td>1927-12-08</td>\n",
              "      <td>Wings</td>\n",
              "      <td>2000000</td>\n",
              "      <td>0</td>\n",
              "      <td>0</td>\n",
              "      <td>-2000000</td>\n",
              "    </tr>\n",
              "  </tbody>\n",
              "</table>\n",
              "</div>"
            ],
            "text/plain": [
              "   Rank Release_Date  Movie_Title  USD_Production_Budget  USD_Worldwide_Gross  \\\n",
              "1  5140   1916-05-09  Intolerance                 385907                    0   \n",
              "6  4630   1927-12-08        Wings                2000000                    0   \n",
              "\n",
              "   USD_Domestic_Gross  USD_Profit  \n",
              "1                   0     -385907  \n",
              "6                   0    -2000000  "
            ]
          },
          "execution_count": 18,
          "metadata": {},
          "output_type": "execute_result"
        }
      ],
      "source": [
        "zero_rev_films2 = data.loc[\n",
        "    (data[\"USD_Domestic_Gross\"] == 0) &\n",
        "    (data[\"Release_Date\"] < \"2018-05-01\")\n",
        "]\n",
        "print(zero_rev_films2.shape)\n",
        "zero_rev_films2[:2]"
      ]
    },
    {
      "cell_type": "code",
      "execution_count": 19,
      "metadata": {},
      "outputs": [
        {
          "data": {
            "text/html": [
              "<div>\n",
              "<style scoped>\n",
              "    .dataframe tbody tr th:only-of-type {\n",
              "        vertical-align: middle;\n",
              "    }\n",
              "\n",
              "    .dataframe tbody tr th {\n",
              "        vertical-align: top;\n",
              "    }\n",
              "\n",
              "    .dataframe thead th {\n",
              "        text-align: right;\n",
              "    }\n",
              "</style>\n",
              "<table border=\"1\" class=\"dataframe\">\n",
              "  <thead>\n",
              "    <tr style=\"text-align: right;\">\n",
              "      <th></th>\n",
              "      <th>Rank</th>\n",
              "      <th>Release_Date</th>\n",
              "      <th>Movie_Title</th>\n",
              "      <th>USD_Production_Budget</th>\n",
              "      <th>USD_Worldwide_Gross</th>\n",
              "      <th>USD_Domestic_Gross</th>\n",
              "      <th>USD_Profit</th>\n",
              "    </tr>\n",
              "  </thead>\n",
              "  <tbody>\n",
              "    <tr>\n",
              "      <th>5090</th>\n",
              "      <td>556</td>\n",
              "      <td>2015-12-31</td>\n",
              "      <td>Don Gato, el inicio de la pandilla</td>\n",
              "      <td>80000000</td>\n",
              "      <td>4547660</td>\n",
              "      <td>0</td>\n",
              "      <td>-75452340</td>\n",
              "    </tr>\n",
              "    <tr>\n",
              "      <th>4294</th>\n",
              "      <td>566</td>\n",
              "      <td>2012-12-31</td>\n",
              "      <td>Astérix et Obélix: Au service de Sa Majesté</td>\n",
              "      <td>77600000</td>\n",
              "      <td>60680125</td>\n",
              "      <td>0</td>\n",
              "      <td>-16919875</td>\n",
              "    </tr>\n",
              "    <tr>\n",
              "      <th>5338</th>\n",
              "      <td>879</td>\n",
              "      <td>2017-04-08</td>\n",
              "      <td>The Dark Tower</td>\n",
              "      <td>60000000</td>\n",
              "      <td>0</td>\n",
              "      <td>0</td>\n",
              "      <td>-60000000</td>\n",
              "    </tr>\n",
              "    <tr>\n",
              "      <th>5058</th>\n",
              "      <td>880</td>\n",
              "      <td>2015-11-12</td>\n",
              "      <td>The Ridiculous 6</td>\n",
              "      <td>60000000</td>\n",
              "      <td>0</td>\n",
              "      <td>0</td>\n",
              "      <td>-60000000</td>\n",
              "    </tr>\n",
              "    <tr>\n",
              "      <th>4295</th>\n",
              "      <td>1230</td>\n",
              "      <td>2012-12-31</td>\n",
              "      <td>Foodfight!</td>\n",
              "      <td>45000000</td>\n",
              "      <td>73706</td>\n",
              "      <td>0</td>\n",
              "      <td>-44926294</td>\n",
              "    </tr>\n",
              "  </tbody>\n",
              "</table>\n",
              "</div>"
            ],
            "text/plain": [
              "      Rank Release_Date                                   Movie_Title  \\\n",
              "5090   556   2015-12-31            Don Gato, el inicio de la pandilla   \n",
              "4294   566   2012-12-31  Astérix et Obélix: Au service de Sa Majesté    \n",
              "5338   879   2017-04-08                                The Dark Tower   \n",
              "5058   880   2015-11-12                              The Ridiculous 6   \n",
              "4295  1230   2012-12-31                                    Foodfight!   \n",
              "\n",
              "      USD_Production_Budget  USD_Worldwide_Gross  USD_Domestic_Gross  \\\n",
              "5090               80000000              4547660                   0   \n",
              "4294               77600000             60680125                   0   \n",
              "5338               60000000                    0                   0   \n",
              "5058               60000000                    0                   0   \n",
              "4295               45000000                73706                   0   \n",
              "\n",
              "      USD_Profit  \n",
              "5090   -75452340  \n",
              "4294   -16919875  \n",
              "5338   -60000000  \n",
              "5058   -60000000  \n",
              "4295   -44926294  "
            ]
          },
          "execution_count": 19,
          "metadata": {},
          "output_type": "execute_result"
        }
      ],
      "source": [
        "zero_rev_films2.sort_values(\"USD_Production_Budget\", ascending=False)[:5]"
      ]
    },
    {
      "cell_type": "markdown",
      "metadata": {},
      "source": [
        "\"Don Gato, el inicio de la pandilla\" is Spanish (I think), and \"Astérix et Obélix: Au service de Sa Majesté\" is French, and we can assume that they were released in French and Spanish speaking countries respectively, not making a single dolar in the US. That make sense.\n",
        "\n",
        "However, at [the-numbers.com/movie/Dark-Tower](https://www.the-numbers.com/movie/Dark-Tower-The#tab=summary), today - January 5th, 2024, we see that \"The Dark Tower (2017)\" has a domestic gross of $50,701,325 and a Worldwide gross of $113,461,527, versus $0 and $0 in our dataset. Under \"Summary -> Metrics\" it is stated that $19,153,698 (37.8% of total gross) were made during the opening weekend. Given that the movie was released more than a year prior to the data collected for our dataset, it would be reasonable to expect that a portion of this amount was included in the figures at the time of the data collection 🤔. However, I do not expect a 100% accuracy from a source like the-numbers.com, as this highly depends on how and how often the figures are updated by the website, released/revealed by the movie producers and how accessable that information is. My classmate Jeffrey have done some digging and found out that \"some of the movies did not have traditional releases in Theaters, rather, they were released on streaming platforms like Netflix for instance.\" ([link to comment](https://www.udemy.com/course/100-days-of-code/learn/lecture/22756689#questions/20911764)  - require that you sign up and pay for the course). It is possible that revenue from streming platforms were not a part of the-numbers.com numbers in 2018, which could explain the discrepancy for movies released by or directly on streaming platforms.\n",
        "\n",
        "If we look at the movie [\"Foodfight!\"](https://www.the-numbers.com/movie/Foodfight#tab=summary) today, we see that \"Domestic Box Office\" (=\"USD_Domestic_Gross\" in our dataset) equals \"n/a\", and \"Worldwide Box Office\" (\"USD_Worldwide_Gross\" in our dataset) equals $120,323. There might have been changes since the data was collected, or \"n/a\" values might have been interpreted (coded) as 0, which would be misleading because it is in fact a missing value. Missing values for worldwide and domestic gross is also the case for [\"The Ridiculous 6 (2015)\"](https://www.the-numbers.com/movie/Ridiculous-6-The#tab=summary), which was released by Netflix.\n",
        "\n",
        "These findings indicate that we can not distinguish between movies that made $0 and movies with unknown revenue (missing values). Therefore I would argue that the dataset is not a god basis for saying more about zero revenue movies. In what follows, we should remember that earnings from streaming services are not necessarily included in the figures."
      ]
    },
    {
      "cell_type": "markdown",
      "metadata": {
        "id": "mY8SAwI0x73b"
      },
      "source": [
        "**Challenge**: How many films grossed $0 worldwide? What are the highest budget films that had no revenue internationally?\n",
        "\n",
        "- 350.  (If excluding films from before 2018-01-01)\n",
        "- The 5 highest budget films with no revenue internationally are listed below"
      ]
    },
    {
      "cell_type": "code",
      "execution_count": 20,
      "metadata": {
        "id": "VpfocexxTXym"
      },
      "outputs": [
        {
          "name": "stdout",
          "output_type": "stream",
          "text": [
            "(350, 7)\n"
          ]
        },
        {
          "data": {
            "text/html": [
              "<div>\n",
              "<style scoped>\n",
              "    .dataframe tbody tr th:only-of-type {\n",
              "        vertical-align: middle;\n",
              "    }\n",
              "\n",
              "    .dataframe tbody tr th {\n",
              "        vertical-align: top;\n",
              "    }\n",
              "\n",
              "    .dataframe thead th {\n",
              "        text-align: right;\n",
              "    }\n",
              "</style>\n",
              "<table border=\"1\" class=\"dataframe\">\n",
              "  <thead>\n",
              "    <tr style=\"text-align: right;\">\n",
              "      <th></th>\n",
              "      <th>Rank</th>\n",
              "      <th>Release_Date</th>\n",
              "      <th>Movie_Title</th>\n",
              "      <th>USD_Production_Budget</th>\n",
              "      <th>USD_Worldwide_Gross</th>\n",
              "      <th>USD_Domestic_Gross</th>\n",
              "      <th>USD_Profit</th>\n",
              "    </tr>\n",
              "  </thead>\n",
              "  <tbody>\n",
              "    <tr>\n",
              "      <th>5058</th>\n",
              "      <td>880</td>\n",
              "      <td>2015-11-12</td>\n",
              "      <td>The Ridiculous 6</td>\n",
              "      <td>60000000</td>\n",
              "      <td>0</td>\n",
              "      <td>0</td>\n",
              "      <td>-60000000</td>\n",
              "    </tr>\n",
              "    <tr>\n",
              "      <th>5338</th>\n",
              "      <td>879</td>\n",
              "      <td>2017-04-08</td>\n",
              "      <td>The Dark Tower</td>\n",
              "      <td>60000000</td>\n",
              "      <td>0</td>\n",
              "      <td>0</td>\n",
              "      <td>-60000000</td>\n",
              "    </tr>\n",
              "    <tr>\n",
              "      <th>5092</th>\n",
              "      <td>1435</td>\n",
              "      <td>2015-12-31</td>\n",
              "      <td>The Crow</td>\n",
              "      <td>40000000</td>\n",
              "      <td>0</td>\n",
              "      <td>0</td>\n",
              "      <td>-40000000</td>\n",
              "    </tr>\n",
              "    <tr>\n",
              "      <th>3300</th>\n",
              "      <td>1631</td>\n",
              "      <td>2008-12-31</td>\n",
              "      <td>Black Water Transit</td>\n",
              "      <td>35000000</td>\n",
              "      <td>0</td>\n",
              "      <td>0</td>\n",
              "      <td>-35000000</td>\n",
              "    </tr>\n",
              "    <tr>\n",
              "      <th>5045</th>\n",
              "      <td>1656</td>\n",
              "      <td>2015-10-30</td>\n",
              "      <td>Freaks of Nature</td>\n",
              "      <td>33000000</td>\n",
              "      <td>0</td>\n",
              "      <td>0</td>\n",
              "      <td>-33000000</td>\n",
              "    </tr>\n",
              "  </tbody>\n",
              "</table>\n",
              "</div>"
            ],
            "text/plain": [
              "      Rank Release_Date          Movie_Title  USD_Production_Budget  \\\n",
              "5058   880   2015-11-12     The Ridiculous 6               60000000   \n",
              "5338   879   2017-04-08       The Dark Tower               60000000   \n",
              "5092  1435   2015-12-31             The Crow               40000000   \n",
              "3300  1631   2008-12-31  Black Water Transit               35000000   \n",
              "5045  1656   2015-10-30     Freaks of Nature               33000000   \n",
              "\n",
              "      USD_Worldwide_Gross  USD_Domestic_Gross  USD_Profit  \n",
              "5058                    0                   0   -60000000  \n",
              "5338                    0                   0   -60000000  \n",
              "5092                    0                   0   -40000000  \n",
              "3300                    0                   0   -35000000  \n",
              "5045                    0                   0   -33000000  "
            ]
          },
          "execution_count": 20,
          "metadata": {},
          "output_type": "execute_result"
        }
      ],
      "source": [
        "df_x = data.loc[(data[\"USD_Worldwide_Gross\"] == 0) &\n",
        "            (data[\"Release_Date\"] < \"2018-01-01\")\n",
        "            ].sort_values(\"USD_Production_Budget\", ascending=False)\n",
        "print(df_x.shape)\n",
        "df_x[:5]"
      ]
    },
    {
      "cell_type": "markdown",
      "metadata": {
        "id": "eXUDzWpeyV2f"
      },
      "source": [
        "### Filtering on Multiple Conditions"
      ]
    },
    {
      "cell_type": "markdown",
      "metadata": {
        "id": "YruPjqLVPuiB"
      },
      "source": [
        "**Challenge**: Use the [`.query()` function](https://pandas.pydata.org/pandas-docs/stable/reference/api/pandas.DataFrame.query.html) to create a subset for international releases that had some worldwide gross revenue, but made zero revenue in the United States."
      ]
    },
    {
      "cell_type": "code",
      "execution_count": 21,
      "metadata": {
        "id": "Xvu-jTCwTavg"
      },
      "outputs": [
        {
          "data": {
            "text/html": [
              "<div>\n",
              "<style scoped>\n",
              "    .dataframe tbody tr th:only-of-type {\n",
              "        vertical-align: middle;\n",
              "    }\n",
              "\n",
              "    .dataframe tbody tr th {\n",
              "        vertical-align: top;\n",
              "    }\n",
              "\n",
              "    .dataframe thead th {\n",
              "        text-align: right;\n",
              "    }\n",
              "</style>\n",
              "<table border=\"1\" class=\"dataframe\">\n",
              "  <thead>\n",
              "    <tr style=\"text-align: right;\">\n",
              "      <th></th>\n",
              "      <th>Rank</th>\n",
              "      <th>Release_Date</th>\n",
              "      <th>Movie_Title</th>\n",
              "      <th>USD_Production_Budget</th>\n",
              "      <th>USD_Worldwide_Gross</th>\n",
              "      <th>USD_Domestic_Gross</th>\n",
              "      <th>USD_Profit</th>\n",
              "    </tr>\n",
              "  </thead>\n",
              "  <tbody>\n",
              "    <tr>\n",
              "      <th>71</th>\n",
              "      <td>4310</td>\n",
              "      <td>1956-02-16</td>\n",
              "      <td>Carousel</td>\n",
              "      <td>3380000</td>\n",
              "      <td>3220</td>\n",
              "      <td>0</td>\n",
              "      <td>-3376780</td>\n",
              "    </tr>\n",
              "    <tr>\n",
              "      <th>1579</th>\n",
              "      <td>5087</td>\n",
              "      <td>2001-02-11</td>\n",
              "      <td>Everything Put Together</td>\n",
              "      <td>500000</td>\n",
              "      <td>7890</td>\n",
              "      <td>0</td>\n",
              "      <td>-492110</td>\n",
              "    </tr>\n",
              "    <tr>\n",
              "      <th>1744</th>\n",
              "      <td>3695</td>\n",
              "      <td>2001-12-31</td>\n",
              "      <td>The Hole</td>\n",
              "      <td>7500000</td>\n",
              "      <td>10834406</td>\n",
              "      <td>0</td>\n",
              "      <td>3334406</td>\n",
              "    </tr>\n",
              "    <tr>\n",
              "      <th>2155</th>\n",
              "      <td>4236</td>\n",
              "      <td>2003-12-31</td>\n",
              "      <td>Nothing</td>\n",
              "      <td>4000000</td>\n",
              "      <td>63180</td>\n",
              "      <td>0</td>\n",
              "      <td>-3936820</td>\n",
              "    </tr>\n",
              "    <tr>\n",
              "      <th>2203</th>\n",
              "      <td>2513</td>\n",
              "      <td>2004-03-31</td>\n",
              "      <td>The Touch</td>\n",
              "      <td>20000000</td>\n",
              "      <td>5918742</td>\n",
              "      <td>0</td>\n",
              "      <td>-14081258</td>\n",
              "    </tr>\n",
              "    <tr>\n",
              "      <th>...</th>\n",
              "      <td>...</td>\n",
              "      <td>...</td>\n",
              "      <td>...</td>\n",
              "      <td>...</td>\n",
              "      <td>...</td>\n",
              "      <td>...</td>\n",
              "      <td>...</td>\n",
              "    </tr>\n",
              "    <tr>\n",
              "      <th>5340</th>\n",
              "      <td>1506</td>\n",
              "      <td>2017-04-14</td>\n",
              "      <td>Queen of the Desert</td>\n",
              "      <td>36000000</td>\n",
              "      <td>1480089</td>\n",
              "      <td>0</td>\n",
              "      <td>-34519911</td>\n",
              "    </tr>\n",
              "    <tr>\n",
              "      <th>5348</th>\n",
              "      <td>2225</td>\n",
              "      <td>2017-05-05</td>\n",
              "      <td>Chāi dàn zhuānjiā</td>\n",
              "      <td>23000000</td>\n",
              "      <td>58807172</td>\n",
              "      <td>0</td>\n",
              "      <td>35807172</td>\n",
              "    </tr>\n",
              "    <tr>\n",
              "      <th>5360</th>\n",
              "      <td>4832</td>\n",
              "      <td>2017-07-03</td>\n",
              "      <td>Departure</td>\n",
              "      <td>1100000</td>\n",
              "      <td>27561</td>\n",
              "      <td>0</td>\n",
              "      <td>-1072439</td>\n",
              "    </tr>\n",
              "    <tr>\n",
              "      <th>5372</th>\n",
              "      <td>1856</td>\n",
              "      <td>2017-08-25</td>\n",
              "      <td>Ballerina</td>\n",
              "      <td>30000000</td>\n",
              "      <td>48048527</td>\n",
              "      <td>0</td>\n",
              "      <td>18048527</td>\n",
              "    </tr>\n",
              "    <tr>\n",
              "      <th>5374</th>\n",
              "      <td>4237</td>\n",
              "      <td>2017-08-25</td>\n",
              "      <td>Polina danser sa vie</td>\n",
              "      <td>4000000</td>\n",
              "      <td>36630</td>\n",
              "      <td>0</td>\n",
              "      <td>-3963370</td>\n",
              "    </tr>\n",
              "  </tbody>\n",
              "</table>\n",
              "<p>155 rows × 7 columns</p>\n",
              "</div>"
            ],
            "text/plain": [
              "      Rank Release_Date              Movie_Title  USD_Production_Budget  \\\n",
              "71    4310   1956-02-16                 Carousel                3380000   \n",
              "1579  5087   2001-02-11  Everything Put Together                 500000   \n",
              "1744  3695   2001-12-31                 The Hole                7500000   \n",
              "2155  4236   2003-12-31                  Nothing                4000000   \n",
              "2203  2513   2004-03-31                The Touch               20000000   \n",
              "...    ...          ...                      ...                    ...   \n",
              "5340  1506   2017-04-14      Queen of the Desert               36000000   \n",
              "5348  2225   2017-05-05        Chāi dàn zhuānjiā               23000000   \n",
              "5360  4832   2017-07-03                Departure                1100000   \n",
              "5372  1856   2017-08-25                Ballerina               30000000   \n",
              "5374  4237   2017-08-25     Polina danser sa vie                4000000   \n",
              "\n",
              "      USD_Worldwide_Gross  USD_Domestic_Gross  USD_Profit  \n",
              "71                   3220                   0    -3376780  \n",
              "1579                 7890                   0     -492110  \n",
              "1744             10834406                   0     3334406  \n",
              "2155                63180                   0    -3936820  \n",
              "2203              5918742                   0   -14081258  \n",
              "...                   ...                 ...         ...  \n",
              "5340              1480089                   0   -34519911  \n",
              "5348             58807172                   0    35807172  \n",
              "5360                27561                   0    -1072439  \n",
              "5372             48048527                   0    18048527  \n",
              "5374                36630                   0    -3963370  \n",
              "\n",
              "[155 rows x 7 columns]"
            ]
          },
          "execution_count": 21,
          "metadata": {},
          "output_type": "execute_result"
        }
      ],
      "source": [
        "data.query('USD_Domestic_Gross == 0 & USD_Worldwide_Gross != 0 & Release_Date < \"2018-01-01\"')"
      ]
    },
    {
      "cell_type": "markdown",
      "metadata": {
        "id": "EM-FTE4OZhfr"
      },
      "source": [
        "### Unreleased Films\n",
        "\n",
        "**Challenge**:\n",
        "* **Identify which films were not released yet as of the time of data collection (May 1st, 2018).** See df_not_released\n",
        "* **How many films are included in the dataset that have not yet had a chance to be screened in the box office?** 7\n",
        "* **Create another DataFrame called ``data_clean`` that does not include these films.**"
      ]
    },
    {
      "cell_type": "code",
      "execution_count": 22,
      "metadata": {
        "id": "PIukYVY9Zpxu"
      },
      "outputs": [],
      "source": [
        "# Date of Data Collection\n",
        "scrape_date = pd.Timestamp('2018-5-1')"
      ]
    },
    {
      "cell_type": "code",
      "execution_count": 23,
      "metadata": {
        "id": "OAI0VsM3Tc6v"
      },
      "outputs": [
        {
          "name": "stdout",
          "output_type": "stream",
          "text": [
            "(7, 7)\n"
          ]
        },
        {
          "data": {
            "text/html": [
              "<div>\n",
              "<style scoped>\n",
              "    .dataframe tbody tr th:only-of-type {\n",
              "        vertical-align: middle;\n",
              "    }\n",
              "\n",
              "    .dataframe tbody tr th {\n",
              "        vertical-align: top;\n",
              "    }\n",
              "\n",
              "    .dataframe thead th {\n",
              "        text-align: right;\n",
              "    }\n",
              "</style>\n",
              "<table border=\"1\" class=\"dataframe\">\n",
              "  <thead>\n",
              "    <tr style=\"text-align: right;\">\n",
              "      <th></th>\n",
              "      <th>Rank</th>\n",
              "      <th>Release_Date</th>\n",
              "      <th>Movie_Title</th>\n",
              "      <th>USD_Production_Budget</th>\n",
              "      <th>USD_Worldwide_Gross</th>\n",
              "      <th>USD_Domestic_Gross</th>\n",
              "      <th>USD_Profit</th>\n",
              "    </tr>\n",
              "  </thead>\n",
              "  <tbody>\n",
              "    <tr>\n",
              "      <th>5384</th>\n",
              "      <td>321</td>\n",
              "      <td>2018-09-03</td>\n",
              "      <td>A Wrinkle in Time</td>\n",
              "      <td>103000000</td>\n",
              "      <td>0</td>\n",
              "      <td>0</td>\n",
              "      <td>-103000000</td>\n",
              "    </tr>\n",
              "    <tr>\n",
              "      <th>5385</th>\n",
              "      <td>366</td>\n",
              "      <td>2018-10-08</td>\n",
              "      <td>Amusement Park</td>\n",
              "      <td>100000000</td>\n",
              "      <td>0</td>\n",
              "      <td>0</td>\n",
              "      <td>-100000000</td>\n",
              "    </tr>\n",
              "    <tr>\n",
              "      <th>5386</th>\n",
              "      <td>2950</td>\n",
              "      <td>2018-10-08</td>\n",
              "      <td>Meg</td>\n",
              "      <td>15000000</td>\n",
              "      <td>0</td>\n",
              "      <td>0</td>\n",
              "      <td>-15000000</td>\n",
              "    </tr>\n",
              "    <tr>\n",
              "      <th>5387</th>\n",
              "      <td>126</td>\n",
              "      <td>2018-12-18</td>\n",
              "      <td>Aquaman</td>\n",
              "      <td>160000000</td>\n",
              "      <td>0</td>\n",
              "      <td>0</td>\n",
              "      <td>-160000000</td>\n",
              "    </tr>\n",
              "    <tr>\n",
              "      <th>5388</th>\n",
              "      <td>96</td>\n",
              "      <td>2020-12-31</td>\n",
              "      <td>Singularity</td>\n",
              "      <td>175000000</td>\n",
              "      <td>0</td>\n",
              "      <td>0</td>\n",
              "      <td>-175000000</td>\n",
              "    </tr>\n",
              "    <tr>\n",
              "      <th>5389</th>\n",
              "      <td>1119</td>\n",
              "      <td>2020-12-31</td>\n",
              "      <td>Hannibal the Conqueror</td>\n",
              "      <td>50000000</td>\n",
              "      <td>0</td>\n",
              "      <td>0</td>\n",
              "      <td>-50000000</td>\n",
              "    </tr>\n",
              "    <tr>\n",
              "      <th>5390</th>\n",
              "      <td>2517</td>\n",
              "      <td>2020-12-31</td>\n",
              "      <td>Story of Bonnie and Clyde, The</td>\n",
              "      <td>20000000</td>\n",
              "      <td>0</td>\n",
              "      <td>0</td>\n",
              "      <td>-20000000</td>\n",
              "    </tr>\n",
              "  </tbody>\n",
              "</table>\n",
              "</div>"
            ],
            "text/plain": [
              "      Rank Release_Date                     Movie_Title  \\\n",
              "5384   321   2018-09-03               A Wrinkle in Time   \n",
              "5385   366   2018-10-08                  Amusement Park   \n",
              "5386  2950   2018-10-08                             Meg   \n",
              "5387   126   2018-12-18                         Aquaman   \n",
              "5388    96   2020-12-31                     Singularity   \n",
              "5389  1119   2020-12-31          Hannibal the Conqueror   \n",
              "5390  2517   2020-12-31  Story of Bonnie and Clyde, The   \n",
              "\n",
              "      USD_Production_Budget  USD_Worldwide_Gross  USD_Domestic_Gross  \\\n",
              "5384              103000000                    0                   0   \n",
              "5385              100000000                    0                   0   \n",
              "5386               15000000                    0                   0   \n",
              "5387              160000000                    0                   0   \n",
              "5388              175000000                    0                   0   \n",
              "5389               50000000                    0                   0   \n",
              "5390               20000000                    0                   0   \n",
              "\n",
              "      USD_Profit  \n",
              "5384  -103000000  \n",
              "5385  -100000000  \n",
              "5386   -15000000  \n",
              "5387  -160000000  \n",
              "5388  -175000000  \n",
              "5389   -50000000  \n",
              "5390   -20000000  "
            ]
          },
          "execution_count": 23,
          "metadata": {},
          "output_type": "execute_result"
        }
      ],
      "source": [
        "df_not_released = data.query('Release_Date >= \"2018-05-01\"')\n",
        "print(df_not_released.shape)\n",
        "df_not_released"
      ]
    },
    {
      "cell_type": "code",
      "execution_count": 24,
      "metadata": {},
      "outputs": [
        {
          "data": {
            "text/html": [
              "<div>\n",
              "<style scoped>\n",
              "    .dataframe tbody tr th:only-of-type {\n",
              "        vertical-align: middle;\n",
              "    }\n",
              "\n",
              "    .dataframe tbody tr th {\n",
              "        vertical-align: top;\n",
              "    }\n",
              "\n",
              "    .dataframe thead th {\n",
              "        text-align: right;\n",
              "    }\n",
              "</style>\n",
              "<table border=\"1\" class=\"dataframe\">\n",
              "  <thead>\n",
              "    <tr style=\"text-align: right;\">\n",
              "      <th></th>\n",
              "      <th>Rank</th>\n",
              "      <th>Release_Date</th>\n",
              "      <th>Movie_Title</th>\n",
              "      <th>USD_Production_Budget</th>\n",
              "      <th>USD_Worldwide_Gross</th>\n",
              "      <th>USD_Domestic_Gross</th>\n",
              "      <th>USD_Profit</th>\n",
              "    </tr>\n",
              "  </thead>\n",
              "  <tbody>\n",
              "    <tr>\n",
              "      <th>0</th>\n",
              "      <td>5293</td>\n",
              "      <td>1915-08-02</td>\n",
              "      <td>The Birth of a Nation</td>\n",
              "      <td>110000</td>\n",
              "      <td>11000000</td>\n",
              "      <td>10000000</td>\n",
              "      <td>10890000</td>\n",
              "    </tr>\n",
              "    <tr>\n",
              "      <th>1</th>\n",
              "      <td>5140</td>\n",
              "      <td>1916-05-09</td>\n",
              "      <td>Intolerance</td>\n",
              "      <td>385907</td>\n",
              "      <td>0</td>\n",
              "      <td>0</td>\n",
              "      <td>-385907</td>\n",
              "    </tr>\n",
              "    <tr>\n",
              "      <th>2</th>\n",
              "      <td>5230</td>\n",
              "      <td>1916-12-24</td>\n",
              "      <td>20,000 Leagues Under the Sea</td>\n",
              "      <td>200000</td>\n",
              "      <td>8000000</td>\n",
              "      <td>8000000</td>\n",
              "      <td>7800000</td>\n",
              "    </tr>\n",
              "    <tr>\n",
              "      <th>3</th>\n",
              "      <td>5299</td>\n",
              "      <td>1920-09-17</td>\n",
              "      <td>Over the Hill to the Poorhouse</td>\n",
              "      <td>100000</td>\n",
              "      <td>3000000</td>\n",
              "      <td>3000000</td>\n",
              "      <td>2900000</td>\n",
              "    </tr>\n",
              "    <tr>\n",
              "      <th>4</th>\n",
              "      <td>5222</td>\n",
              "      <td>1925-01-01</td>\n",
              "      <td>The Big Parade</td>\n",
              "      <td>245000</td>\n",
              "      <td>22000000</td>\n",
              "      <td>11000000</td>\n",
              "      <td>21755000</td>\n",
              "    </tr>\n",
              "    <tr>\n",
              "      <th>...</th>\n",
              "      <td>...</td>\n",
              "      <td>...</td>\n",
              "      <td>...</td>\n",
              "      <td>...</td>\n",
              "      <td>...</td>\n",
              "      <td>...</td>\n",
              "      <td>...</td>\n",
              "    </tr>\n",
              "    <tr>\n",
              "      <th>5379</th>\n",
              "      <td>1295</td>\n",
              "      <td>2017-10-02</td>\n",
              "      <td>John Wick: Chapter Two</td>\n",
              "      <td>40000000</td>\n",
              "      <td>166893990</td>\n",
              "      <td>92029184</td>\n",
              "      <td>126893990</td>\n",
              "    </tr>\n",
              "    <tr>\n",
              "      <th>5380</th>\n",
              "      <td>70</td>\n",
              "      <td>2017-10-03</td>\n",
              "      <td>Kong: Skull Island</td>\n",
              "      <td>185000000</td>\n",
              "      <td>561137727</td>\n",
              "      <td>168052812</td>\n",
              "      <td>376137727</td>\n",
              "    </tr>\n",
              "    <tr>\n",
              "      <th>5381</th>\n",
              "      <td>94</td>\n",
              "      <td>2017-12-05</td>\n",
              "      <td>King Arthur: Legend of the Sword</td>\n",
              "      <td>175000000</td>\n",
              "      <td>140012608</td>\n",
              "      <td>39175066</td>\n",
              "      <td>-34987392</td>\n",
              "    </tr>\n",
              "    <tr>\n",
              "      <th>5382</th>\n",
              "      <td>1254</td>\n",
              "      <td>2017-12-05</td>\n",
              "      <td>Snatched</td>\n",
              "      <td>42000000</td>\n",
              "      <td>57850343</td>\n",
              "      <td>45850343</td>\n",
              "      <td>15850343</td>\n",
              "    </tr>\n",
              "    <tr>\n",
              "      <th>5383</th>\n",
              "      <td>2521</td>\n",
              "      <td>2017-12-31</td>\n",
              "      <td>The Thousand Miles</td>\n",
              "      <td>20000000</td>\n",
              "      <td>0</td>\n",
              "      <td>0</td>\n",
              "      <td>-20000000</td>\n",
              "    </tr>\n",
              "  </tbody>\n",
              "</table>\n",
              "<p>5384 rows × 7 columns</p>\n",
              "</div>"
            ],
            "text/plain": [
              "      Rank Release_Date                       Movie_Title  \\\n",
              "0     5293   1915-08-02             The Birth of a Nation   \n",
              "1     5140   1916-05-09                       Intolerance   \n",
              "2     5230   1916-12-24      20,000 Leagues Under the Sea   \n",
              "3     5299   1920-09-17    Over the Hill to the Poorhouse   \n",
              "4     5222   1925-01-01                    The Big Parade   \n",
              "...    ...          ...                               ...   \n",
              "5379  1295   2017-10-02            John Wick: Chapter Two   \n",
              "5380    70   2017-10-03                Kong: Skull Island   \n",
              "5381    94   2017-12-05  King Arthur: Legend of the Sword   \n",
              "5382  1254   2017-12-05                          Snatched   \n",
              "5383  2521   2017-12-31                The Thousand Miles   \n",
              "\n",
              "      USD_Production_Budget  USD_Worldwide_Gross  USD_Domestic_Gross  \\\n",
              "0                    110000             11000000            10000000   \n",
              "1                    385907                    0                   0   \n",
              "2                    200000              8000000             8000000   \n",
              "3                    100000              3000000             3000000   \n",
              "4                    245000             22000000            11000000   \n",
              "...                     ...                  ...                 ...   \n",
              "5379               40000000            166893990            92029184   \n",
              "5380              185000000            561137727           168052812   \n",
              "5381              175000000            140012608            39175066   \n",
              "5382               42000000             57850343            45850343   \n",
              "5383               20000000                    0                   0   \n",
              "\n",
              "      USD_Profit  \n",
              "0       10890000  \n",
              "1        -385907  \n",
              "2        7800000  \n",
              "3        2900000  \n",
              "4       21755000  \n",
              "...          ...  \n",
              "5379   126893990  \n",
              "5380   376137727  \n",
              "5381   -34987392  \n",
              "5382    15850343  \n",
              "5383   -20000000  \n",
              "\n",
              "[5384 rows x 7 columns]"
            ]
          },
          "execution_count": 24,
          "metadata": {},
          "output_type": "execute_result"
        }
      ],
      "source": [
        "data_clean = data.query('Release_Date <= @scrape_date')\n",
        "data_clean"
      ]
    },
    {
      "cell_type": "markdown",
      "metadata": {
        "id": "khrJcXlGZWZO"
      },
      "source": [
        "### Films that Lost Money\n",
        "\n",
        "**Challenge**: \n",
        "What is the percentage of films where the production costs exceeded the worldwide gross revenue? "
      ]
    },
    {
      "cell_type": "code",
      "execution_count": 25,
      "metadata": {
        "id": "7uW_U9StTgvZ"
      },
      "outputs": [
        {
          "name": "stdout",
          "output_type": "stream",
          "text": [
            "The percentage of films where the production costs exceeded the worldwide gross revenue is 37.3 %\n"
          ]
        }
      ],
      "source": [
        "print(\"The percentage of films where the production costs exceeded the worldwide gross revenue is \", end=\"\")\n",
        "print('{:,.1F}'.format(data_clean.query('USD_Profit < 0').size / data_clean.size * 100), '%')"
      ]
    },
    {
      "cell_type": "markdown",
      "metadata": {
        "id": "cfJUL3WwyiDy"
      },
      "source": [
        "# Seaborn for Data Viz: Bubble Charts"
      ]
    },
    {
      "cell_type": "code",
      "execution_count": 26,
      "metadata": {},
      "outputs": [
        {
          "data": {
            "text/html": [
              "<div>\n",
              "<style scoped>\n",
              "    .dataframe tbody tr th:only-of-type {\n",
              "        vertical-align: middle;\n",
              "    }\n",
              "\n",
              "    .dataframe tbody tr th {\n",
              "        vertical-align: top;\n",
              "    }\n",
              "\n",
              "    .dataframe thead th {\n",
              "        text-align: right;\n",
              "    }\n",
              "</style>\n",
              "<table border=\"1\" class=\"dataframe\">\n",
              "  <thead>\n",
              "    <tr style=\"text-align: right;\">\n",
              "      <th></th>\n",
              "      <th>Rank</th>\n",
              "      <th>Release_Date</th>\n",
              "      <th>Movie_Title</th>\n",
              "      <th>USD_Production_Budget</th>\n",
              "      <th>USD_Worldwide_Gross</th>\n",
              "      <th>USD_Domestic_Gross</th>\n",
              "      <th>USD_Profit</th>\n",
              "    </tr>\n",
              "  </thead>\n",
              "  <tbody>\n",
              "    <tr>\n",
              "      <th>0</th>\n",
              "      <td>5293</td>\n",
              "      <td>1915-08-02</td>\n",
              "      <td>The Birth of a Nation</td>\n",
              "      <td>110000</td>\n",
              "      <td>11000000</td>\n",
              "      <td>10000000</td>\n",
              "      <td>10890000</td>\n",
              "    </tr>\n",
              "    <tr>\n",
              "      <th>1</th>\n",
              "      <td>5140</td>\n",
              "      <td>1916-05-09</td>\n",
              "      <td>Intolerance</td>\n",
              "      <td>385907</td>\n",
              "      <td>0</td>\n",
              "      <td>0</td>\n",
              "      <td>-385907</td>\n",
              "    </tr>\n",
              "    <tr>\n",
              "      <th>2</th>\n",
              "      <td>5230</td>\n",
              "      <td>1916-12-24</td>\n",
              "      <td>20,000 Leagues Under the Sea</td>\n",
              "      <td>200000</td>\n",
              "      <td>8000000</td>\n",
              "      <td>8000000</td>\n",
              "      <td>7800000</td>\n",
              "    </tr>\n",
              "    <tr>\n",
              "      <th>3</th>\n",
              "      <td>5299</td>\n",
              "      <td>1920-09-17</td>\n",
              "      <td>Over the Hill to the Poorhouse</td>\n",
              "      <td>100000</td>\n",
              "      <td>3000000</td>\n",
              "      <td>3000000</td>\n",
              "      <td>2900000</td>\n",
              "    </tr>\n",
              "    <tr>\n",
              "      <th>4</th>\n",
              "      <td>5222</td>\n",
              "      <td>1925-01-01</td>\n",
              "      <td>The Big Parade</td>\n",
              "      <td>245000</td>\n",
              "      <td>22000000</td>\n",
              "      <td>11000000</td>\n",
              "      <td>21755000</td>\n",
              "    </tr>\n",
              "  </tbody>\n",
              "</table>\n",
              "</div>"
            ],
            "text/plain": [
              "   Rank Release_Date                     Movie_Title  USD_Production_Budget  \\\n",
              "0  5293   1915-08-02           The Birth of a Nation                 110000   \n",
              "1  5140   1916-05-09                     Intolerance                 385907   \n",
              "2  5230   1916-12-24    20,000 Leagues Under the Sea                 200000   \n",
              "3  5299   1920-09-17  Over the Hill to the Poorhouse                 100000   \n",
              "4  5222   1925-01-01                  The Big Parade                 245000   \n",
              "\n",
              "   USD_Worldwide_Gross  USD_Domestic_Gross  USD_Profit  \n",
              "0             11000000            10000000    10890000  \n",
              "1                    0                   0     -385907  \n",
              "2              8000000             8000000     7800000  \n",
              "3              3000000             3000000     2900000  \n",
              "4             22000000            11000000    21755000  "
            ]
          },
          "execution_count": 26,
          "metadata": {},
          "output_type": "execute_result"
        }
      ],
      "source": [
        "# import seaborn as sns\n",
        "data_clean[:5]"
      ]
    },
    {
      "cell_type": "markdown",
      "metadata": {
        "id": "e7NIOiL2y3en"
      },
      "source": [
        "### Plotting Movie Releases over Time\n",
        "\n",
        "**Challenge**: Try to create the following Bubble Chart:\n",
        "\n",
        "<img src=https://i.imgur.com/8fUn9T6.png height=400>\n",
        "\n"
      ]
    },
    {
      "cell_type": "code",
      "execution_count": 27,
      "metadata": {},
      "outputs": [
        {
          "data": {
            "image/png": "[encoded data removed]",
            "text/plain": [
              "<Figure size 800x400 with 1 Axes>"
            ]
          },
          "metadata": {},
          "output_type": "display_data"
        }
      ],
      "source": [
        "# Make the buble chart above\n",
        "plt.figure(figsize=(8, 4), dpi=100)\n",
        "\n",
        "with sns.axes_style(\"darkgrid\"):\n",
        "    ax = sns.scatterplot(\n",
        "       data=data_clean,\n",
        "       x=\"Release_Date\", \n",
        "       y=\"USD_Production_Budget\", \n",
        "       hue=\"USD_Worldwide_Gross\",\n",
        "       size=\"USD_Worldwide_Gross\"\n",
        "    )\n",
        "ax.set(\n",
        "    xlim=(data_clean[\"Release_Date\"].min(), data_clean[\"Release_Date\"].max()),\n",
        "    ylim=(0, 450000000),\n",
        "    xlabel=\"Year\",\n",
        "    ylabel=\"Budget in $ billions\"\n",
        ")\n",
        "plt.show()"
      ]
    },
    {
      "cell_type": "markdown",
      "metadata": {},
      "source": [
        "Notice how we are representing 3 dimensions in this chart: the budget, the release date, and the worldwide revenue.\n",
        "\n",
        "The movie budgets have increased a lot between 1990 and 2018."
      ]
    },
    {
      "cell_type": "markdown",
      "metadata": {
        "id": "r_2hFz9py84b"
      },
      "source": [
        "# Converting Years to Decades Trick\n",
        "\n",
        "**Challenge**: Create a column in `data_clean` that has the decade of the release. \n",
        "\n",
        "<img src=https://i.imgur.com/0VEfagw.png width=650> \n",
        "\n",
        "Here's how: \n",
        "1. Create a [`DatetimeIndex` object](https://pandas.pydata.org/pandas-docs/stable/reference/api/pandas.DatetimeIndex.html) from the Release_Date column. \n",
        "2. Grab all the years from the `DatetimeIndex` object using the `.year` property.\n",
        "<img src=https://i.imgur.com/5m06Ach.png width=650>\n",
        "3. Use floor division `//` to convert the year data to the decades of the films.\n",
        "4. Add the decades as a `Decade` column to the `data_clean` DataFrame."
      ]
    },
    {
      "cell_type": "code",
      "execution_count": 28,
      "metadata": {},
      "outputs": [
        {
          "data": {
            "text/html": [
              "<div>\n",
              "<style scoped>\n",
              "    .dataframe tbody tr th:only-of-type {\n",
              "        vertical-align: middle;\n",
              "    }\n",
              "\n",
              "    .dataframe tbody tr th {\n",
              "        vertical-align: top;\n",
              "    }\n",
              "\n",
              "    .dataframe thead th {\n",
              "        text-align: right;\n",
              "    }\n",
              "</style>\n",
              "<table border=\"1\" class=\"dataframe\">\n",
              "  <thead>\n",
              "    <tr style=\"text-align: right;\">\n",
              "      <th></th>\n",
              "      <th>Decade</th>\n",
              "      <th>Rank</th>\n",
              "      <th>Release_Date</th>\n",
              "      <th>Movie_Title</th>\n",
              "      <th>USD_Production_Budget</th>\n",
              "      <th>USD_Worldwide_Gross</th>\n",
              "      <th>USD_Domestic_Gross</th>\n",
              "      <th>USD_Profit</th>\n",
              "    </tr>\n",
              "  </thead>\n",
              "  <tbody>\n",
              "    <tr>\n",
              "      <th>0</th>\n",
              "      <td>1910</td>\n",
              "      <td>5293</td>\n",
              "      <td>1915-08-02</td>\n",
              "      <td>The Birth of a Nation</td>\n",
              "      <td>110000</td>\n",
              "      <td>11000000</td>\n",
              "      <td>10000000</td>\n",
              "      <td>10890000</td>\n",
              "    </tr>\n",
              "    <tr>\n",
              "      <th>1</th>\n",
              "      <td>1910</td>\n",
              "      <td>5140</td>\n",
              "      <td>1916-05-09</td>\n",
              "      <td>Intolerance</td>\n",
              "      <td>385907</td>\n",
              "      <td>0</td>\n",
              "      <td>0</td>\n",
              "      <td>-385907</td>\n",
              "    </tr>\n",
              "    <tr>\n",
              "      <th>2</th>\n",
              "      <td>1910</td>\n",
              "      <td>5230</td>\n",
              "      <td>1916-12-24</td>\n",
              "      <td>20,000 Leagues Under the Sea</td>\n",
              "      <td>200000</td>\n",
              "      <td>8000000</td>\n",
              "      <td>8000000</td>\n",
              "      <td>7800000</td>\n",
              "    </tr>\n",
              "    <tr>\n",
              "      <th>3</th>\n",
              "      <td>1920</td>\n",
              "      <td>5299</td>\n",
              "      <td>1920-09-17</td>\n",
              "      <td>Over the Hill to the Poorhouse</td>\n",
              "      <td>100000</td>\n",
              "      <td>3000000</td>\n",
              "      <td>3000000</td>\n",
              "      <td>2900000</td>\n",
              "    </tr>\n",
              "  </tbody>\n",
              "</table>\n",
              "</div>"
            ],
            "text/plain": [
              "   Decade  Rank Release_Date                     Movie_Title  \\\n",
              "0    1910  5293   1915-08-02           The Birth of a Nation   \n",
              "1    1910  5140   1916-05-09                     Intolerance   \n",
              "2    1910  5230   1916-12-24    20,000 Leagues Under the Sea   \n",
              "3    1920  5299   1920-09-17  Over the Hill to the Poorhouse   \n",
              "\n",
              "   USD_Production_Budget  USD_Worldwide_Gross  USD_Domestic_Gross  USD_Profit  \n",
              "0                 110000             11000000            10000000    10890000  \n",
              "1                 385907                    0                   0     -385907  \n",
              "2                 200000              8000000             8000000     7800000  \n",
              "3                 100000              3000000             3000000     2900000  "
            ]
          },
          "execution_count": 28,
          "metadata": {},
          "output_type": "execute_result"
        }
      ],
      "source": [
        "dt_index = pd.DatetimeIndex(data_clean.loc[:,\"Release_Date\"].copy())\n",
        "decades = dt_index.year // 10 * 10\n",
        "data_clean.insert(loc=0, column=\"Decade\", value=decades)\n",
        "data_clean[:4]"
      ]
    },
    {
      "cell_type": "markdown",
      "metadata": {
        "id": "q-X7NK_9zIz9"
      },
      "source": [
        "### Separate the \"old\" (before 1969) and \"New\" (1970s onwards) Films\n",
        "\n",
        "**Challenge**: Create two new DataFrames: `old_films` and `new_films`\n",
        "* `old_films` should include all the films before 1969 (up to and including 1969)\n",
        "* `new_films` should include all the films from 1970 onwards\n",
        "* How many films were released prior to 1970?\n",
        "* What was the most expensive film made prior to 1970?"
      ]
    },
    {
      "cell_type": "code",
      "execution_count": 29,
      "metadata": {
        "id": "qe93nMcBTqQz"
      },
      "outputs": [
        {
          "name": "stdout",
          "output_type": "stream",
          "text": [
            "Number of films released prior to 1970 (1915-1969): 153\n",
            "The most expensive film made prior to 1970:  Cleopatra\n",
            "\n",
            "Number of films released after 1970 (1970-2017): 5231\n",
            "The most expensive film made after 1970:  Avatar\n"
          ]
        }
      ],
      "source": [
        "old_films = data_clean.query('Decade <= 1960')\n",
        "new_films = data_clean.query('Decade >= 1970')\n",
        "\n",
        "print(f\"Number of films released prior to 1970 ({old_films.Release_Date.min().year}-{old_films.Release_Date.max().year}):\", old_films.shape[0])\n",
        "print(\"The most expensive film made prior to 1970: \", old_films.loc[old_films[\"USD_Production_Budget\"].idxmax(),:][\"Movie_Title\"])\n",
        "\n",
        "print(f\"\\nNumber of films released after 1970 ({new_films.Release_Date.min().year}-{new_films.Release_Date.max().year}):\", new_films.shape[0])\n",
        "print(\"The most expensive film made after 1970: \", new_films.loc[new_films[\"USD_Production_Budget\"].idxmax(),:][\"Movie_Title\"])"
      ]
    },
    {
      "cell_type": "markdown",
      "metadata": {
        "id": "msXABzF3zW7e"
      },
      "source": [
        "# Seaborn Regression Plots"
      ]
    },
    {
      "cell_type": "code",
      "execution_count": 30,
      "metadata": {
        "id": "2ajPcWMJTsom"
      },
      "outputs": [
        {
          "data": {
            "image/png": "[encoded data removed]",
            "text/plain": [
              "<Figure size 1600x800 with 1 Axes>"
            ]
          },
          "metadata": {},
          "output_type": "display_data"
        }
      ],
      "source": [
        "# Visualise the relationship between budget and world wide revenue using linear regression. Seaborn's .regplot() method creates a scatter plot with a linear regression line together with the confindence interval.\n",
        "plt.figure(figsize=(8, 4), dpi=200)\n",
        "with sns.axes_style(style=\"darkgrid\"):\n",
        "    ax = sns.regplot(\n",
        "        data=old_films,\n",
        "        x=\"USD_Production_Budget\",\n",
        "        y=\"USD_Worldwide_Gross\",\n",
        "        scatter_kws={\"alpha\": 0.4},  # Transparency of the dots\n",
        "        line_kws={\"color\": \"black\"}\n",
        "    )\n",
        "    ax.set_title(\"Old films\", fontdict={\"size\": 16})\n",
        "plt.show()"
      ]
    },
    {
      "cell_type": "markdown",
      "metadata": {
        "id": "6k4MeLmxWFwX"
      },
      "source": [
        "**Challenge**: Use Seaborn's `.regplot()` to show the scatter plot and linear regression line against the `new_films`. \n",
        "<br><br>\n",
        "Style the chart\n",
        "\n",
        "* Put the chart on a `'darkgrid'`.\n",
        "* Set limits on the axes so that they don't show negative values.\n",
        "* Label the axes on the plot \"Revenue in \\$ billions\" and \"Budget in \\$ millions\".\n",
        "* Provide HEX colour codes for the plot and the regression line. Make the dots dark blue (#2f4b7c) and the line orange (#ff7c43).\n",
        "\n",
        "Interpret the chart\n",
        "\n",
        "* **Do our data points for the new films align better or worse with the linear regression than for our older films?** Yes, the regression line seems to align better with the new movies, compared to the old movies. The confidence interval is also narrower.\n",
        "* **Roughly how much would a film with a budget of $150 million make according to the regression line?**\n",
        "According to the regression line, a movie with a budget of $150 million would make almost $0.5 billion."
      ]
    },
    {
      "cell_type": "code",
      "execution_count": 31,
      "metadata": {
        "id": "6cOVsxqvTui2"
      },
      "outputs": [
        {
          "data": {
            "image/png": "[encoded data removed]",
            "text/plain": [
              "<Figure size 1600x800 with 1 Axes>"
            ]
          },
          "metadata": {},
          "output_type": "display_data"
        }
      ],
      "source": [
        "plt.figure(figsize=(8, 4), dpi=200)\n",
        "with sns.axes_style(\"darkgrid\"):\n",
        "    ax = sns.regplot(\n",
        "        data=new_films,\n",
        "        y=\"USD_Worldwide_Gross\",\n",
        "        x=\"USD_Production_Budget\",\n",
        "        scatter_kws={\"alpha\": 0.4, \"color\": \"#2f4b7c\"},\n",
        "        line_kws={\"color\": \"#ff7c43\"}\n",
        "    )\n",
        "    ax.set(\n",
        "        ylim=(0, 3000000000),\n",
        "        xlim=(0, 450000000),\n",
        "        ylabel=\"Revenue in $ billions\",\n",
        "        xlabel=\"Budget in $100 millions\"\n",
        "    )\n",
        "    ax.set_title(\"New movies\", size=16)\n",
        "\n",
        "plt.show()"
      ]
    },
    {
      "cell_type": "markdown",
      "metadata": {
        "id": "Q1SUPPMAzlVK"
      },
      "source": [
        "# Run Your Own Regression with scikit-learn\n",
        "\n",
        "Using our data on budgets, the linear regression estimates the best possible line to fit our movie revenues. The regression line has the following structure:\n",
        "\n",
        "$$ REV \\hat ENUE = \\theta _0 + \\theta _1 BUDGET$$\n"
      ]
    },
    {
      "cell_type": "code",
      "execution_count": null,
      "metadata": {
        "id": "QmX-wMMLTwBW"
      },
      "outputs": [],
      "source": []
    },
    {
      "cell_type": "markdown",
      "metadata": {
        "id": "o23E9iT1RHQ1"
      },
      "source": [
        "**Challenge**: Run a linear regression for the `old_films`. Calculate the intercept, slope and r-squared. How much of the variance in movie revenue does the linear model explain in this case?"
      ]
    },
    {
      "cell_type": "code",
      "execution_count": null,
      "metadata": {
        "id": "Sd43DJNDT0yQ"
      },
      "outputs": [],
      "source": []
    },
    {
      "cell_type": "code",
      "execution_count": null,
      "metadata": {
        "id": "ygKsLBx5Rs7t"
      },
      "outputs": [],
      "source": []
    },
    {
      "cell_type": "markdown",
      "metadata": {
        "id": "hoD3PeG75p78"
      },
      "source": [
        "# Use Your Model to Make a Prediction\n",
        "\n",
        "We just estimated the slope and intercept! Remember that our Linear Model has the following form:\n",
        "\n",
        "$$ REV \\hat ENUE = \\theta _0 + \\theta _1 BUDGET$$\n",
        "\n",
        "**Challenge**:  How much global revenue does our model estimate for a film with a budget of $350 million? "
      ]
    },
    {
      "cell_type": "code",
      "execution_count": null,
      "metadata": {
        "id": "fX4I4h5i5rgF"
      },
      "outputs": [],
      "source": []
    },
    {
      "cell_type": "code",
      "execution_count": null,
      "metadata": {
        "id": "fB2Yp8ln5qfO"
      },
      "outputs": [],
      "source": []
    }
  ],
  "metadata": {
    "colab": {
      "name": "Seaborn and Linear Regression (start).ipynb",
      "provenance": []
    },
    "kernelspec": {
      "display_name": "Python 3",
      "name": "python3"
    },
    "language_info": {
      "codemirror_mode": {
        "name": "ipython",
        "version": 3
      },
      "file_extension": ".py",
      "mimetype": "text/x-python",
      "name": "python",
      "nbconvert_exporter": "python",
      "pygments_lexer": "ipython3",
      "version": "3.11.1"
    }
  },
  "nbformat": 4,
  "nbformat_minor": 0
}
